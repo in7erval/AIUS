{
 "cells": [
  {
   "cell_type": "markdown",
   "source": [
    "# Качаем файл"
   ],
   "metadata": {
    "collapsed": false
   }
  },
  {
   "cell_type": "code",
   "execution_count": 139,
   "metadata": {
    "collapsed": true
   },
   "outputs": [],
   "source": [
    "import math\n",
    "\n",
    "import requests"
   ]
  },
  {
   "cell_type": "code",
   "execution_count": 140,
   "outputs": [],
   "source": [
    "fname_dat = 'checkins.dat'\n",
    "fname = 'checkins.csv'"
   ],
   "metadata": {
    "collapsed": false,
    "pycharm": {
     "name": "#%%\n"
    }
   }
  },
  {
   "cell_type": "code",
   "execution_count": 141,
   "outputs": [],
   "source": [
    "# URL = \"https://archive.org/download/201309_foursquare_dataset_umn/fsq.zip/umn_foursquare_datasets%2Fcheckins.dat\"\n",
    "# r = requests.get(URL, stream=True)\n",
    "# r.content"
   ],
   "metadata": {
    "collapsed": false,
    "pycharm": {
     "name": "#%%\n"
    }
   }
  },
  {
   "cell_type": "markdown",
   "source": [
    "> Качалось архидолго, поэтому качнули с торрентом"
   ],
   "metadata": {
    "collapsed": false
   }
  },
  {
   "cell_type": "markdown",
   "source": [
    "# Конвертируем .dat в .csv"
   ],
   "metadata": {
    "collapsed": false
   }
  },
  {
   "cell_type": "code",
   "execution_count": 142,
   "outputs": [],
   "source": [
    "import csv"
   ],
   "metadata": {
    "collapsed": false,
    "pycharm": {
     "name": "#%%\n"
    }
   }
  },
  {
   "cell_type": "code",
   "execution_count": 143,
   "outputs": [],
   "source": [
    "with open(fname_dat) as dat_file, open(fname, 'w') as csv_file:\n",
    "    csv_writer = csv.writer(csv_file)\n",
    "    for line in dat_file:\n",
    "        row = [field.strip() for field in line.split('|')]\n",
    "        if len(row) == 6 and row[3] and row[4]:\n",
    "            csv_writer.writerow(row)"
   ],
   "metadata": {
    "collapsed": false,
    "pycharm": {
     "name": "#%%\n"
    }
   }
  },
  {
   "cell_type": "markdown",
   "source": [
    "> фууух нормально сработали можно и отдохнуть"
   ],
   "metadata": {
    "collapsed": false
   }
  },
  {
   "cell_type": "markdown",
   "source": [
    "# Читаем файл .csv в DataFrame"
   ],
   "metadata": {
    "collapsed": false
   }
  },
  {
   "cell_type": "code",
   "execution_count": 144,
   "outputs": [],
   "source": [
    "import pandas as pd"
   ],
   "metadata": {
    "collapsed": false,
    "pycharm": {
     "name": "#%%\n"
    }
   }
  },
  {
   "cell_type": "code",
   "execution_count": 145,
   "outputs": [
    {
     "data": {
      "text/plain": "            id  user_id  venue_id   latitude   longitude           created_at\n0       984222    15824      5222  38.895112  -77.036366  2012-04-21 17:43:47\n1       984234    44652      5222  33.800745  -84.410520  2012-04-21 17:43:43\n2       984291   105054      5222  45.523452 -122.676207  2012-04-21 17:39:22\n3       984318  2146539      5222  40.764462 -111.904565  2012-04-21 17:35:46\n4       984232    93870    380645  33.448377 -112.074037  2012-04-21 17:38:18\n...        ...      ...       ...        ...         ...                  ...\n396629  955561   626076     20073  40.850100  -73.866246  2012-04-13 09:56:48\n396630  955892   674797      2297  33.748995  -84.387982  2012-04-13 10:56:03\n396631  956377   845102     11195  42.765366  -71.467566  2012-04-13 12:08:45\n396632  956119  1139114     29488  42.439479  -83.743830  2012-04-13 11:36:44\n396633  956733   960666        60  42.331427  -83.045754  2012-04-13 21:56:19\n\n[396634 rows x 6 columns]",
      "text/html": "<div>\n<style scoped>\n    .dataframe tbody tr th:only-of-type {\n        vertical-align: middle;\n    }\n\n    .dataframe tbody tr th {\n        vertical-align: top;\n    }\n\n    .dataframe thead th {\n        text-align: right;\n    }\n</style>\n<table border=\"1\" class=\"dataframe\">\n  <thead>\n    <tr style=\"text-align: right;\">\n      <th></th>\n      <th>id</th>\n      <th>user_id</th>\n      <th>venue_id</th>\n      <th>latitude</th>\n      <th>longitude</th>\n      <th>created_at</th>\n    </tr>\n  </thead>\n  <tbody>\n    <tr>\n      <th>0</th>\n      <td>984222</td>\n      <td>15824</td>\n      <td>5222</td>\n      <td>38.895112</td>\n      <td>-77.036366</td>\n      <td>2012-04-21 17:43:47</td>\n    </tr>\n    <tr>\n      <th>1</th>\n      <td>984234</td>\n      <td>44652</td>\n      <td>5222</td>\n      <td>33.800745</td>\n      <td>-84.410520</td>\n      <td>2012-04-21 17:43:43</td>\n    </tr>\n    <tr>\n      <th>2</th>\n      <td>984291</td>\n      <td>105054</td>\n      <td>5222</td>\n      <td>45.523452</td>\n      <td>-122.676207</td>\n      <td>2012-04-21 17:39:22</td>\n    </tr>\n    <tr>\n      <th>3</th>\n      <td>984318</td>\n      <td>2146539</td>\n      <td>5222</td>\n      <td>40.764462</td>\n      <td>-111.904565</td>\n      <td>2012-04-21 17:35:46</td>\n    </tr>\n    <tr>\n      <th>4</th>\n      <td>984232</td>\n      <td>93870</td>\n      <td>380645</td>\n      <td>33.448377</td>\n      <td>-112.074037</td>\n      <td>2012-04-21 17:38:18</td>\n    </tr>\n    <tr>\n      <th>...</th>\n      <td>...</td>\n      <td>...</td>\n      <td>...</td>\n      <td>...</td>\n      <td>...</td>\n      <td>...</td>\n    </tr>\n    <tr>\n      <th>396629</th>\n      <td>955561</td>\n      <td>626076</td>\n      <td>20073</td>\n      <td>40.850100</td>\n      <td>-73.866246</td>\n      <td>2012-04-13 09:56:48</td>\n    </tr>\n    <tr>\n      <th>396630</th>\n      <td>955892</td>\n      <td>674797</td>\n      <td>2297</td>\n      <td>33.748995</td>\n      <td>-84.387982</td>\n      <td>2012-04-13 10:56:03</td>\n    </tr>\n    <tr>\n      <th>396631</th>\n      <td>956377</td>\n      <td>845102</td>\n      <td>11195</td>\n      <td>42.765366</td>\n      <td>-71.467566</td>\n      <td>2012-04-13 12:08:45</td>\n    </tr>\n    <tr>\n      <th>396632</th>\n      <td>956119</td>\n      <td>1139114</td>\n      <td>29488</td>\n      <td>42.439479</td>\n      <td>-83.743830</td>\n      <td>2012-04-13 11:36:44</td>\n    </tr>\n    <tr>\n      <th>396633</th>\n      <td>956733</td>\n      <td>960666</td>\n      <td>60</td>\n      <td>42.331427</td>\n      <td>-83.045754</td>\n      <td>2012-04-13 21:56:19</td>\n    </tr>\n  </tbody>\n</table>\n<p>396634 rows × 6 columns</p>\n</div>"
     },
     "execution_count": 145,
     "metadata": {},
     "output_type": "execute_result"
    }
   ],
   "source": [
    "df = pd.read_csv(fname, )\n",
    "df"
   ],
   "metadata": {
    "collapsed": false,
    "pycharm": {
     "name": "#%%\n"
    }
   }
  },
  {
   "cell_type": "code",
   "execution_count": 146,
   "outputs": [
    {
     "data": {
      "text/plain": "396634"
     },
     "execution_count": 146,
     "metadata": {},
     "output_type": "execute_result"
    }
   ],
   "source": [
    "len(df)"
   ],
   "metadata": {
    "collapsed": false,
    "pycharm": {
     "name": "#%%\n"
    }
   }
  },
  {
   "cell_type": "markdown",
   "source": [
    "> количество строк == 396634 как и нужно"
   ],
   "metadata": {
    "collapsed": false
   }
  },
  {
   "cell_type": "markdown",
   "source": [
    "# Готовим данные"
   ],
   "metadata": {
    "collapsed": false
   }
  },
  {
   "cell_type": "code",
   "execution_count": 147,
   "outputs": [
    {
     "data": {
      "text/plain": "(0    38.895112\n 1    33.800745\n 2    45.523452\n 3    40.764462\n 4    33.448377\n Name: latitude, dtype: float64,\n 0    -77.036366\n 1    -84.410520\n 2   -122.676207\n 3   -111.904565\n 4   -112.074037\n Name: longitude, dtype: float64)"
     },
     "execution_count": 147,
     "metadata": {},
     "output_type": "execute_result"
    }
   ],
   "source": [
    "lat = df['latitude'].loc[:]\n",
    "long = df['longitude'].loc[:]\n",
    "lat[:5], long[:5]"
   ],
   "metadata": {
    "collapsed": false,
    "pycharm": {
     "name": "#%%\n"
    }
   }
  },
  {
   "cell_type": "code",
   "execution_count": 148,
   "outputs": [
    {
     "data": {
      "text/plain": "[[38.895111799999995, -77.0363658],\n [33.800745, -84.41051999999999],\n [45.5234515, -122.6762071],\n [40.764462, -111.90456499999999],\n [33.4483771, -112.07403729999999]]"
     },
     "execution_count": 148,
     "metadata": {},
     "output_type": "execute_result"
    }
   ],
   "source": [
    "size = 100000  # len(lat) -- ждать час долго((\n",
    "data = []\n",
    "for i in range(size):\n",
    "    data.append([lat[i], long[i]])\n",
    "data[:5]"
   ],
   "metadata": {
    "collapsed": false,
    "pycharm": {
     "name": "#%%\n"
    }
   }
  },
  {
   "cell_type": "markdown",
   "source": [
    "# Отрисуем координаты"
   ],
   "metadata": {
    "collapsed": false
   }
  },
  {
   "cell_type": "code",
   "execution_count": 149,
   "outputs": [],
   "source": [
    "import matplotlib.pyplot as plt"
   ],
   "metadata": {
    "collapsed": false,
    "pycharm": {
     "name": "#%%\n"
    }
   }
  },
  {
   "cell_type": "code",
   "execution_count": 150,
   "outputs": [
    {
     "data": {
      "text/plain": "<matplotlib.collections.PathCollection at 0x7f868db02d00>"
     },
     "execution_count": 150,
     "metadata": {},
     "output_type": "execute_result"
    },
    {
     "data": {
      "text/plain": "<Figure size 432x288 with 1 Axes>",
      "image/png": "[encoded data removed]"
     },
     "metadata": {
      "needs_background": "light"
     },
     "output_type": "display_data"
    }
   ],
   "source": [
    "plt.scatter(long, lat, s=1)"
   ],
   "metadata": {
    "collapsed": false,
    "pycharm": {
     "name": "#%%\n"
    }
   }
  },
  {
   "cell_type": "markdown",
   "source": [
    "> красивое"
   ],
   "metadata": {
    "collapsed": false
   }
  },
  {
   "cell_type": "markdown",
   "source": [
    "# Разбираемся с MeanShift"
   ],
   "metadata": {
    "collapsed": false
   }
  },
  {
   "cell_type": "markdown",
   "source": [
    "> да кто такой этот ваш миншифт"
   ],
   "metadata": {
    "collapsed": false
   }
  },
  {
   "cell_type": "code",
   "execution_count": 151,
   "outputs": [],
   "source": [
    "from sklearn.cluster import MeanShift"
   ],
   "metadata": {
    "collapsed": false,
    "pycharm": {
     "name": "#%%\n"
    }
   }
  },
  {
   "cell_type": "code",
   "execution_count": 152,
   "outputs": [],
   "source": [
    "ms = MeanShift(bandwidth=0.1)"
   ],
   "metadata": {
    "collapsed": false,
    "pycharm": {
     "name": "#%%\n"
    }
   }
  },
  {
   "cell_type": "code",
   "execution_count": 153,
   "outputs": [
    {
     "data": {
      "text/plain": "MeanShift(bandwidth=0.1)"
     },
     "execution_count": 153,
     "metadata": {},
     "output_type": "execute_result"
    }
   ],
   "source": [
    "ms.fit(data)"
   ],
   "metadata": {
    "collapsed": false,
    "pycharm": {
     "name": "#%%\n"
    }
   }
  },
  {
   "cell_type": "code",
   "execution_count": 154,
   "outputs": [
    {
     "name": "stdout",
     "output_type": "stream",
     "text": [
      "Количество кластеров = 3231\n"
     ]
    }
   ],
   "source": [
    "centers = ms.cluster_centers_\n",
    "print(f'Количество кластеров = {len(centers)}')"
   ],
   "metadata": {
    "collapsed": false,
    "pycharm": {
     "name": "#%%\n"
    }
   }
  },
  {
   "cell_type": "code",
   "execution_count": 155,
   "outputs": [
    {
     "data": {
      "text/plain": "<matplotlib.collections.PathCollection at 0x7f86a7384a90>"
     },
     "execution_count": 155,
     "metadata": {},
     "output_type": "execute_result"
    },
    {
     "data": {
      "text/plain": "<Figure size 432x288 with 1 Axes>",
      "image/png": "[encoded data removed]"
     },
     "metadata": {
      "needs_background": "light"
     },
     "output_type": "display_data"
    }
   ],
   "source": [
    "plt.scatter([i[1] for i in centers], [i[0] for i in centers], s=1)"
   ],
   "metadata": {
    "collapsed": false,
    "pycharm": {
     "name": "#%%\n"
    }
   }
  },
  {
   "cell_type": "markdown",
   "source": [
    "# Отфильтруем кластеры"
   ],
   "metadata": {
    "collapsed": false
   }
  },
  {
   "cell_type": "code",
   "execution_count": 156,
   "outputs": [
    {
     "data": {
      "text/plain": "array([[  40.7177164 ,  -73.99183542],\n       [  33.44943805, -112.00213969],\n       [  33.44638027, -111.90188756],\n       ...,\n       [ -37.8229826 ,  145.1811902 ],\n       [ -41.2924945 ,  174.7732353 ],\n       [ -45.0311622 ,  168.6626435 ]])"
     },
     "execution_count": 156,
     "metadata": {},
     "output_type": "execute_result"
    }
   ],
   "source": [
    "ms.cluster_centers_"
   ],
   "metadata": {
    "collapsed": false,
    "pycharm": {
     "name": "#%%\n"
    }
   }
  },
  {
   "cell_type": "code",
   "execution_count": 157,
   "outputs": [
    {
     "data": {
      "text/plain": "(True, 3231)"
     },
     "execution_count": 157,
     "metadata": {},
     "output_type": "execute_result"
    }
   ],
   "source": [
    "clusters = dict()\n",
    "for i, label in enumerate(ms.labels_):\n",
    "    if label not in clusters.keys():\n",
    "        clusters[label] = {(data[i][0], data[i][1])}\n",
    "    else:\n",
    "        clusters[label].add((data[i][0], data[i][1]))\n",
    "len(clusters.keys()) == len(ms.cluster_centers_), len(clusters.keys())"
   ],
   "metadata": {
    "collapsed": false,
    "pycharm": {
     "name": "#%%\n"
    }
   }
  },
  {
   "cell_type": "code",
   "execution_count": 158,
   "outputs": [
    {
     "data": {
      "text/plain": "    label  length                                             coords  \\\n0       0      54  ((40.7064461, -73.9536163), (40.6805029, -73.9...   \n1       5      24  ((38.904151, -77.033172), (38.8514028, -77.050...   \n2       8      31  ((42.408430200000005, -71.0119948), (42.28582,...   \n3      14      41  ((40.7108476, -73.8977693), (40.7620463, -73.7...   \n4      24      18  ((34.101418, -118.33659499999999), (34.1489719...   \n5      42      18  ((33.884736100000005, -118.41090890000001), (3...   \n6      48      29  ((40.8120447, -74.12430959999999), (40.833989,...   \n7      52      23  ((40.847322600000005, -73.7865218), (40.897599...   \n8      58      20  ((51.489112, -0.1106702), (51.4929163, -0.2257...   \n9      61      42  ((40.735101799999995, -73.68790820000001), (40...   \n10     74      25  ((40.957727399999996, -73.8096466), (41.040833...   \n11     79      18  ((41.9672532, -87.80756120000001), (42.0411414...   \n12     80      27  ((41.8897519, -87.98895429999999), (41.9353082...   \n13     83      20  ((40.6764911, -74.2907032), (40.6857016, -74.3...   \n14     90      23  ((34.1383333, -118.6608333), (34.2822133999999...   \n15    152      18  ((40.7539878, -73.360398), (40.6789893, -73.41...   \n16    199      27  ((41.1148179, -74.14958890000001), (41.0234304...   \n17    231      27  ((40.916765399999996, -74.171811), (41.0106528...   \n18    344      18  ((39.8774, -75.344139), (39.8898346, -75.32518...   \n\n    center_longitude  center_latitude  \n0          40.717716       -73.991835  \n1          38.886165       -77.048783  \n2          42.363219       -71.073688  \n3          40.766876       -73.833353  \n4          34.127402      -118.351884  \n5          33.872986      -118.362091  \n6          40.766668       -74.192496  \n7          40.870148       -73.859389  \n8          51.502991        -0.125537  \n9          40.708071       -73.584400  \n10         40.984718       -73.774239  \n11         42.065201       -87.807622  \n12         41.854357       -87.856900  \n13         40.725810       -74.299196  \n14         34.198182      -118.549277  \n15         40.724221       -73.400037  \n16         41.130756       -73.999617  \n17         40.947984       -74.273485  \n18         39.918617       -75.338171  ",
      "text/html": "<div>\n<style scoped>\n    .dataframe tbody tr th:only-of-type {\n        vertical-align: middle;\n    }\n\n    .dataframe tbody tr th {\n        vertical-align: top;\n    }\n\n    .dataframe thead th {\n        text-align: right;\n    }\n</style>\n<table border=\"1\" class=\"dataframe\">\n  <thead>\n    <tr style=\"text-align: right;\">\n      <th></th>\n      <th>label</th>\n      <th>length</th>\n      <th>coords</th>\n      <th>center_longitude</th>\n      <th>center_latitude</th>\n    </tr>\n  </thead>\n  <tbody>\n    <tr>\n      <th>0</th>\n      <td>0</td>\n      <td>54</td>\n      <td>((40.7064461, -73.9536163), (40.6805029, -73.9...</td>\n      <td>40.717716</td>\n      <td>-73.991835</td>\n    </tr>\n    <tr>\n      <th>1</th>\n      <td>5</td>\n      <td>24</td>\n      <td>((38.904151, -77.033172), (38.8514028, -77.050...</td>\n      <td>38.886165</td>\n      <td>-77.048783</td>\n    </tr>\n    <tr>\n      <th>2</th>\n      <td>8</td>\n      <td>31</td>\n      <td>((42.408430200000005, -71.0119948), (42.28582,...</td>\n      <td>42.363219</td>\n      <td>-71.073688</td>\n    </tr>\n    <tr>\n      <th>3</th>\n      <td>14</td>\n      <td>41</td>\n      <td>((40.7108476, -73.8977693), (40.7620463, -73.7...</td>\n      <td>40.766876</td>\n      <td>-73.833353</td>\n    </tr>\n    <tr>\n      <th>4</th>\n      <td>24</td>\n      <td>18</td>\n      <td>((34.101418, -118.33659499999999), (34.1489719...</td>\n      <td>34.127402</td>\n      <td>-118.351884</td>\n    </tr>\n    <tr>\n      <th>5</th>\n      <td>42</td>\n      <td>18</td>\n      <td>((33.884736100000005, -118.41090890000001), (3...</td>\n      <td>33.872986</td>\n      <td>-118.362091</td>\n    </tr>\n    <tr>\n      <th>6</th>\n      <td>48</td>\n      <td>29</td>\n      <td>((40.8120447, -74.12430959999999), (40.833989,...</td>\n      <td>40.766668</td>\n      <td>-74.192496</td>\n    </tr>\n    <tr>\n      <th>7</th>\n      <td>52</td>\n      <td>23</td>\n      <td>((40.847322600000005, -73.7865218), (40.897599...</td>\n      <td>40.870148</td>\n      <td>-73.859389</td>\n    </tr>\n    <tr>\n      <th>8</th>\n      <td>58</td>\n      <td>20</td>\n      <td>((51.489112, -0.1106702), (51.4929163, -0.2257...</td>\n      <td>51.502991</td>\n      <td>-0.125537</td>\n    </tr>\n    <tr>\n      <th>9</th>\n      <td>61</td>\n      <td>42</td>\n      <td>((40.735101799999995, -73.68790820000001), (40...</td>\n      <td>40.708071</td>\n      <td>-73.584400</td>\n    </tr>\n    <tr>\n      <th>10</th>\n      <td>74</td>\n      <td>25</td>\n      <td>((40.957727399999996, -73.8096466), (41.040833...</td>\n      <td>40.984718</td>\n      <td>-73.774239</td>\n    </tr>\n    <tr>\n      <th>11</th>\n      <td>79</td>\n      <td>18</td>\n      <td>((41.9672532, -87.80756120000001), (42.0411414...</td>\n      <td>42.065201</td>\n      <td>-87.807622</td>\n    </tr>\n    <tr>\n      <th>12</th>\n      <td>80</td>\n      <td>27</td>\n      <td>((41.8897519, -87.98895429999999), (41.9353082...</td>\n      <td>41.854357</td>\n      <td>-87.856900</td>\n    </tr>\n    <tr>\n      <th>13</th>\n      <td>83</td>\n      <td>20</td>\n      <td>((40.6764911, -74.2907032), (40.6857016, -74.3...</td>\n      <td>40.725810</td>\n      <td>-74.299196</td>\n    </tr>\n    <tr>\n      <th>14</th>\n      <td>90</td>\n      <td>23</td>\n      <td>((34.1383333, -118.6608333), (34.2822133999999...</td>\n      <td>34.198182</td>\n      <td>-118.549277</td>\n    </tr>\n    <tr>\n      <th>15</th>\n      <td>152</td>\n      <td>18</td>\n      <td>((40.7539878, -73.360398), (40.6789893, -73.41...</td>\n      <td>40.724221</td>\n      <td>-73.400037</td>\n    </tr>\n    <tr>\n      <th>16</th>\n      <td>199</td>\n      <td>27</td>\n      <td>((41.1148179, -74.14958890000001), (41.0234304...</td>\n      <td>41.130756</td>\n      <td>-73.999617</td>\n    </tr>\n    <tr>\n      <th>17</th>\n      <td>231</td>\n      <td>27</td>\n      <td>((40.916765399999996, -74.171811), (41.0106528...</td>\n      <td>40.947984</td>\n      <td>-74.273485</td>\n    </tr>\n    <tr>\n      <th>18</th>\n      <td>344</td>\n      <td>18</td>\n      <td>((39.8774, -75.344139), (39.8898346, -75.32518...</td>\n      <td>39.918617</td>\n      <td>-75.338171</td>\n    </tr>\n  </tbody>\n</table>\n</div>"
     },
     "execution_count": 158,
     "metadata": {},
     "output_type": "execute_result"
    }
   ],
   "source": [
    "THRESHOLD = 15\n",
    "data_to_pd_clusters_length = []\n",
    "clusters_keys_list = sorted(list(clusters.keys()))\n",
    "\n",
    "for i, _ in enumerate(clusters_keys_list):\n",
    "    key = clusters_keys_list[i]\n",
    "\n",
    "    data_to_pd_clusters_length.append(\n",
    "        [key, len(clusters[key]), tuple(clusters[key]),\n",
    "         centers[key][0], centers[key][1]])\n",
    "clusters_df = pd.DataFrame(data_to_pd_clusters_length,\n",
    "                           columns=['label', 'length', 'coords', 'center_longitude', 'center_latitude'])\n",
    "useful_clusters = clusters_df.loc[clusters_df['length'] > THRESHOLD].reset_index(drop=True)\n",
    "useful_clusters"
   ],
   "metadata": {
    "collapsed": false,
    "pycharm": {
     "name": "#%%\n"
    }
   }
  },
  {
   "cell_type": "code",
   "execution_count": 159,
   "outputs": [
    {
     "data": {
      "text/plain": "<matplotlib.collections.PathCollection at 0x7f86a6e0cfd0>"
     },
     "execution_count": 159,
     "metadata": {},
     "output_type": "execute_result"
    },
    {
     "data": {
      "text/plain": "<Figure size 432x288 with 1 Axes>",
      "image/png": "[encoded data removed]"
     },
     "metadata": {
      "needs_background": "light"
     },
     "output_type": "display_data"
    }
   ],
   "source": [
    "plt.scatter(useful_clusters['center_longitude'], useful_clusters['center_latitude'], s=1)"
   ],
   "metadata": {
    "collapsed": false,
    "pycharm": {
     "name": "#%%\n"
    }
   }
  },
  {
   "cell_type": "markdown",
   "source": [
    "# Находим ближайшие к офисам"
   ],
   "metadata": {
    "collapsed": false
   }
  },
  {
   "cell_type": "code",
   "execution_count": 160,
   "outputs": [],
   "source": [
    "offices = [[34.2720355, -118.4693734], [33.7507188, -118.1889072], [27.9450524, -82.4455656],\n",
    "           [39.2650447, -76.6007999], [32.717609, -117.1761962], [37.804883, -122.4016302],\n",
    "           [49.2514431, -123.1277804], [32.7859233, -79.9333731], [30.6860768, -88.0394999],\n",
    "           [26.1216934, -80.1388889], [33.3882696, -111.6913768], [26.0853385, -80.1180988],\n",
    "           [30.0068944, -90.1633797], [29.3075638, -94.7986193], [28.4157244, -80.6310168],\n",
    "           [52.3787031, 4.8849274], [47.3831508, 8.4987319], [41.3905199, 2.1570719],\n",
    "           [50.4356475, 30.5142909], [53.4699633, -2.2947828]]"
   ],
   "metadata": {
    "collapsed": false,
    "pycharm": {
     "name": "#%%\n"
    }
   }
  },
  {
   "cell_type": "code",
   "execution_count": 161,
   "outputs": [],
   "source": [
    "import math\n",
    "distance = lambda coord1, coord2: math.sqrt((coord1[0] - coord2[0])**2 + (coord1[1] - coord2[1])**2)"
   ],
   "metadata": {
    "collapsed": false,
    "pycharm": {
     "name": "#%%\n"
    }
   }
  },
  {
   "cell_type": "code",
   "execution_count": 162,
   "outputs": [],
   "source": [
    "distances_dict = dict()\n",
    "for office in offices:\n",
    "    for clusters_coords in useful_clusters['coords']:\n",
    "        for coord in clusters_coords:\n",
    "            dist = distance(office, (coord[1], coord[0]))\n",
    "            if dist not in distances_dict.keys():\n",
    "                distances_dict[dist] = [coord]\n",
    "            else:\n",
    "                distances_dict[dist].append(coord)"
   ],
   "metadata": {
    "collapsed": false,
    "pycharm": {
     "name": "#%%\n"
    }
   }
  },
  {
   "cell_type": "code",
   "execution_count": 163,
   "outputs": [
    {
     "data": {
      "text/plain": "[54.634760155304356,\n 54.640504151674676,\n 54.656288431232184,\n 54.69617484697593,\n 54.70717025375446,\n 54.71077611998651,\n 54.725436071413256,\n 54.73663159567198,\n 54.74404502947794,\n 54.74873690150091,\n 54.76413098286318,\n 54.771216391394276,\n 54.77404281527019,\n 54.78882870446247,\n 54.79509378860363,\n 54.79599067723418,\n 54.80316377127451,\n 54.804433365788555,\n 54.81132294302883,\n 54.833239329411626]"
     },
     "execution_count": 163,
     "metadata": {},
     "output_type": "execute_result"
    }
   ],
   "source": [
    "min_distances = sorted(list(distances_dict.keys()))[:20]\n",
    "min_distances"
   ],
   "metadata": {
    "collapsed": false,
    "pycharm": {
     "name": "#%%\n"
    }
   }
  },
  {
   "cell_type": "code",
   "execution_count": 164,
   "outputs": [
    {
     "data": {
      "text/plain": "[(51.487198, -0.013279),\n (51.508782000000004, -0.0105222),\n (51.5584299, -0.0069345),\n (51.5457865, -0.0554184),\n (51.54139, -0.06916),\n (51.360124, -0.148147),\n (51.489112, -0.1106702),\n (51.534979799999995, -0.1037379),\n (51.5001524, -0.12623620000000002),\n (51.508129, -0.128005),\n (51.5151238, -0.141769),\n (51.539536, -0.139299),\n (51.539187, -0.142505),\n (51.45678970000001, -0.1926795),\n (51.515958399999995, -0.17494690000000002),\n (51.51658, -0.17565999999999998),\n (51.4799393, -0.19861310000000001),\n (51.5018856, -0.19089479999999998),\n (51.505359000000006, -0.196913),\n (51.4929163, -0.2257916)]"
     },
     "execution_count": 164,
     "metadata": {},
     "output_type": "execute_result"
    }
   ],
   "source": [
    "min_coords = []\n",
    "for min_dist in min_distances:\n",
    "    min_coords.append(distances_dict[min_dist][0] if len(distances_dict[min_dist]) == 1 else distances_dict[min_dist])\n",
    "min_coords"
   ],
   "metadata": {
    "collapsed": false,
    "pycharm": {
     "name": "#%%\n"
    }
   }
  },
  {
   "cell_type": "code",
   "execution_count": 165,
   "outputs": [
    {
     "name": "stdout",
     "output_type": "stream",
     "text": [
      "Ближайшая к офису координата: (51.487198, -0.013279)\n"
     ]
    }
   ],
   "source": [
    "MINIMAL_COORD = min_coords[0]\n",
    "print(f'Ближайшая к офису координата: {MINIMAL_COORD}')"
   ],
   "metadata": {
    "collapsed": false,
    "pycharm": {
     "name": "#%%\n"
    }
   }
  }
 ],
 "metadata": {
  "kernelspec": {
   "display_name": "Python 3",
   "language": "python",
   "name": "python3"
  },
  "language_info": {
   "codemirror_mode": {
    "name": "ipython",
    "version": 2
   },
   "file_extension": ".py",
   "mimetype": "text/x-python",
   "name": "python",
   "nbconvert_exporter": "python",
   "pygments_lexer": "ipython2",
   "version": "2.7.6"
  }
 },
 "nbformat": 4,
 "nbformat_minor": 0
}