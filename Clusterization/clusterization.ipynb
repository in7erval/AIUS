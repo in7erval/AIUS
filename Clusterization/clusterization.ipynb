{
 "cells": [
  {
   "cell_type": "markdown",
   "source": [
    "# Качаем файл"
   ],
   "metadata": {
    "collapsed": false
   }
  },
  {
   "cell_type": "code",
   "execution_count": 2,
   "metadata": {
    "collapsed": true
   },
   "outputs": [],
   "source": [
    "import math\n",
    "\n",
    "import requests"
   ]
  },
  {
   "cell_type": "code",
   "execution_count": 12,
   "outputs": [],
   "source": [
    "fname_dat = 'checkins.dat'\n",
    "fname = 'checkins.csv'"
   ],
   "metadata": {
    "collapsed": false,
    "pycharm": {
     "name": "#%%\n"
    }
   }
  },
  {
   "cell_type": "code",
   "execution_count": null,
   "outputs": [],
   "source": [
    "URL = \"https://archive.org/download/201309_foursquare_dataset_umn/fsq.zip/umn_foursquare_datasets%2Fcheckins.dat\"\n",
    "r = requests.get(URL, stream=True)\n",
    "r.content"
   ],
   "metadata": {
    "collapsed": false,
    "pycharm": {
     "name": "#%%\n"
    }
   }
  },
  {
   "cell_type": "markdown",
   "source": [
    "> Качалось архидолго, поэтому качнули с торрентом"
   ],
   "metadata": {
    "collapsed": false
   }
  },
  {
   "cell_type": "markdown",
   "source": [
    "# Конвертируем .dat в .csv"
   ],
   "metadata": {
    "collapsed": false
   }
  },
  {
   "cell_type": "code",
   "execution_count": 6,
   "outputs": [],
   "source": [
    "import csv"
   ],
   "metadata": {
    "collapsed": false,
    "pycharm": {
     "name": "#%%\n"
    }
   }
  },
  {
   "cell_type": "code",
   "execution_count": 8,
   "outputs": [],
   "source": [
    "with open(fname_dat) as dat_file, open(fname, 'w') as csv_file:\n",
    "    csv_writer = csv.writer(csv_file)\n",
    "    for line in dat_file:\n",
    "        row = [field.strip() for field in line.split('|')]\n",
    "        if len(row) == 6 and row[3] and row[4]:\n",
    "            csv_writer.writerow(row)"
   ],
   "metadata": {
    "collapsed": false,
    "pycharm": {
     "name": "#%%\n"
    }
   }
  },
  {
   "cell_type": "markdown",
   "source": [
    "> фууух нормально сработали можно и отдохнуть"
   ],
   "metadata": {
    "collapsed": false
   }
  },
  {
   "cell_type": "markdown",
   "source": [
    "# Читаем файл .csv в DataFrame"
   ],
   "metadata": {
    "collapsed": false
   }
  },
  {
   "cell_type": "code",
   "execution_count": 9,
   "outputs": [],
   "source": [
    "import pandas as pd"
   ],
   "metadata": {
    "collapsed": false,
    "pycharm": {
     "name": "#%%\n"
    }
   }
  },
  {
   "cell_type": "code",
   "execution_count": 20,
   "outputs": [
    {
     "data": {
      "text/plain": "            id  user_id  venue_id   latitude   longitude           created_at\n0       984222    15824      5222  38.895112  -77.036366  2012-04-21 17:43:47\n1       984234    44652      5222  33.800745  -84.410520  2012-04-21 17:43:43\n2       984291   105054      5222  45.523452 -122.676207  2012-04-21 17:39:22\n3       984318  2146539      5222  40.764462 -111.904565  2012-04-21 17:35:46\n4       984232    93870    380645  33.448377 -112.074037  2012-04-21 17:38:18\n...        ...      ...       ...        ...         ...                  ...\n396629  955561   626076     20073  40.850100  -73.866246  2012-04-13 09:56:48\n396630  955892   674797      2297  33.748995  -84.387982  2012-04-13 10:56:03\n396631  956377   845102     11195  42.765366  -71.467566  2012-04-13 12:08:45\n396632  956119  1139114     29488  42.439479  -83.743830  2012-04-13 11:36:44\n396633  956733   960666        60  42.331427  -83.045754  2012-04-13 21:56:19\n\n[396634 rows x 6 columns]",
      "text/html": "<div>\n<style scoped>\n    .dataframe tbody tr th:only-of-type {\n        vertical-align: middle;\n    }\n\n    .dataframe tbody tr th {\n        vertical-align: top;\n    }\n\n    .dataframe thead th {\n        text-align: right;\n    }\n</style>\n<table border=\"1\" class=\"dataframe\">\n  <thead>\n    <tr style=\"text-align: right;\">\n      <th></th>\n      <th>id</th>\n      <th>user_id</th>\n      <th>venue_id</th>\n      <th>latitude</th>\n      <th>longitude</th>\n      <th>created_at</th>\n    </tr>\n  </thead>\n  <tbody>\n    <tr>\n      <th>0</th>\n      <td>984222</td>\n      <td>15824</td>\n      <td>5222</td>\n      <td>38.895112</td>\n      <td>-77.036366</td>\n      <td>2012-04-21 17:43:47</td>\n    </tr>\n    <tr>\n      <th>1</th>\n      <td>984234</td>\n      <td>44652</td>\n      <td>5222</td>\n      <td>33.800745</td>\n      <td>-84.410520</td>\n      <td>2012-04-21 17:43:43</td>\n    </tr>\n    <tr>\n      <th>2</th>\n      <td>984291</td>\n      <td>105054</td>\n      <td>5222</td>\n      <td>45.523452</td>\n      <td>-122.676207</td>\n      <td>2012-04-21 17:39:22</td>\n    </tr>\n    <tr>\n      <th>3</th>\n      <td>984318</td>\n      <td>2146539</td>\n      <td>5222</td>\n      <td>40.764462</td>\n      <td>-111.904565</td>\n      <td>2012-04-21 17:35:46</td>\n    </tr>\n    <tr>\n      <th>4</th>\n      <td>984232</td>\n      <td>93870</td>\n      <td>380645</td>\n      <td>33.448377</td>\n      <td>-112.074037</td>\n      <td>2012-04-21 17:38:18</td>\n    </tr>\n    <tr>\n      <th>...</th>\n      <td>...</td>\n      <td>...</td>\n      <td>...</td>\n      <td>...</td>\n      <td>...</td>\n      <td>...</td>\n    </tr>\n    <tr>\n      <th>396629</th>\n      <td>955561</td>\n      <td>626076</td>\n      <td>20073</td>\n      <td>40.850100</td>\n      <td>-73.866246</td>\n      <td>2012-04-13 09:56:48</td>\n    </tr>\n    <tr>\n      <th>396630</th>\n      <td>955892</td>\n      <td>674797</td>\n      <td>2297</td>\n      <td>33.748995</td>\n      <td>-84.387982</td>\n      <td>2012-04-13 10:56:03</td>\n    </tr>\n    <tr>\n      <th>396631</th>\n      <td>956377</td>\n      <td>845102</td>\n      <td>11195</td>\n      <td>42.765366</td>\n      <td>-71.467566</td>\n      <td>2012-04-13 12:08:45</td>\n    </tr>\n    <tr>\n      <th>396632</th>\n      <td>956119</td>\n      <td>1139114</td>\n      <td>29488</td>\n      <td>42.439479</td>\n      <td>-83.743830</td>\n      <td>2012-04-13 11:36:44</td>\n    </tr>\n    <tr>\n      <th>396633</th>\n      <td>956733</td>\n      <td>960666</td>\n      <td>60</td>\n      <td>42.331427</td>\n      <td>-83.045754</td>\n      <td>2012-04-13 21:56:19</td>\n    </tr>\n  </tbody>\n</table>\n<p>396634 rows × 6 columns</p>\n</div>"
     },
     "execution_count": 20,
     "metadata": {},
     "output_type": "execute_result"
    }
   ],
   "source": [
    "df = pd.read_csv(fname, )\n",
    "df"
   ],
   "metadata": {
    "collapsed": false,
    "pycharm": {
     "name": "#%%\n"
    }
   }
  },
  {
   "cell_type": "code",
   "execution_count": 14,
   "outputs": [
    {
     "data": {
      "text/plain": "396634"
     },
     "execution_count": 14,
     "metadata": {},
     "output_type": "execute_result"
    }
   ],
   "source": [
    "len(df)"
   ],
   "metadata": {
    "collapsed": false,
    "pycharm": {
     "name": "#%%\n"
    }
   }
  },
  {
   "cell_type": "markdown",
   "source": [
    "> количество строк == 396634 как и нужно"
   ],
   "metadata": {
    "collapsed": false
   }
  },
  {
   "cell_type": "markdown",
   "source": [
    "# Готовим данные"
   ],
   "metadata": {
    "collapsed": false
   }
  },
  {
   "cell_type": "code",
   "execution_count": 21,
   "outputs": [
    {
     "data": {
      "text/plain": "(0    38.895112\n 1    33.800745\n 2    45.523452\n 3    40.764462\n 4    33.448377\n Name: latitude, dtype: float64,\n 0    -77.036366\n 1    -84.410520\n 2   -122.676207\n 3   -111.904565\n 4   -112.074037\n Name: longitude, dtype: float64)"
     },
     "execution_count": 21,
     "metadata": {},
     "output_type": "execute_result"
    }
   ],
   "source": [
    "lat = df['latitude'].loc[:]\n",
    "long = df['longitude'].loc[:]\n",
    "lat[:5], long[:5]"
   ],
   "metadata": {
    "collapsed": false,
    "pycharm": {
     "name": "#%%\n"
    }
   }
  },
  {
   "cell_type": "code",
   "execution_count": 25,
   "outputs": [
    {
     "data": {
      "text/plain": "[[38.895111799999995, -77.0363658],\n [33.800745, -84.41051999999999],\n [45.5234515, -122.6762071],\n [40.764462, -111.90456499999999],\n [33.4483771, -112.07403729999999]]"
     },
     "execution_count": 25,
     "metadata": {},
     "output_type": "execute_result"
    }
   ],
   "source": [
    "size = 100000  # len(lat) -- ждать час долго((\n",
    "data = []\n",
    "for i in range(size):\n",
    "    data.append([lat[i], long[i]])\n",
    "data[:5]"
   ],
   "metadata": {
    "collapsed": false,
    "pycharm": {
     "name": "#%%\n"
    }
   }
  },
  {
   "cell_type": "markdown",
   "source": [
    "# Отрисуем координаты"
   ],
   "metadata": {
    "collapsed": false
   }
  },
  {
   "cell_type": "code",
   "execution_count": 27,
   "outputs": [],
   "source": [
    "import matplotlib.pyplot as plt"
   ],
   "metadata": {
    "collapsed": false,
    "pycharm": {
     "name": "#%%\n"
    }
   }
  },
  {
   "cell_type": "code",
   "execution_count": 29,
   "outputs": [
    {
     "data": {
      "text/plain": "<matplotlib.collections.PathCollection at 0x7f86930684f0>"
     },
     "execution_count": 29,
     "metadata": {},
     "output_type": "execute_result"
    },
    {
     "data": {
      "text/plain": "<Figure size 432x288 with 1 Axes>",
      "image/png": "[encoded data removed]"
     },
     "metadata": {
      "needs_background": "light"
     },
     "output_type": "display_data"
    }
   ],
   "source": [
    "plt.scatter(long, lat, s=1)"
   ],
   "metadata": {
    "collapsed": false,
    "pycharm": {
     "name": "#%%\n"
    }
   }
  },
  {
   "cell_type": "markdown",
   "source": [
    "> красивое"
   ],
   "metadata": {
    "collapsed": false
   }
  },
  {
   "cell_type": "markdown",
   "source": [
    "# Разбираемся с MeanShift"
   ],
   "metadata": {
    "collapsed": false
   }
  },
  {
   "cell_type": "markdown",
   "source": [
    "> да кто такой этот ваш миншифт"
   ],
   "metadata": {
    "collapsed": false
   }
  },
  {
   "cell_type": "code",
   "execution_count": 15,
   "outputs": [],
   "source": [
    "from sklearn.cluster import MeanShift"
   ],
   "metadata": {
    "collapsed": false,
    "pycharm": {
     "name": "#%%\n"
    }
   }
  },
  {
   "cell_type": "code",
   "execution_count": 16,
   "outputs": [],
   "source": [
    "ms = MeanShift(bandwidth=0.1)"
   ],
   "metadata": {
    "collapsed": false,
    "pycharm": {
     "name": "#%%\n"
    }
   }
  },
  {
   "cell_type": "code",
   "execution_count": 26,
   "outputs": [
    {
     "data": {
      "text/plain": "MeanShift(bandwidth=0.1)"
     },
     "execution_count": 26,
     "metadata": {},
     "output_type": "execute_result"
    }
   ],
   "source": [
    "ms.fit(data)"
   ],
   "metadata": {
    "collapsed": false,
    "pycharm": {
     "name": "#%%\n"
    }
   }
  },
  {
   "cell_type": "code",
   "execution_count": 34,
   "outputs": [
    {
     "name": "stdout",
     "output_type": "stream",
     "text": [
      "Количество кластеров = 3231\n"
     ]
    }
   ],
   "source": [
    "centers = ms.cluster_centers_\n",
    "print(f'Количество кластеров = {len(centers)}')"
   ],
   "metadata": {
    "collapsed": false,
    "pycharm": {
     "name": "#%%\n"
    }
   }
  },
  {
   "cell_type": "code",
   "execution_count": 33,
   "outputs": [
    {
     "data": {
      "text/plain": "<matplotlib.collections.PathCollection at 0x7f8693369520>"
     },
     "execution_count": 33,
     "metadata": {},
     "output_type": "execute_result"
    },
    {
     "data": {
      "text/plain": "<Figure size 432x288 with 1 Axes>",
      "image/png": "[encoded data removed]"
     },
     "metadata": {
      "needs_background": "light"
     },
     "output_type": "display_data"
    }
   ],
   "source": [
    "plt.scatter([i[1] for i in centers], [i[0] for i in centers], s=1)"
   ],
   "metadata": {
    "collapsed": false,
    "pycharm": {
     "name": "#%%\n"
    }
   }
  },
  {
   "cell_type": "markdown",
   "source": [
    "# Отфильтруем кластеры"
   ],
   "metadata": {
    "collapsed": false
   }
  },
  {
   "cell_type": "code",
   "execution_count": 99,
   "outputs": [
    {
     "data": {
      "text/plain": "array([[  40.7177164 ,  -73.99183542],\n       [  33.44943805, -112.00213969],\n       [  33.44638027, -111.90188756],\n       ...,\n       [ -37.8229826 ,  145.1811902 ],\n       [ -41.2924945 ,  174.7732353 ],\n       [ -45.0311622 ,  168.6626435 ]])"
     },
     "execution_count": 99,
     "metadata": {},
     "output_type": "execute_result"
    }
   ],
   "source": [
    "ms.cluster_centers_"
   ],
   "metadata": {
    "collapsed": false,
    "pycharm": {
     "name": "#%%\n"
    }
   }
  },
  {
   "cell_type": "code",
   "execution_count": null,
   "outputs": [],
   "source": [
    "clusters = dict()\n",
    "for i, label in enumerate(ms.labels_):\n",
    "    if label not in clusters.keys():\n",
    "        clusters[label] = {(data[i][0], data[i][1])}\n",
    "    else:\n",
    "        clusters[label].add((data[i][0], data[i][1]))\n",
    "len(clusters.keys()) == len(ms.cluster_centers_), len(clusters.keys())"
   ],
   "metadata": {
    "collapsed": false,
    "pycharm": {
     "name": "#%%\n"
    }
   }
  },
  {
   "cell_type": "code",
   "execution_count": 103,
   "outputs": [
    {
     "data": {
      "text/plain": "    label  length                                             coords  \\\n0       0      54  ((40.7064461, -73.9536163), (40.6805029, -73.9...   \n1       5      24  ((38.904151, -77.033172), (38.8514028, -77.050...   \n2       8      31  ((42.408430200000005, -71.0119948), (42.28582,...   \n3      14      41  ((40.7108476, -73.8977693), (40.7620463, -73.7...   \n4      24      18  ((34.101418, -118.33659499999999), (34.1489719...   \n5      42      18  ((33.884736100000005, -118.41090890000001), (3...   \n6      48      29  ((40.8120447, -74.12430959999999), (40.833989,...   \n7      52      23  ((40.847322600000005, -73.7865218), (40.897599...   \n8      58      20  ((51.489112, -0.1106702), (51.4929163, -0.2257...   \n9      61      42  ((40.735101799999995, -73.68790820000001), (40...   \n10     74      25  ((40.957727399999996, -73.8096466), (41.040833...   \n11     79      18  ((41.9672532, -87.80756120000001), (42.0411414...   \n12     80      27  ((41.8897519, -87.98895429999999), (41.9353082...   \n13     83      20  ((40.6764911, -74.2907032), (40.6857016, -74.3...   \n14     90      23  ((34.1383333, -118.6608333), (34.2822133999999...   \n15    152      18  ((40.7539878, -73.360398), (40.6789893, -73.41...   \n16    199      27  ((41.1148179, -74.14958890000001), (41.0234304...   \n17    231      27  ((40.916765399999996, -74.171811), (41.0106528...   \n18    344      18  ((39.8774, -75.344139), (39.8898346, -75.32518...   \n\n    center_latitude  center_longitude  \n0         40.717716        -73.991835  \n1         38.886165        -77.048783  \n2         42.363219        -71.073688  \n3         40.766876        -73.833353  \n4         34.127402       -118.351884  \n5         33.872986       -118.362091  \n6         40.766668        -74.192496  \n7         40.870148        -73.859389  \n8         51.502991         -0.125537  \n9         40.708071        -73.584400  \n10        40.984718        -73.774239  \n11        42.065201        -87.807622  \n12        41.854357        -87.856900  \n13        40.725810        -74.299196  \n14        34.198182       -118.549277  \n15        40.724221        -73.400037  \n16        41.130756        -73.999617  \n17        40.947984        -74.273485  \n18        39.918617        -75.338171  ",
      "text/html": "<div>\n<style scoped>\n    .dataframe tbody tr th:only-of-type {\n        vertical-align: middle;\n    }\n\n    .dataframe tbody tr th {\n        vertical-align: top;\n    }\n\n    .dataframe thead th {\n        text-align: right;\n    }\n</style>\n<table border=\"1\" class=\"dataframe\">\n  <thead>\n    <tr style=\"text-align: right;\">\n      <th></th>\n      <th>label</th>\n      <th>length</th>\n      <th>coords</th>\n      <th>center_latitude</th>\n      <th>center_longitude</th>\n    </tr>\n  </thead>\n  <tbody>\n    <tr>\n      <th>0</th>\n      <td>0</td>\n      <td>54</td>\n      <td>((40.7064461, -73.9536163), (40.6805029, -73.9...</td>\n      <td>40.717716</td>\n      <td>-73.991835</td>\n    </tr>\n    <tr>\n      <th>1</th>\n      <td>5</td>\n      <td>24</td>\n      <td>((38.904151, -77.033172), (38.8514028, -77.050...</td>\n      <td>38.886165</td>\n      <td>-77.048783</td>\n    </tr>\n    <tr>\n      <th>2</th>\n      <td>8</td>\n      <td>31</td>\n      <td>((42.408430200000005, -71.0119948), (42.28582,...</td>\n      <td>42.363219</td>\n      <td>-71.073688</td>\n    </tr>\n    <tr>\n      <th>3</th>\n      <td>14</td>\n      <td>41</td>\n      <td>((40.7108476, -73.8977693), (40.7620463, -73.7...</td>\n      <td>40.766876</td>\n      <td>-73.833353</td>\n    </tr>\n    <tr>\n      <th>4</th>\n      <td>24</td>\n      <td>18</td>\n      <td>((34.101418, -118.33659499999999), (34.1489719...</td>\n      <td>34.127402</td>\n      <td>-118.351884</td>\n    </tr>\n    <tr>\n      <th>5</th>\n      <td>42</td>\n      <td>18</td>\n      <td>((33.884736100000005, -118.41090890000001), (3...</td>\n      <td>33.872986</td>\n      <td>-118.362091</td>\n    </tr>\n    <tr>\n      <th>6</th>\n      <td>48</td>\n      <td>29</td>\n      <td>((40.8120447, -74.12430959999999), (40.833989,...</td>\n      <td>40.766668</td>\n      <td>-74.192496</td>\n    </tr>\n    <tr>\n      <th>7</th>\n      <td>52</td>\n      <td>23</td>\n      <td>((40.847322600000005, -73.7865218), (40.897599...</td>\n      <td>40.870148</td>\n      <td>-73.859389</td>\n    </tr>\n    <tr>\n      <th>8</th>\n      <td>58</td>\n      <td>20</td>\n      <td>((51.489112, -0.1106702), (51.4929163, -0.2257...</td>\n      <td>51.502991</td>\n      <td>-0.125537</td>\n    </tr>\n    <tr>\n      <th>9</th>\n      <td>61</td>\n      <td>42</td>\n      <td>((40.735101799999995, -73.68790820000001), (40...</td>\n      <td>40.708071</td>\n      <td>-73.584400</td>\n    </tr>\n    <tr>\n      <th>10</th>\n      <td>74</td>\n      <td>25</td>\n      <td>((40.957727399999996, -73.8096466), (41.040833...</td>\n      <td>40.984718</td>\n      <td>-73.774239</td>\n    </tr>\n    <tr>\n      <th>11</th>\n      <td>79</td>\n      <td>18</td>\n      <td>((41.9672532, -87.80756120000001), (42.0411414...</td>\n      <td>42.065201</td>\n      <td>-87.807622</td>\n    </tr>\n    <tr>\n      <th>12</th>\n      <td>80</td>\n      <td>27</td>\n      <td>((41.8897519, -87.98895429999999), (41.9353082...</td>\n      <td>41.854357</td>\n      <td>-87.856900</td>\n    </tr>\n    <tr>\n      <th>13</th>\n      <td>83</td>\n      <td>20</td>\n      <td>((40.6764911, -74.2907032), (40.6857016, -74.3...</td>\n      <td>40.725810</td>\n      <td>-74.299196</td>\n    </tr>\n    <tr>\n      <th>14</th>\n      <td>90</td>\n      <td>23</td>\n      <td>((34.1383333, -118.6608333), (34.2822133999999...</td>\n      <td>34.198182</td>\n      <td>-118.549277</td>\n    </tr>\n    <tr>\n      <th>15</th>\n      <td>152</td>\n      <td>18</td>\n      <td>((40.7539878, -73.360398), (40.6789893, -73.41...</td>\n      <td>40.724221</td>\n      <td>-73.400037</td>\n    </tr>\n    <tr>\n      <th>16</th>\n      <td>199</td>\n      <td>27</td>\n      <td>((41.1148179, -74.14958890000001), (41.0234304...</td>\n      <td>41.130756</td>\n      <td>-73.999617</td>\n    </tr>\n    <tr>\n      <th>17</th>\n      <td>231</td>\n      <td>27</td>\n      <td>((40.916765399999996, -74.171811), (41.0106528...</td>\n      <td>40.947984</td>\n      <td>-74.273485</td>\n    </tr>\n    <tr>\n      <th>18</th>\n      <td>344</td>\n      <td>18</td>\n      <td>((39.8774, -75.344139), (39.8898346, -75.32518...</td>\n      <td>39.918617</td>\n      <td>-75.338171</td>\n    </tr>\n  </tbody>\n</table>\n</div>"
     },
     "execution_count": 103,
     "metadata": {},
     "output_type": "execute_result"
    }
   ],
   "source": [
    "THRESHOLD = 15\n",
    "data_to_pd_clusters_length = []\n",
    "clusters_keys_list = sorted(list(clusters.keys()))\n",
    "\n",
    "for i, _ in enumerate(clusters_keys_list):\n",
    "    key = clusters_keys_list[i]\n",
    "\n",
    "    data_to_pd_clusters_length.append(\n",
    "        [key, len(clusters[key]), tuple(clusters[key]),\n",
    "         centers[key][0], centers[key][1]])\n",
    "clusters_df = pd.DataFrame(data_to_pd_clusters_length,\n",
    "                           columns=['label', 'length', 'coords', 'center_longitude', 'center_latitude'])\n",
    "useful_clusters = clusters_df.loc[clusters_df['length'] > THRESHOLD].reset_index(drop=True)\n",
    "useful_clusters"
   ],
   "metadata": {
    "collapsed": false,
    "pycharm": {
     "name": "#%%\n"
    }
   }
  },
  {
   "cell_type": "code",
   "execution_count": 105,
   "outputs": [
    {
     "data": {
      "text/plain": "<matplotlib.collections.PathCollection at 0x7f8693126e20>"
     },
     "execution_count": 105,
     "metadata": {},
     "output_type": "execute_result"
    },
    {
     "data": {
      "text/plain": "<Figure size 432x288 with 1 Axes>",
      "image/png": "[encoded data removed]"
     },
     "metadata": {
      "needs_background": "light"
     },
     "output_type": "display_data"
    }
   ],
   "source": [
    "plt.scatter(useful_clusters['center_longitude'], useful_clusters['center_latitude'], s=1)"
   ],
   "metadata": {
    "collapsed": false,
    "pycharm": {
     "name": "#%%\n"
    }
   }
  },
  {
   "cell_type": "markdown",
   "source": [
    "# Находим ближайшие к офисам"
   ],
   "metadata": {
    "collapsed": false
   }
  },
  {
   "cell_type": "code",
   "execution_count": 106,
   "outputs": [],
   "source": [
    "offices = [[34.2720355, -118.4693734], [33.7507188, -118.1889072], [27.9450524, -82.4455656],\n",
    "           [39.2650447, -76.6007999], [32.717609, -117.1761962], [37.804883, -122.4016302],\n",
    "           [49.2514431, -123.1277804], [32.7859233, -79.9333731], [30.6860768, -88.0394999],\n",
    "           [26.1216934, -80.1388889], [33.3882696, -111.6913768], [26.0853385, -80.1180988],\n",
    "           [30.0068944, -90.1633797], [29.3075638, -94.7986193], [28.4157244, -80.6310168],\n",
    "           [52.3787031, 4.8849274], [47.3831508, 8.4987319], [41.3905199, 2.1570719],\n",
    "           [50.4356475, 30.5142909], [53.4699633, -2.2947828]]"
   ],
   "metadata": {
    "collapsed": false,
    "pycharm": {
     "name": "#%%\n"
    }
   }
  },
  {
   "cell_type": "code",
   "execution_count": 115,
   "outputs": [],
   "source": [
    "import math\n",
    "distance = lambda coord1, coord2: math.sqrt((coord1[0] - coord2[0])**2 + (coord1[1] - coord2[1])**2)"
   ],
   "metadata": {
    "collapsed": false,
    "pycharm": {
     "name": "#%%\n"
    }
   }
  },
  {
   "cell_type": "code",
   "execution_count": 131,
   "outputs": [
    {
     "data": {
      "text/plain": "{192.48307255712493: [(40.7064461, -73.9536163)],\n 192.46657692400026: [(40.6805029, -73.96243270000001)],\n 192.5649695132654: [(40.809033299999996, -73.94837220000001)],\n 192.49143055232756: [(40.7245448, -73.9418603)],\n 192.52427786202352: [(40.77194, -73.93056)],\n 192.5538427005699: [(40.739932, -74.030224)],\n 192.54232325881273: [(40.719418, -74.039898)],\n 192.45088444618204: [(40.700102799999996, -73.9056922)],\n 192.59522266467167: [(40.827044799999996, -73.97569399999999)],\n 192.64579764186834: [(40.857044200000004, -74.0215285)],\n 192.58204836408504: [(40.7920454, -74.0037505)],\n 192.55384484287902: [(40.7834345, -73.9662495)],\n 192.54343041470665: [(40.762893638010205, -73.9779424667358)],\n 192.5440840443083: [(40.7638003, -73.97777140000001)],\n 192.57078281504872: [(40.7281575, -74.0776417)],\n 192.62501774951713: [(40.848155600000005, -73.997639)],\n 192.6652277647497: [(40.8625996, -74.0479182)],\n 192.5845378538425: [(40.787878799999994, -74.0143064)],\n 192.65390821868712: [(40.8528777, -74.0420848)],\n 192.5278297203912: [(40.726695299999996, -74.0034323)],\n 192.46669853156953: [(40.6801414, -73.9631805)],\n 192.5120746992474: [(40.7448241, -73.94874909999999)],\n 192.666333758812: [(40.8762106, -74.02986209999999)],\n 192.4343627291443: [(40.65, -73.95)],\n 192.54687514996667: [(40.721232, -74.04532359999999)],\n 192.5004441788908: [(40.7398242, -73.93541529999999)],\n 192.57751091331653: [(40.772669, -74.02417700000001)],\n 192.49900198288793: [(40.7033671, -73.98647199999999)],\n 192.59734175504732: [(40.8214894, -73.98763879999998)],\n 192.60966031185862: [(40.7895453, -74.05652979999999)],\n 192.50976017210672: [(40.736782, -73.9564628)],\n 192.68202570575895: [(40.8859325, -74.0434736)],\n 192.5278798280817: [(40.740389, -73.983385)],\n 192.59639257462146: [(40.812600599999996, -73.99902800000001)],\n 192.4657602409547: [(40.645532, -74.01238509999999)],\n 192.52458825890457: [(40.732960600000006, -73.9884556)],\n 192.56597893647444: [(40.7942859126716, -73.9718699455261)],\n 192.51798564154018: [(40.712989, -74.00608000000001)],\n 192.66933422610143: [(40.8598219, -74.05930749999999)],\n 192.5429540997965: [(40.746385499999995, -74.0013744)],\n 192.53227816898612: [(40.732312, -74.003084)],\n 192.44208036620802: [(40.6528762, -73.95949399999999)],\n 192.4900837623031: [(40.7208515702064, -73.9448976516724)],\n 192.51905316954537: [(40.7143528, -74.00597309999999)],\n 192.5584012505222: [(40.7439905, -74.0323626)],\n 192.594860617019: [(40.792567, -74.02577)],\n 192.49073678158564: [(40.69373220000001, -73.98594140000002)],\n 192.57281421896118: [(40.7695457, -74.0204177)],\n 192.53464344279814: [(40.760040999999994, -73.966509)],\n 192.51100359243637: [(40.761829999999996, -73.92182)],\n 192.56124016854673: [(40.806082, -73.94608000000001)],\n 192.51784082865035: [(40.715972, -74.001437)],\n 192.61977683926844: [(40.8342669, -74.0087505)],\n 192.52521577772816: [(40.7188401, -74.0103333)],\n 192.75703722223852: [(38.904151, -77.033172)],\n 192.72409188269341: [(38.8514028, -77.05068890000001)],\n 192.69820906452964: [(38.866265999999996, -76.984858)],\n 192.7588485109478: [(38.907098, -77.03214200000001)],\n 192.64875723995638: [(38.848611, -76.92416700000001)],\n 192.78437950408485: [(38.9239, -77.0526)],\n 192.7662192860737: [(38.917321, -77.030452)],\n 192.74983248304423: [(38.902558, -77.022947)],\n 192.78076808759414: [(38.933338899999995, -77.032999)],\n 192.7382154446137: [(38.896837, -77.010917)],\n 192.6328297300768: [(38.8140024, -76.9455296)],\n 192.77980714809533: [(38.879969700000004, -77.1067698)],\n 192.78983716357197: [(38.915648700000006, -77.07371490000001)],\n 192.68390423287798: [(38.804835499999996, -77.0469214)],\n 192.77371794364686: [(38.896778399999995, -77.0724776)],\n 192.76667947353343: [(38.848033, -77.12916)],\n 192.72682712736295: [(38.853034, -77.053119)],\n 192.6821118334452: [(38.7999723, -77.0506896)],\n 192.748741939996: [(38.955944200000005, -76.9455301)],\n 192.73108897167677: [(38.9002203, -76.9937887)],\n 192.80241174917126: [(38.9778882, -77.0074765)],\n 192.75150168603838: [(38.895111799999995, -77.0363658)],\n 192.75867647562055: [(38.9059849, -77.0334179)],\n 192.64979813636936: [(38.803333, -76.99)],\n 192.26646802646448: [(42.408430200000005, -71.0119948)],\n 192.2280662695699: [(42.28582, -71.12909)],\n 192.26848708481558: [(42.37778, -71.0625)],\n 192.23485916609556: [(42.290425899999995, -71.13445390000001)],\n 192.24333472741665: [(42.3098201, -71.12032990000002)],\n 192.2077558218251: [(42.297320500000005, -71.0744952)],\n 192.31350523916922: [(42.350383799999996, -71.1864397)],\n 192.33796758854683: [(42.458429200000005, -71.06616329999999)],\n 192.37165867963526: [(42.452317799999996, -71.13699809999999)],\n 192.31324548328993: [(42.426446, -71.06988249999999)],\n 192.26214460706439: [(42.3317642, -71.1211635)],\n 192.37164509374168: [(42.452303, -71.1369959)],\n 192.34733174542106: [(42.3959296, -71.17866540000001)],\n 192.2056215744616: [(42.3576609, -70.9784562)],\n 192.3264154060824: [(42.4184296, -71.10616390000001)],\n 192.2900243677652: [(42.372639899999996, -71.10965279999999)],\n 192.3100789752022: [(42.4250964, -71.066163)],\n 192.35248882449716: [(42.3829025, -71.20794029999999)],\n 192.3148422921959: [(42.337041299999996, -71.2092214)],\n 192.37435248714044: [(42.480095399999996, -71.09949759999999)],\n 192.24229823105782: [(42.325, -71.09527779999999)],\n 192.22260506765286: [(42.375097499999995, -70.982827)],\n 192.26393271301498: [(42.3917638, -71.03282840000001)],\n 192.25080631250142: [(42.358430799999994, -71.05977320000001)],\n 192.29697002598252: [(42.3875968, -71.0994968)],\n 192.35141260035687: [(42.4153739, -71.1564427)],\n 192.29681750649297: [(42.3500971, -71.1564423)],\n 192.3287088974746: [(42.3709299, -71.1828321)],\n 192.28838960958882: [(42.3593008, -71.1270268)],\n 192.25337906847804: [(42.375, -71.0391667)],\n 192.2892880167698: [(42.408429999999996, -71.0536625)],\n 192.4553180041511: [(40.7108476, -73.8977693)],\n 192.40803847704814: [(40.7620463, -73.7381874)],\n 192.41140232014502: [(40.705695, -73.8272029)],\n 192.3800984126217: [(40.6571222, -73.84299890000001)],\n 192.48543909119334: [(40.755657299999996, -73.8854139)],\n 192.48000608963588: [(40.79454570000001, -73.81846740000002)],\n 192.48970555985858: [(40.7876014, -73.8459682)],\n 192.39692570722877: [(40.67667, -73.84416999999999)],\n 192.43823713331207: [(40.825656099999996, -73.6981858)],\n 192.46443854208357: [(40.7658085, -73.8330844)],\n 192.37736368209815: [(40.670103499999996, -73.8190231)],\n 192.38742760502038: [(40.702677, -73.7889689)],\n 192.47698123025773: [(40.747645, -73.88215699999999)],\n 192.43500017539904: [(40.7683333, -73.7769444)],\n 192.3783760410724: [(40.6517863, -73.8477874)],\n 192.4559303994714: [(40.7395505, -73.85660870000001)],\n 192.43245953357578: [(40.6884846, -73.8900083)],\n 192.47595185841877: [(40.757590500000006, -73.8656823)],\n 192.40896922079452: [(40.69972, -73.83166999999999)],\n 192.4079890343769: [(40.7335179, -73.78014470000001)],\n 192.45201515738566: [(40.7428054, -73.84484690000001)],\n 192.38086998849258: [(40.72667, -73.74194)],\n 192.36803540339795: [(40.6984364, -73.7606881)],\n 192.41507084816288: [(40.6892698, -73.85791309999999)],\n 192.42591416987068: [(40.7298896, -73.81740479999999)],\n 192.41186832827415: [(40.7282239, -73.7948516)],\n 192.43298817316023: [(40.716213700000004, -73.85013520000001)],\n 192.36676757591835: [(40.68427, -73.7792998)],\n 192.36636428864517: [(40.703821999999995, -73.74977700000001)],\n 192.48817710456768: [(40.745379799999995, -73.9054145)],\n 192.4447644469756: [(40.723688, -73.86009)],\n 192.39548418898366: [(40.703546, -73.802032)],\n 192.38403445534817: [(40.7134361, -73.7670772)],\n 192.4507004687434: [(40.7164914, -73.8812472)],\n 192.4786412958755: [(40.761212799999996, -73.86513559999999)],\n 192.43453570371693: [(40.800656700000005, -73.7284647)],\n 192.418545669596: [(40.768713, -73.7470765)],\n 192.28792723135234: [(40.605382399999996, -73.7551325)],\n 192.32277084182695: [(40.60316029999999, -73.820412)],\n 192.41602387497343: [(40.7978787, -73.6995749)],\n 192.43130285176866: [(40.74982429999999, -73.7976337)],\n 215.79444036283195: [(34.101418, -118.33659499999999)],\n 215.90922615492622: [(34.1489719, -118.451357)],\n 215.8321822494378: [(34.13889, -118.3525)],\n 215.83106693913274: [(34.18083920000001, -118.30896609999998)],\n 215.83748451548942: [(34.1475, -118.3513889)],\n 215.8014752381947: [(34.084037, -118.36391599999999)],\n 215.86571628986724: [(34.1435878, -118.39522209999998)],\n 215.81684596170075: [(34.1176605, -118.3520389)],\n 215.87447162682906: [(34.172228100000005, -118.37896840000002)],\n 215.7846442078455: [(34.09833, -118.32583000000001)],\n 215.91438104003996: [(34.1632818, -118.44434380000001)],\n 215.90859638213405: [(34.151109999999996, -118.44833)],\n 215.88656567801598: [(34.187044, -118.3812562)],\n 215.9004000981293: [(34.2175042, -118.37035759999999)],\n 215.8197781639553: [(34.0928459, -118.38098899999999)],\n 215.80954057672452: [(34.075936799999994, -118.3834136)],\n 215.8178799952528: [(34.087503999999996, -118.38364399999999)],\n 215.8041610461119: [(34.0900091, -118.3617443)],\n 215.69389465673683: [(33.884736100000005, -118.41090890000001)],\n 215.65285332181566: [(33.8491816, -118.3884078)],\n 215.70736554600452: [(33.9616801, -118.3531311)],\n 215.5047680003626: [(33.7358518, -118.2922934)],\n 215.65706953280724: [(33.9414035, -118.3022963)],\n 215.69530705222738: [(33.881322499999996, -118.41631029999999)],\n 215.56333625243548: [(33.756961499999996, -118.3539613)],\n 215.6749790291214: [(33.9164032, -118.35257479999999)],\n 215.6242945580591: [(33.8883487, -118.30896240000001)],\n 215.5607202340071: [(33.792239200000004, -118.3150722)],\n 215.60961512877861: [(33.835849200000006, -118.34062879999999)],\n 215.57791602080235: [(33.7444613, -118.3870173)],\n 215.66994014181907: [(33.8622366, -118.39951940000002)],\n 215.7221579320976: [(33.9191799, -118.4164652)],\n 215.69028824368357: [(33.9380695, -118.3525752)],\n 215.73052834758943: [(33.942809000000004, -118.4047064)],\n 215.56499281317886: [(33.8314058, -118.2820165)],\n 215.58806100562896: [(33.787794299999995, -118.3581284)],\n 192.66638986337315: [(40.8120447, -74.12430959999999)],\n 192.66921880517557: [(40.833989, -74.0970865)],\n 192.7462770566294: [(40.829822, -74.24014659999999)],\n 192.67476225039943: [(40.767323, -74.20486770000001)],\n 192.65555721241176: [(40.797275, -74.126758)],\n 192.64221845150655: [(40.7684342, -74.1454214)],\n 192.73912743243727: [(40.903987799999996, -74.118476)],\n 192.63029375770645: [(40.735657, -74.1723667)],\n 192.69641698338287: [(40.806767, -74.1854226)],\n 192.63017778242505: [(40.7464901, -74.1562551)],\n 192.69444063560618: [(40.8531553, -74.1137537)],\n 192.6709077908822: [(40.8403778, -74.09069740000001)],\n 192.71751723340395: [(40.907321100000004, -74.0751412)],\n 192.6657707219385: [(40.7937116, -74.1501438)],\n 192.70176852650997: [(40.817405, -74.17930759999999)],\n 192.70558867156456: [(40.805378000000005, -74.2037566)],\n 192.69640577714543: [(40.806754600000005, -74.1854209)],\n 192.71994004297787: [(40.798711299999994, -74.2390353)],\n 192.6931576354701: [(40.770656200000005, -74.2326463)],\n 192.66273248815742: [(40.7323235, -74.2348684)],\n 192.73424390119948: [(40.926276200000004, -74.07701)],\n 192.72693261432386: [(40.858432799999996, -74.16375529999999)],\n 192.66848661519788: [(40.826489, -74.10680909999999)],\n 192.69489263326685: [(40.8223223, -74.15986629999999)],\n 192.72554892836723: [(40.82593320000001, -74.2090343)],\n 192.7013728526675: [(40.8823215, -74.08319709999999)],\n 192.65187266542048: [(40.788434, -74.1331988)],\n 192.75815890148115: [(40.8517662, -74.229035)],\n 192.70611589710444: [(40.902599, -74.0618074)],\n 192.5057438886274: [(40.847322600000005, -73.7865218)],\n 192.67621720288267: [(40.8975992, -74.0159727)],\n 192.7010604859739: [(40.9406541, -73.9968051)],\n 192.708951917699: [(40.9350986, -74.0190281)],\n 192.58140707502707: [(40.8570671, -73.90690749999999)],\n 192.6307372986616: [(40.8614887, -73.98819420000001)],\n 192.5996889808282: [(40.8656555, -73.9268035)],\n 192.60648836789468: [(40.9381544, -73.83207840000001)],\n 192.6118591173311: [(40.8509333, -73.9701381)],\n 192.55280491456097: [(40.85010020000001, -73.86624640000001)],\n 192.66938242462894: [(40.9253766, -73.96291540000001)],\n 192.57414709190988: [(40.8245592209387, -73.9418506622314)],\n 192.6479593642125: [(40.8928771, -73.9726381)],\n 192.67687560068822: [(40.9559316, -73.9312478)],\n 192.56068837117783: [(40.8586506, -73.8676865)],\n 192.70812980882107: [(40.9731536, -73.9615262)],\n 192.67820100190187: [(40.891351, -74.028697)],\n 192.56947479813886: [(40.9098215, -73.8079111)],\n 192.69057291371217: [(40.927598700000004, -73.9973608)],\n 192.5631560090842: [(40.8884329, -73.82818940000001)],\n 192.58814538115777: [(40.9125992, -73.8370786)],\n 192.6303617996523: [(40.8853773, -73.9523597)],\n 192.63816891106597: [(40.9312099, -73.8987469)],\n 173.4014337043233: [(51.489112, -0.1106702)],\n 173.42802540157174: [(51.4929163, -0.2257916)],\n 173.43309726952646: [(51.5151238, -0.141769)],\n 173.44884456024602: [(51.5584299, -0.0069345)],\n 173.44603969845835: [(51.5457865, -0.0554184)],\n 173.44501694715387: [(51.534979799999995, -0.1037379)],\n 173.44050168176403: [(51.515958399999995, -0.17494690000000002)],\n 173.38027267370185: [(51.487198, -0.013279)],\n 173.386036017665: [(51.45678970000001, -0.1926795)],\n 173.40990312582227: [(51.4799393, -0.19861310000000001)],\n 173.43447772904688: [(51.505359000000006, -0.196913)],\n 173.4235108298285: [(51.508129, -0.128005)],\n 173.4565340869242: [(51.539536, -0.139299)],\n 173.40088545229628: [(51.508782000000004, -0.0105222)],\n 173.41534187211892: [(51.5001524, -0.12623620000000002)],\n 173.282449054917: [(51.360124, -0.148147)],\n 173.4298776189032: [(51.5018856, -0.19089479999999998)],\n 173.44445041632204: [(51.54139, -0.06916)],\n 173.45682807865072: [(51.539187, -0.142505)],\n 173.44125252824858: [(51.51658, -0.17565999999999998)],\n 192.35751705461: [(40.735101799999995, -73.68790820000001)],\n 192.32851636976093: [(40.752600799999996, -73.6104058)],\n 192.39035905911308: [(40.7998227, -73.6509622)],\n 192.3205338715228: [(40.7267682, -73.6342954)],\n 192.23099958357056: [(40.6042705, -73.65540779999999)],\n 192.21524111960926: [(40.6837121, -73.5101258)],\n 192.27021489827868: [(40.6420477, -73.6695747)],\n 192.35233604566247: [(40.788711299999996, -73.59957170000001)],\n 192.32160887866283: [(40.7920441, -73.53984759999999)],\n 192.22120635117946: [(40.662879499999995, -73.551516)],\n 192.3278232877826: [(40.7073244, -73.6759635)],\n 192.2677266796488: [(40.7139898, -73.5590157)],\n 192.25092687547001: [(40.6387141, -73.6401296)],\n 192.43244324256514: [(40.8623217, -73.63373890000001)],\n 192.2947909210506: [(40.706212799999996, -73.6187397)],\n 192.21232459068358: [(40.6687125, -73.5270709)],\n 192.3510593474324: [(40.75649, -73.64485129999998)],\n 192.1882161506672: [(40.6659344, -73.4881809)],\n 192.35760277775842: [(40.7237133, -73.7048532)],\n 192.31826974732687: [(40.755656099999996, -73.5876273)],\n 192.38670674768505: [(40.8106558, -73.6284614)],\n 192.25253753414742: [(40.7259336, -73.51429209999999)],\n 192.28203651177708: [(40.6548253, -73.6717969)],\n 192.31125520855787: [(40.704824200000004, -73.6501295)],\n 192.34327550803488: [(40.700936, -73.712909)],\n 192.37231330959673: [(40.774823100000006, -73.6556848)],\n 192.29380358054314: [(40.7684331, -73.5251253)],\n 192.4231549291363: [(40.875932399999996, -73.5970707)],\n 192.3641505752759: [(40.7734341, -73.64318440000001)],\n 192.36714646445753: [(40.743157399999994, -73.69318609999999)],\n 192.25985434901875: [(40.6686336, -73.61191290000001)],\n 192.23460310032885: [(40.65760220000001, -73.58318349999999)],\n 192.23476593361224: [(40.69149, -73.53345970000001)],\n 192.3104386407083: [(40.664269899999994, -73.7084645)],\n 192.3427431523548: [(40.7492678, -73.64068449999999)],\n 192.2754682560561: [(40.700379299999994, -73.5929056)],\n 192.26810264462907: [(40.6587138, -73.64124059999999)],\n 192.2861166091949: [(40.6320482, -73.7126314)],\n 192.34815878758778: [(40.7409348, -73.6626297)],\n 192.32354259841784: [(40.712324200000005, -73.66096309999999)],\n 192.32103056758862: [(40.676475, -73.70934129999999)],\n 192.21930144652546: [(40.588437299999995, -73.65790799999999)],\n 192.61009961852682: [(40.957727399999996, -73.8096466)],\n 192.62581805627423: [(41.040833, -73.715)],\n 192.692472517933: [(41.014541799999996, -73.872635)],\n 192.67304141682925: [(41.0106531, -73.8437452)],\n 192.61395346382585: [(40.950376399999996, -73.82735600000001)],\n 192.55293316917007: [(40.927876899999994, -73.7517983)],\n 192.56500674076557: [(40.9652581, -73.7181497)],\n 192.7301057367245: [(41.1234293, -73.7790218)],\n 192.55942766702904: [(40.9487097, -73.7326309)],\n 192.65438010487256: [(41.018986299999995, -73.7981884)],\n 192.6352470197945: [(41.0050977, -73.7845768)],\n 192.6876742274404: [(41.074818799999996, -73.77513259999999)],\n 192.71263444214168: [(41.0112085, -73.9134694)],\n 192.56581971021694: [(41.0017643, -73.6656834)],\n 192.73572159297188: [(41.076207700000005, -73.85874609999999)],\n 192.70963672133465: [(41.0391, -73.867)],\n 192.5565120401644: [(40.9114882, -73.78235490000002)],\n 192.64701167693704: [(41.0339862, -73.76290970000001)],\n 192.67934989351934: [(40.994541999999996, -73.87874609999999)],\n 192.69658447117587: [(41.055096899999995, -73.8201337)],\n 192.59027741210096: [(41.0192641, -73.68346209999999)],\n 192.55846000793102: [(40.980653499999995, -73.6837399)],\n 192.7378134755296: [(41.1220194, -73.7948516)],\n 192.74338381397834: [(41.085652, -73.8584684)],\n 192.72626601426813: [(41.107318299999996, -73.7959666)],\n 201.60193224575622: [(41.9672532, -87.80756120000001)],\n 201.58962717116844: [(42.0411414, -87.69005870000001)],\n 201.64516261262415: [(42.0405852, -87.78256209999999)],\n 201.60682746267165: [(41.9634928, -87.82058640000001)],\n 201.70046695409243: [(42.03336229999999, -87.88339909999999)],\n 201.65802388904612: [(41.9891, -87.87147399999999)],\n 201.6096556853469: [(42.0333636, -87.7333934)],\n 201.768259430078: [(42.181691799999996, -87.8003437)],\n 201.64019268671612: [(42.0189191, -87.8028402)],\n 201.70555748933532: [(42.1350268, -87.75811879999999)],\n 201.61078117032082: [(41.9633641, -87.82728399999999)],\n 201.65687690768752: [(42.011141200000004, -87.8406192)],\n 201.7865817387976: [(42.171136499999996, -87.8445119)],\n 201.6912532760462: [(42.09975, -87.7808967)],\n 201.63422953256858: [(42.0722513, -87.72283840000001)],\n 201.6715741828336: [(42.069750899999995, -87.7878408)],\n 201.7424500544446: [(42.127526700000004, -87.82895479999999)],\n 201.58464079626248: [(42.00447570000001, -87.7300594)],\n 201.65018892591397: [(41.8897519, -87.98895429999999)],\n 201.61167702731007: [(41.935308299999996, -87.86561800000001)],\n 201.4709158008523: [(41.821421, -87.7828339)],\n 201.5794089933227: [(41.8814197, -87.883117)],\n 201.5989703215294: [(41.9055862, -87.8836732)],\n 201.67247397110359: [(41.9550296, -87.9400657)],\n 201.63122906967521: [(41.9558637, -87.8708965)],\n 201.65391107219082: [(41.8800296, -88.0078435)],\n 201.52253894669042: [(41.885031700000006, -87.7845025)],\n 201.5674451662116: [(41.79586389999999, -87.9756175)],\n 201.5146470039587: [(41.8239203, -87.8517253)],\n 201.55340339896023: [(41.8791979, -87.8431155)],\n 201.62845163819793: [(41.8994744, -87.9403418)],\n 201.54800591713806: [(41.80086420000001, -87.9370052)],\n 201.52932491156267: [(41.8347535, -87.861726)],\n 201.6037788935147: [(41.8500302, -87.9645077)],\n 201.50068467359895: [(41.8505874, -87.79366850000001)],\n 201.5330123727292: [(41.8097532, -87.9006155)],\n 201.52259312117178: [(41.7697533, -87.9358931)],\n 201.47264484458057: [(41.8455877, -87.7539448)],\n 201.56624737897175: [(41.92114229999999, -87.80922659999999)],\n 201.5102291404487: [(41.805031400000004, -87.8692254)],\n 201.58899109275677: [(41.8397865, -87.9535534)],\n 201.5976637617643: [(41.8889194, -87.90339559999998)],\n 201.57866656633962: [(41.900586499999996, -87.8567276)],\n 201.53578572352123: [(41.879475799999994, -87.81367)],\n 201.55054121336957: [(41.8978091, -87.8139483)],\n 192.6480584420638: [(40.6764911, -74.2907032)],\n 192.67272776180897: [(40.6857016, -74.32097590000001)],\n 192.69136724648712: [(40.7489897, -74.2612583)],\n 192.71939392867756: [(40.7135009, -74.36302940000002)],\n 192.7537403001253: [(40.740934, -74.38376240000001)],\n 192.64579865797168: [(40.651769099999996, -74.32292640000001)],\n 192.63815308482725: [(40.65843579999999, -74.2995923)],\n 192.64997170069805: [(40.697589799999996, -74.2631635)],\n 192.69550041313374: [(40.7248234, -74.3040373)],\n 192.6865266357198: [(40.65538, -74.38987320000001)],\n 192.6821946425322: [(40.672324200000006, -74.3573722)],\n 192.65000361318553: [(40.697601899999995, -74.26320240000001)],\n 192.76889046013545: [(40.8206555, -74.2937594)],\n 192.68356337803337: [(40.731212299999996, -74.2734808)],\n 192.67099525235886: [(40.640935799999994, -74.383484)],\n 192.66554450848224: [(40.6589912, -74.34737170000001)],\n 192.72659966281225: [(40.7478786, -74.3254271)],\n 192.76035447356034: [(40.795933399999996, -74.3148712)],\n 192.72535839817846: [(40.723692, -74.358677)],\n 192.6866361648728: [(40.70169370000001, -74.3222146)],\n 216.04993520857911: [(34.1383333, -118.6608333)],\n 216.07362175952744: [(34.282213399999996, -118.5506158)],\n 216.0322668277314: [(34.1683386, -118.60591969999999)],\n 215.95414009180857: [(34.230030299999996, -118.4338345)],\n 215.9736656551703: [(34.20003, -118.4914337)],\n 216.06059951372566: [(34.200588, -118.613757)],\n 216.00564051720855: [(34.201111100000006, -118.53555559999998)],\n 216.03232248192444: [(34.165357, -118.6089752)],\n 216.08408874504565: [(34.280207, -118.56741979999998)],\n 215.99448462892272: [(34.2819461, -118.4389719)],\n 215.95169095936768: [(34.159172399999996, -118.5011946)],\n 215.99754803998005: [(34.1307496, -118.5943873)],\n 216.04370483054885: [(34.166006, -118.62441100000001)],\n 216.0250735037497: [(34.22833, -118.53583)],\n 215.99904322908583: [(34.1733385, -118.553974)],\n 215.99462230027999: [(34.236388899999994, -118.48472220000001)],\n 216.08164847881946: [(34.2069265, -118.63717369999999)],\n 215.9381279924922: [(34.1898566, -118.451357)],\n 215.98250795835065: [(34.264306700000006, -118.4396756)],\n 216.03942937312746: [(34.21333, -118.57111)],\n 216.0917393320874: [(34.2572252, -118.60119920000001)],\n 215.97633233621264: [(34.09361810000001, -118.60147350000001)],\n 216.04992363497095: [(34.2011156, -118.59814240000001)],\n 192.1895405399513: [(40.7539878, -73.360398)],\n 192.15916374703477: [(40.6789893, -73.4170673)],\n 192.110048218737: [(40.7209321, -73.26733990000001)],\n 192.1196234877911: [(40.706210399999996, -73.3062302)],\n 192.2496555791677: [(40.7442664, -73.4820687)],\n 192.2006498545783: [(40.72926629999999, -73.416789)],\n 192.12176789380024: [(40.695655200000004, -73.3256753)],\n 192.26809052321096: [(40.7764882, -73.4673454)],\n 192.14116813408083: [(40.6867667, -73.3734547)],\n 192.2528673616823: [(40.793432200000005, -73.4151214)],\n 192.15158289501153: [(40.68148920000001, -73.3998445)],\n 192.17856242485584: [(40.7617653, -73.32928570000001)],\n 192.1926193014512: [(40.680656299999995, -73.47429140000001)],\n 192.13684953175903: [(40.7164881, -73.3217861)],\n 192.21944319844746: [(40.7325997, -73.44540090000001)],\n 192.15643234868514: [(40.718154999999996, -73.354287)],\n 192.10121730657298: [(40.7250986, -73.2453946)],\n 192.1816444026729: [(40.680378499999996, -73.45512409999999)],\n 192.93097923975213: [(41.1148179, -74.14958890000001)],\n 192.80871135293637: [(41.0234304, -74.0665297)],\n 192.80351328088852: [(41.046763500000004, -74.02291729999999)],\n 192.77892034802593: [(41.0586111, -73.9616667)],\n 192.88241974310012: [(41.1112069, -74.06847509999999)],\n 192.72869004859552: [(41.0064864, -73.94902579999999)],\n 192.7806461016801: [(41.0634299, -73.9576378)],\n 192.87014301065608: [(41.1131514, -74.04375209999999)],\n 192.87858052485063: [(41.0573188, -74.1409771)],\n 192.87709922569093: [(41.05762120000001, -74.13789670000001)],\n 192.75491296587694: [(40.99537539999999, -74.0120832)],\n 192.7558498625414: [(41.010653000000005, -73.9912493)],\n 192.85295027661041: [(41.084263, -74.05569659999999)],\n 192.8165779580796: [(41.096484999999994, -73.9729162)],\n 192.76301478895394: [(40.99120870000001, -74.0326395)],\n 192.81300128655909: [(41.0589855, -74.0218063)],\n 192.9635738599836: [(41.141110999999995, -74.16888900000001)],\n 192.8246854226138: [(41.118151399999995, -73.9554159)],\n 192.77680611942833: [(41.0025975, -74.0404175)],\n 192.76210153280098: [(41.04648579999999, -73.94958179999999)],\n 192.7384725142265: [(40.9587093, -74.0368064)],\n 192.83291334150218: [(41.088707299999996, -74.013473)],\n 192.74701683142334: [(40.976209000000004, -74.0262505)],\n 192.94964553407445: [(41.1239845, -74.16931190000001)],\n 192.86807613568345: [(41.1475954, -73.989306)],\n 192.7808781398641: [(41.0906519, -73.91791459999999)],\n 192.9391990710296: [(41.18985, -74.053709)],\n 192.77969054153093: [(40.916765399999996, -74.171811)],\n 192.82702423436047: [(41.0106528, -74.1179203)],\n 192.79018334099703: [(40.8409329, -74.30181540000001)],\n 192.76066813096665: [(40.8689881, -74.2082011)],\n 192.94880950791102: [(41.0381525, -74.2940378)],\n 192.84573829953817: [(40.925376299999996, -74.2765368)],\n 192.88143334373433: [(41.016763899999994, -74.2057011)],\n 192.8034329453024: [(40.935654, -74.186256)],\n 192.9198380218726: [(41.0053753, -74.2907041)],\n 192.74845668170911: [(40.944542799999994, -74.0754189)],\n 192.8862229240116: [(40.960201, -74.29732390000001)],\n 192.85702790416477: [(41.0095417, -74.1729222)],\n 192.79145664244436: [(40.9050988, -74.2098679)],\n 192.80028407946753: [(40.9792645, -74.11653129999999)],\n 192.859206341897: [(40.9242652, -74.3020933)],\n 192.94707193173792: [(41.003708700000004, -74.3415394)],\n 192.82787973269245: [(40.8837102, -74.3059823)],\n 192.7750299707423: [(40.8398218, -74.27653659999999)],\n 192.7964062457881: [(40.949264899999996, -74.15375490000001)],\n 192.89203282698185: [(40.968056, -74.296111)],\n 192.91141859137875: [(41.0131529, -74.2643143)],\n 192.77038654388463: [(40.88982120000001, -74.1948674)],\n 192.7959455323032: [(40.9628758, -74.1329207)],\n 192.77671513956113: [(40.9403762, -74.1318096)],\n 192.88191574118824: [(40.921944, -74.345833)],\n 192.9418666491138: [(41.0284304, -74.29598229999999)],\n 192.93725060151544: [(41.002041999999996, -74.3265388)],\n 192.58610115531545: [(39.8774, -75.344139)],\n 192.58553995857298: [(39.8898346, -75.3251882)],\n 192.63410973556705: [(39.8692, -75.4402993)],\n 192.715814948157: [(39.948417299999996, -75.4694285)],\n 192.54684931025307: [(39.861944, -75.2975)],\n 192.64326903639568: [(39.9167783, -75.387693)],\n 192.70852804378853: [(39.986667, -75.401389)],\n 192.5740832699865: [(39.81275, -75.416373)],\n 192.59056883956703: [(39.8265015, -75.4254722)],\n 192.588171690142: [(39.928333, -75.274167)],\n 192.58515317182614: [(39.8276126, -75.4143604)],\n 192.60121285976342: [(39.8692789, -75.3824144)],\n 192.6162724909782: [(39.9306677, -75.3201878)],\n 192.56981625850693: [(39.849557, -75.3557457)],\n 192.6511015345547: [(39.980833000000004, -75.30888900000001)],\n 192.57766894363766: [(39.881223600000006, -75.3237993)],\n 192.60271443004962: [(39.8301125, -75.4415843)],\n 192.61378899043655: [(39.947056700000005, -75.2921301)],\n 191.95821706732147: [(40.7064461, -73.9536163)],\n 191.94169029052532: [(40.6805029, -73.96243270000001)],\n 192.040202263661: [(40.809033299999996, -73.94837220000001)],\n 191.96660339696086: [(40.7245448, -73.9418603)],\n 191.99950194348182: [(40.77194, -73.93056)],\n 192.02892375971993: [(40.739932, -74.030224)],\n 192.01737652617118: [(40.719418, -74.039898)],\n 191.9260803751825: [(40.700102799999996, -73.9056922)],\n 192.07043761397094: [(40.827044799999996, -73.97569399999999)],\n 192.12098257302225: [(40.857044200000004, -74.0215285)],\n 192.05720226986566: [(40.7920454, -74.0037505)],\n 192.02903604748104: [(40.7834345, -73.9662495)],\n 192.01859141231498: [(40.762893638010205, -73.9779424667358)],\n 192.01924596860613: [(40.7638003, -73.97777140000001)],\n 192.04579865485718: [(40.7281575, -74.0776417)],\n 192.10022371837042: [(40.848155600000005, -73.997639)],\n 192.1403860577162: [(40.8625996, -74.0479182)],\n 192.05967599484913: [(40.787878799999994, -74.0143064)],\n 192.12906560988122: [(40.8528777, -74.0420848)],\n 192.00293174120972: [(40.726695299999996, -74.0034323)],\n 191.9418107278341: [(40.6801414, -73.9631805)],\n 191.9872556470448: [(40.7448241, -73.94874909999999)],\n 192.1415241947178: [(40.8762106, -74.02986209999999)],\n 191.90946633901854: [(40.65, -73.95)],\n 192.02192348184093: [(40.721232, -74.04532359999999)],\n 191.9756368444093: [(40.7398242, -73.93541529999999)],\n 192.05262526893316: [(40.772669, -74.02417700000001)],\n 191.97410532074903: [(40.7033671, -73.98647199999999)],\n 192.07253818605815: [(40.8214894, -73.98763879999998)],\n 192.0847500714124: [(40.7895453, -74.05652979999999)],\n 191.98492559550184: [(40.736782, -73.9564628)],\n 192.15720788133063: [(40.8859325, -74.0434736)],\n 192.00301641436914: [(40.740389, -73.983385)],\n 192.07156847940192: [(40.812600599999996, -73.99902800000001)],\n 191.94078680192155: [(40.645532, -74.01238509999999)],\n 191.99971293060386: [(40.732960600000006, -73.9884556)],\n 192.04117219580485: [(40.7942859126716, -73.9718699455261)],\n 191.99307358230206: [(40.712989, -74.00608000000001)],\n 192.1444768894799: [(40.8598219, -74.05930749999999)],\n 192.01807429150037: [(40.746385499999995, -74.0013744)],\n 192.00738509202122: [(40.732312, -74.003084)],\n 191.91717509153213: [(40.6528762, -73.95949399999999)],\n 191.96525007227459: [(40.7208515702064, -73.9448976516724)],\n 191.99414232694477: [(40.7143528, -74.00597309999999)],\n 192.0334830371977: [(40.7439905, -74.0323626)],\n 192.0699890062521: [(40.792567, -74.02577)],\n 191.9658330374463: [(40.69373220000001, -73.98594140000002)],\n 192.04793050398422: [(40.7695457, -74.0204177)],\n 192.0098156313978: [(40.760040999999994, -73.966509)],\n 191.9862298917841: [(40.761829999999996, -73.92182)],\n 192.03647326087773: [(40.806082, -73.94608000000001)],\n 191.99293662297598: [(40.715972, -74.001437)],\n 192.09495861332894: [(40.8342669, -74.0087505)],\n 192.00030338949878: [(40.7188401, -74.0103333)],\n 192.22720773973415: [(38.904151, -77.033172)],\n 192.19420103946354: [(38.8514028, -77.05068890000001)],\n 192.16840374554477: [(38.866265999999996, -76.984858)],\n 192.22902251437114: [(38.907098, -77.03214200000001)],\n 192.1190060073661: [(38.848611, -76.92416700000001)],\n 192.2545438822157: [(38.9239, -77.0526)],\n 192.2364032722451: [(38.917321, -77.030452)],\n 192.22001319699496: [(38.902558, -77.022947)],\n 192.25096189381992: [(38.933338899999995, -77.032999)],\n 192.20840511267886: [(38.896837, -77.010917)],\n 192.1030271304965: [(38.8140024, -76.9455296)],\n 192.2498761230459: [(38.879969700000004, -77.1067698)],\n 192.2599713654975: [(38.915648700000006, -77.07371490000001)],\n 192.15398075721058: [(38.804835499999996, -77.0469214)],\n 192.24383860278857: [(38.896778399999995, -77.0724776)],\n 192.2366981356085: [(38.848033, -77.12916)],\n 192.19693485348031: [(38.853034, -77.053119)],\n 192.15218028970972: [(38.7999723, -77.0506896)],\n 192.21905171459676: [(38.955944200000005, -76.9455301)],\n 192.20130051622652: [(38.9002203, -76.9937887)],\n 192.27266941096545: [(38.9778882, -77.0074765)],\n 192.22166147279012: [(38.895111799999995, -77.0363658)],\n 192.22884816872553: [(38.9059849, -77.0334179)],\n 192.119937235455: [(38.803333, -76.99)],\n 191.74652784549988: [(42.408430200000005, -71.0119948)],\n 191.70788289436348: [(42.28582, -71.12909)],\n 191.74845989889806: [(42.37778, -71.0625)],\n 191.7146728983715: [(42.290425899999995, -71.13445390000001)],\n 191.72318148924387: [(42.3098201, -71.12032990000002)],\n 191.68764898011045: [(42.297320500000005, -71.0744952)],\n 191.79330329507545: [(42.350383799999996, -71.1864397)],\n 191.8180008903754: [(42.458429200000005, -71.06616329999999)],\n 191.85159974833456: [(42.452317799999996, -71.13699809999999)],\n 191.79324842249875: [(42.426446, -71.06988249999999)],\n 191.74200803123927: [(42.3317642, -71.1211635)],\n 191.85158615322723: [(42.452303, -71.1369959)],\n 191.82717606917393: [(42.3959296, -71.17866540000001)],\n 191.6856818462677: [(42.3576609, -70.9784562)],\n 191.80636716113: [(42.4184296, -71.10616390000001)],\n 191.76993492003797: [(42.372639899999996, -71.10965279999999)],\n 191.79008541292217: [(42.4250964, -71.066163)],\n 191.83228662142105: [(42.3829025, -71.20794029999999)],\n 191.79460156274533: [(42.337041299999996, -71.2092214)],\n 191.8543621490156: [(42.480095399999996, -71.09949759999999)],\n 191.72218809427724: [(42.325, -71.09527779999999)],\n 191.70267400623894: [(42.375097499999995, -70.982827)],\n 191.7439533926034: [(42.3917638, -71.03282840000001)],\n 191.7307668898456: [(42.358430799999994, -71.05977320000001)],\n 191.7769051482177: [(42.3875968, -71.0994968)],\n 191.83129995294016: [(42.4153739, -71.1564427)],\n 191.77665225907134: [(42.3500971, -71.1564423)],\n 191.80852794925838: [(42.3709299, -71.1828321)],\n 191.76826800633515: [(42.3593008, -71.1270268)],\n 191.73337841500975: [(42.375, -71.0391667)],\n 191.76929643560328: [(42.408429999999996, -71.0536625)],\n 191.93053187472796: [(40.7108476, -73.8977693)],\n 191.88348176597057: [(40.7620463, -73.7381874)],\n 191.8866953323955: [(40.705695, -73.8272029)],\n 191.85533389680091: [(40.6571222, -73.84299890000001)],\n 191.9607033918835: [(40.755657299999996, -73.8854139)],\n 191.9553805334375: [(40.79454570000001, -73.81846740000002)],\n 191.9650419738496: [(40.7876014, -73.8459682)],\n 191.8721754579687: [(40.67667, -73.84416999999999)],\n 191.91377866435127: [(40.825656099999996, -73.6981858)],\n 191.9397727263533: [(40.7658085, -73.8330844)],\n 191.85263785784997: [(40.670103499999996, -73.8190231)],\n 191.86276334974232: [(40.702677, -73.7889689)],\n 191.95224296215335: [(40.747645, -73.88215699999999)],\n 191.9104026899727: [(40.7683333, -73.7769444)],\n 191.85360160297324: [(40.6517863, -73.8477874)],\n 191.93121580033028: [(40.7395505, -73.85660870000001)],\n 191.90766466138706: [(40.6884846, -73.8900083)],\n 191.95124098794514: [(40.757590500000006, -73.8656823)],\n 191.88425217670925: [(40.69972, -73.83166999999999)],\n 191.88335989533002: [(40.7335179, -73.78014470000001)],\n 191.9273170454691: [(40.7428054, -73.84484690000001)],\n 191.85628051409307: [(40.72667, -73.74194)],\n 191.8434011632452: [(40.6984364, -73.7606881)],\n 191.890314466971: [(40.6892698, -73.85791309999999)],\n 191.90123811790417: [(40.7298896, -73.81740479999999)],\n 191.8872175777114: [(40.7282239, -73.7948516)],\n 191.90826253648626: [(40.716213700000004, -73.85013520000001)],\n 191.84210000346363: [(40.68427, -73.7792998)],\n 191.84174725504965: [(40.703821999999995, -73.74977700000001)],\n 191.9634095897073: [(40.745379799999995, -73.9054145)],\n 191.92003304446678: [(40.723688, -73.86009)],\n 191.87080520121108: [(40.703546, -73.802032)],\n 191.85940467678063: [(40.7134361, -73.7670772)],\n 191.92593834406554: [(40.7164914, -73.8812472)],\n 191.95393396921145: [(40.761212799999996, -73.86513559999999)],\n 191.91002140310144: [(40.800656700000005, -73.7284647)],\n 191.89398378794513: [(40.768713, -73.7470765)],\n 191.76322502843547: [(40.605382399999996, -73.7551325)],\n 191.7979897770445: [(40.60316029999999, -73.820412)],\n 191.89154152027834: [(40.7978787, -73.6995749)],\n 191.90666610697335: [(40.74982429999999, -73.7976337)],\n 215.22754045061572: [(34.101418, -118.33659499999999)],\n 215.34228866275933: [(34.1489719, -118.451357)],\n 215.26529439072385: [(34.13889, -118.3525)],\n 215.26422691633553: [(34.18083920000001, -118.30896609999998)],\n 215.27060209277673: [(34.1475, -118.3513889)],\n 215.23455032980576: [(34.084037, -118.36391599999999)],\n 215.29880716174742: [(34.1435878, -118.39522209999998)],\n 215.2499464912816: [(34.1176605, -118.3520389)],\n 215.30758759847447: [(34.172228100000005, -118.37896840000002)],\n 215.21774859181073: [(34.09833, -118.32583000000001)],\n 215.34745545956574: [(34.1632818, -118.44434380000001)],\n 215.3416617752382: [(34.151109999999996, -118.44833)],\n 215.31968865272262: [(34.187044, -118.3812562)],\n 215.333546204303: [(34.2175042, -118.37035759999999)],\n 215.25284863470202: [(34.0928459, -118.38098899999999)],\n 215.24260024317923: [(34.075936799999994, -118.3834136)],\n 215.25094599679113: [(34.087503999999996, -118.38364399999999)],\n 215.23724069001457: [(34.0900091, -118.3617443)],\n 215.1268321963791: [(33.884736100000005, -118.41090890000001)],\n 215.08578355755526: [(33.8491816, -118.3884078)],\n 215.1403782885413: [(33.9616801, -118.3531311)],\n 214.9376885426505: [(33.7358518, -118.2922934)],\n 215.09009934136753: [(33.9414035, -118.3022963)],\n 215.12823967608486: [(33.881322499999996, -118.41631029999999)],\n 214.99623420730182: [(33.756961499999996, -118.3539613)],\n 215.10796678842033: [(33.9164032, -118.35257479999999)],\n 215.05729099177205: [(33.8883487, -118.30896240000001)],\n 214.99365956584373: [(33.792239200000004, -118.3150722)],\n 215.0425645616778: [(33.835849200000006, -118.34062879999999)],\n 215.0107885883637: [(33.7444613, -118.3870173)],\n 215.10287147131493: [(33.8622366, -118.39951940000002)],\n 215.15511160023843: [(33.9191799, -118.4164652)],\n 215.12328810598999: [(33.9380695, -118.3525752)],\n 215.1635017649372: [(33.942809000000004, -118.4047064)],\n 214.9979724728069: [(33.8314058, -118.2820165)],\n 215.02097384983878: [(33.787794299999995, -118.3581284)],\n 192.14141786040543: [(40.8120447, -74.12430959999999)],\n 192.14429636047666: [(40.833989, -74.0970865)],\n 192.22118313605253: [(40.829822, -74.24014659999999)],\n 192.14965983824789: [(40.767323, -74.20486770000001)],\n 192.13057052761317: [(40.797275, -74.126758)],\n 192.1171867767541: [(40.7684342, -74.1454214)],\n 192.21423575344613: [(40.903987799999996, -74.118476)],\n 192.10520422414442: [(40.735657, -74.1723667)],\n 192.17136892532494: [(40.806767, -74.1854226)],\n 192.1051158380852: [(40.7464901, -74.1562551)],\n 192.16951389842552: [(40.8531553, -74.1137537)],\n 192.14599796933803: [(40.8403778, -74.09069740000001)],\n 192.19267921548243: [(40.907321100000004, -74.0751412)],\n 192.14075369460323: [(40.7937116, -74.1501438)],\n 192.17673615229435: [(40.817405, -74.17930759999999)],\n 192.18051796461614: [(40.805378000000005, -74.2037566)],\n 192.17135771117893: [(40.806754600000005, -74.1854209)],\n 192.19482258083855: [(40.798711299999994, -74.2390353)],\n 192.1680252660117: [(40.770656200000005, -74.2326463)],\n 192.13756688927708: [(40.7323235, -74.2348684)],\n 192.20941882900013: [(40.926276200000004, -74.07701)],\n 192.20195129434862: [(40.858432799999996, -74.16375529999999)],\n 192.1435467387397: [(40.826489, -74.10680909999999)],\n 192.1698870367728: [(40.8223223, -74.15986629999999)],\n 192.20048844071766: [(40.82593320000001, -74.2090343)],\n 192.17650537580283: [(40.8823215, -74.08319709999999)],\n 192.1268713422066: [(40.788434, -74.1331988)],\n 192.233095553898: [(40.8517662, -74.229035)],\n 192.18128980369116: [(40.902599, -74.0618074)],\n 191.981198310826: [(40.847322600000005, -73.7865218)],\n 192.15144109637436: [(40.8975992, -74.0159727)],\n 192.17634137976384: [(40.9406541, -73.9968051)],\n 192.18420218303194: [(40.9350986, -74.0190281)],\n 192.0567271448379: [(40.8570671, -73.90690749999999)],\n 192.1059650567059: [(40.8614887, -73.98819420000001)],\n 192.074992449187: [(40.8656555, -73.9268035)],\n 192.0819616383239: [(40.9381544, -73.83207840000001)],\n 192.08709971660178: [(40.8509333, -73.9701381)],\n 192.02816739644024: [(40.85010020000001, -73.86624640000001)],\n 192.14469105795862: [(40.9253766, -73.96291540000001)],\n 192.04939994850423: [(40.8245592209387, -73.9418506622314)],\n 192.1232305523632: [(40.8928771, -73.9726381)],\n 192.15224601217: [(40.9559316, -73.9312478)],\n 192.03605599329364: [(40.8586506, -73.8676865)],\n 192.18347827282895: [(40.9731536, -73.9615262)],\n 192.1534049117214: [(40.891351, -74.028697)],\n 192.04495395589382: [(40.9098215, -73.8079111)],\n 192.16584271746285: [(40.927598700000004, -73.9973608)],\n 192.0385940971114: [(40.8884329, -73.82818940000001)],\n 192.06359230247853: [(40.9125992, -73.8370786)],\n 192.10565089961332: [(40.8853773, -73.9523597)],\n 192.11355790628937: [(40.9312099, -73.8987469)],\n 173.02376676238697: [(51.489112, -0.1106702)],\n 173.0500635228039: [(51.4929163, -0.2257916)],\n 173.05536358900324: [(51.5151238, -0.141769)],\n 173.07148121185085: [(51.5584299, -0.0069345)],\n 173.06854468047638: [(51.5457865, -0.0554184)],\n 173.06739166244154: [(51.534979799999995, -0.1037379)],\n 173.06268286809328: [(51.515958399999995, -0.17494690000000002)],\n 173.00285611307078: [(51.487198, -0.013279)],\n 173.00814074730448: [(51.45678970000001, -0.1926795)],\n 173.0320045803577: [(51.4799393, -0.19861310000000001)],\n 173.05659677107036: [(51.505359000000006, -0.196913)],\n 173.04580902576288: [(51.508129, -0.128005)],\n 173.07881943663688: [(51.539536, -0.139299)],\n 173.02348717350452: [(51.508782000000004, -0.0105222)],\n 173.03764049479057: [(51.5001524, -0.12623620000000002)],\n 172.90461845591338: [(51.360124, -0.148147)],\n 173.0520103751015: [(51.5018856, -0.19089479999999998)],\n 173.06691766379564: [(51.54139, -0.06916)],\n 173.07910497896896: [(51.539187, -0.142505)],\n 173.06343219834295: [(51.51658, -0.17565999999999998)],\n 191.83299822574116: [(40.735101799999995, -73.68790820000001)],\n 191.80410329471783: [(40.752600799999996, -73.6104058)],\n 191.86593579069975: [(40.7998227, -73.6509622)],\n 191.79607181215252: [(40.7267682, -73.6342954)],\n 191.70641438219798: [(40.6042705, -73.65540779999999)],\n 191.6908916655877: [(40.6837121, -73.5101258)],\n 191.74564321014432: [(40.6420477, -73.6695747)],\n 191.82796473498314: [(40.788711299999996, -73.59957170000001)],\n 191.7973110204775: [(40.7920441, -73.53984759999999)],\n 191.69679113343716: [(40.662879499999995, -73.551516)],\n 191.80329633941636: [(40.7073244, -73.6759635)],\n 191.74334354405397: [(40.7139898, -73.5590157)],\n 191.7263873541876: [(40.6387141, -73.6401296)],\n 191.9080904238362: [(40.8623217, -73.63373890000001)],\n 191.77033080848983: [(40.706212799999996, -73.6187397)],\n 191.68794302111766: [(40.6687125, -73.5270709)],\n 191.82660860310745: [(40.75649, -73.64485129999998)],\n 191.66387846599514: [(40.6659344, -73.4881809)],\n 191.83305478468566: [(40.7237133, -73.7048532)],\n 191.79388610201082: [(40.755656099999996, -73.5876273)],\n 191.86231879818152: [(40.8106558, -73.6284614)],\n 191.72821698922272: [(40.7259336, -73.51429209999999)],\n 191.7574724328841: [(40.6548253, -73.6717969)],\n 191.78675682584282: [(40.704824200000004, -73.6501295)],\n 191.81869974550844: [(40.700936, -73.712909)],\n 191.8478644269392: [(40.774823100000006, -73.6556848)],\n 191.7695042560665: [(40.7684331, -73.5251253)],\n 191.8988564518039: [(40.875932399999996, -73.5970707)],\n 191.8397153774699: [(40.7734341, -73.64318440000001)],\n 191.8426278442276: [(40.743157399999994, -73.69318609999999)],\n 191.73537220495732: [(40.6686336, -73.61191290000001)],\n 191.71014613606195: [(40.65760220000001, -73.58318349999999)],\n 191.71039505162372: [(40.69149, -73.53345970000001)],\n 191.78583876362447: [(40.664269899999994, -73.7084645)],\n 191.81829155498667: [(40.7492678, -73.64068449999999)],\n 191.7510340618985: [(40.700379299999994, -73.5929056)],\n 191.74357783542814: [(40.6587138, -73.64124059999999)],\n 191.76148599334704: [(40.6320482, -73.7126314)],\n 191.82367454025956: [(40.7409348, -73.6626297)],\n 191.79903740379703: [(40.712324200000005, -73.66096309999999)],\n 191.7964394305788: [(40.676475, -73.70934129999999)],\n 191.69470059846034: [(40.588437299999995, -73.65790799999999)],\n 192.08561505091274: [(40.957727399999996, -73.8096466)],\n 192.10151191846506: [(41.040833, -73.715)],\n 192.16795897509965: [(41.014541799999996, -73.872635)],\n 192.14855888910705: [(41.0106531, -73.8437452)],\n 192.08944208986506: [(40.950376399999996, -73.82735600000001)],\n 192.02849310756412: [(40.927876899999994, -73.7517983)],\n 192.04063640024216: [(40.9652581, -73.7181497)],\n 192.20578990912975: [(41.1234293, -73.7790218)],\n 192.03502694910546: [(40.9487097, -73.7326309)],\n 192.12995808207933: [(41.018986299999995, -73.7981884)],\n 192.1108299807187: [(41.0050977, -73.7845768)],\n 192.16332412481304: [(41.074818799999996, -73.77513259999999)],\n 192.1880700242822: [(41.0112085, -73.9134694)],\n 192.04154069943587: [(41.0017643, -73.6656834)],\n 192.21127375930513: [(41.076207700000005, -73.85874609999999)],\n 192.18514946946115: [(41.0391, -73.867)],\n 192.0320227352875: [(40.9114882, -73.78235490000002)],\n 192.12264337111276: [(41.0339862, -73.76290970000001)],\n 192.15481314260464: [(40.994541999999996, -73.87874609999999)],\n 192.17216538660733: [(41.055096899999995, -73.8201337)],\n 192.06599135282661: [(41.0192641, -73.68346209999999)],\n 192.03414271840566: [(40.980653499999995, -73.6837399)],\n 192.21347779698473: [(41.1220194, -73.7948516)],\n 192.21894385881674: [(41.085652, -73.8584684)],\n 192.20191726170015: [(41.107318299999996, -73.7959666)],\n 201.06320188097308: [(41.9672532, -87.80756120000001)],\n 201.05106543901445: [(42.0411414, -87.69005870000001)],\n 201.1065105884938: [(42.0405852, -87.78256209999999)],\n 201.06808168824696: [(41.9634928, -87.82058640000001)],\n 201.16171176703017: [(42.03336229999999, -87.88339909999999)],\n 201.1192476418993: [(41.9891, -87.87147399999999)],\n 201.07104609398817: [(42.0333636, -87.7333934)],\n 201.229694176823: [(42.181691799999996, -87.8003437)],\n 201.10150500018008: [(42.0189191, -87.8028402)],\n 201.16699885453264: [(42.1350268, -87.75811879999999)],\n 201.07202880407212: [(41.9633641, -87.82728399999999)],\n 201.11814682915264: [(42.011141200000004, -87.8406192)],\n 201.24796581444528: [(42.171136499999996, -87.8445119)],\n 201.15264649767587: [(42.09975, -87.7808967)],\n 201.09565888547618: [(42.0722513, -87.72283840000001)],\n 201.1329385398012: [(42.069750899999995, -87.7878408)],\n 201.2038170887809: [(42.127526700000004, -87.82895479999999)],\n 201.04601313386846: [(42.00447570000001, -87.7300594)],\n 201.11122570793725: [(41.8897519, -87.98895429999999)],\n 201.0728668073877: [(41.935308299999996, -87.86561800000001)],\n 200.9321018716407: [(41.821421, -87.7828339)],\n 201.0405420936141: [(41.8814197, -87.883117)],\n 201.06012069580657: [(41.9055862, -87.8836732)],\n 201.13360615776728: [(41.9550296, -87.9400657)],\n 201.09242888481575: [(41.9558637, -87.8708965)],\n 201.11492242408414: [(41.8800296, -88.0078435)],\n 200.98377031840383: [(41.885031700000006, -87.7845025)],\n 201.02842568388206: [(41.79586389999999, -87.9756175)],\n 200.9757681304848: [(41.8239203, -87.8517253)],\n 201.01457362609432: [(41.8791979, -87.8431155)],\n 201.08954262531924: [(41.8994744, -87.9403418)],\n 201.0090274712169: [(41.80086420000001, -87.9370052)],\n 200.9904443352016: [(41.8347535, -87.861726)],\n 201.06481006398764: [(41.8500302, -87.9645077)],\n 200.96188174864366: [(41.8505874, -87.79366850000001)],\n 200.99407570066558: [(41.8097532, -87.9006155)],\n 200.98359282452753: [(41.7697533, -87.9358931)],\n 200.9338767715571: [(41.8455877, -87.7539448)],\n 201.02748139630916: [(41.92114229999999, -87.80922659999999)],\n 200.97131938650273: [(41.805031400000004, -87.8692254)],\n 201.05002531474628: [(41.8397865, -87.9535534)],\n 201.05878274631016: [(41.8889194, -87.90339559999998)],\n 201.0398393678507: [(41.900586499999996, -87.8567276)],\n 200.996984705125: [(41.879475799999994, -87.81367)],\n 201.01175344454492: [(41.8978091, -87.8139483)],\n 192.12278273229265: [(40.6764911, -74.2907032)],\n 192.14742391373102: [(40.6857016, -74.32097590000001)],\n 192.16618398679293: [(40.7489897, -74.2612583)],\n 192.19406299319434: [(40.7135009, -74.36302940000002)],\n 192.2284069752709: [(40.740934, -74.38376240000001)],\n 192.12046542275723: [(40.651769099999996, -74.32292640000001)],\n 192.1128525293569: [(40.65843579999999, -74.2995923)],\n 192.12474514869047: [(40.697589799999996, -74.2631635)],\n 192.17024766867493: [(40.7248234, -74.3040373)],\n 192.16111785214653: [(40.65538, -74.38987320000001)],\n 192.15683745729328: [(40.672324200000006, -74.3573722)],\n 192.1247770252036: [(40.697601899999995, -74.26320240000001)],\n 192.24372629439824: [(40.8206555, -74.2937594)],\n 192.1583515778456: [(40.731212299999996, -74.2734808)],\n 192.14558241759337: [(40.640935799999994, -74.383484)],\n 192.14018839337834: [(40.6589912, -74.34737170000001)],\n 192.2013402477547: [(40.7478786, -74.3254271)],\n 192.2351458049633: [(40.795933399999996, -74.3148712)],\n 192.20004069911352: [(40.723692, -74.358677)],\n 192.1613436361328: [(40.70169370000001, -74.3222146)],\n 215.48287498517337: [(34.1383333, -118.6608333)],\n 215.50670323208257: [(34.282213399999996, -118.5506158)],\n 215.46525391065094: [(34.1683386, -118.60591969999999)],\n 215.387257681947: [(34.230030299999996, -118.4338345)],\n 215.40673429300858: [(34.20003, -118.4914337)],\n 215.49360021383376: [(34.200588, -118.613757)],\n 215.43868512434443: [(34.201111100000006, -118.53555559999998)],\n 215.46530619962238: [(34.165357, -118.6089752)],\n 215.51715971472308: [(34.280207, -118.56741979999998)],\n 215.42762836134037: [(34.2819461, -118.4389719)],\n 215.3847313338832: [(34.159172399999996, -118.5011946)],\n 215.4305205867777: [(34.1307496, -118.5943873)],\n 215.47668031076213: [(34.166006, -118.62441100000001)],\n 215.45813315142186: [(34.22833, -118.53583)],\n 215.43206206052417: [(34.1733385, -118.553974)],\n 215.42771499423455: [(34.236388899999994, -118.48472220000001)],\n 215.51463966447758: [(34.2069265, -118.63717369999999)],\n 215.37121333884232: [(34.1898566, -118.451357)],\n 215.41564143781832: [(34.264306700000006, -118.4396756)],\n 215.47246096088838: [(34.21333, -118.57111)],\n 215.52477862648894: [(34.2572252, -118.60119920000001)],\n 215.40928023268015: [(34.09361810000001, -118.60147350000001)],\n 215.4829333332953: [(34.2011156, -118.59814240000001)],\n 191.6654251896368: [(40.7539878, -73.360398)],\n 191.63492091972714: [(40.6789893, -73.4170673)],\n 191.58601701133742: [(40.7209321, -73.26733990000001)],\n 191.59553420240888: [(40.706210399999996, -73.3062302)],\n 191.7253879526337: [(40.7442664, -73.4820687)],\n 191.67644768369212: [(40.72926629999999, -73.416789)],\n 191.59764701712285: [(40.695655200000004, -73.3256753)],\n 191.74386620039158: [(40.7764882, -73.4673454)],\n 191.61698334238864: [(40.6867667, -73.3734547)],\n 191.72871862834927: [(40.793432200000005, -73.4151214)],\n 191.62736252372844: [(40.68148920000001, -73.3998445)],\n 191.65449029939862: [(40.7617653, -73.32928570000001)],\n 191.66830989777796: [(40.680656299999995, -73.47429140000001)],\n 191.6127499959483: [(40.7164881, -73.3217861)],\n 191.69520973176006: [(40.7325997, -73.44540090000001)],\n 191.6322955152724: [(40.718154999999996, -73.354287)],\n 191.57721556100583: [(40.7250986, -73.2453946)],\n 191.65735751785712: [(40.680378499999996, -73.45512409999999)],\n 192.40621931863598: [(41.1148179, -74.14958890000001)],\n 192.2839762387057: [(41.0234304, -74.0665297)],\n 192.27884819057468: [(41.046763500000004, -74.02291729999999)],\n 192.25433694668487: [(41.0586111, -73.9616667)],\n 192.35775244455007: [(41.1112069, -74.06847509999999)],\n 192.2040799004125: [(41.0064864, -73.94902579999999)],\n 192.2560713040938: [(41.0634299, -73.9576378)],\n 192.34550639619525: [(41.1131514, -74.04375209999999)],\n 192.35378483258694: [(41.0573188, -74.1409771)],\n 192.35230739962248: [(41.05762120000001, -74.13789670000001)],\n 192.2302195851835: [(40.99537539999999, -74.0120832)],\n 192.2311932490012: [(41.010653000000005, -73.9912493)],\n 192.32827651428568: [(41.084263, -74.05569659999999)],\n 192.29201154993683: [(41.096484999999994, -73.9729162)],\n 192.238293855214: [(40.99120870000001, -74.0326395)],\n 192.28834726998107: [(41.0589855, -74.0218063)],\n 192.43881221655406: [(41.141110999999995, -74.16888900000001)],\n 192.30015697289065: [(41.118151399999995, -73.9554159)],\n 192.25208512132008: [(41.0025975, -74.0404175)],\n 192.23752269834003: [(41.04648579999999, -73.94958179999999)],\n 192.21372070268998: [(40.9587093, -74.0368064)],\n 192.3082928922146: [(41.088707299999996, -74.013473)],\n 192.2222914400217: [(40.976209000000004, -74.0262505)],\n 192.4248697234972: [(41.1239845, -74.16931190000001)],\n 192.3435312265646: [(41.1475954, -73.989306)],\n 192.2563719758437: [(41.0906519, -73.91791459999999)],\n 192.41461197087386: [(41.18985, -74.053709)],\n 192.25474634434977: [(40.916765399999996, -74.171811)],\n 192.302218410188: [(41.0106528, -74.1179203)],\n 192.26502591286265: [(40.8409329, -74.30181540000001)],\n 192.23564300940754: [(40.8689881, -74.2082011)],\n 192.42381861261512: [(41.0381525, -74.2940378)],\n 192.32067794750023: [(40.925376299999996, -74.2765368)],\n 192.35652915361746: [(41.016763899999994, -74.2057011)],\n 192.2784868519315: [(40.935654, -74.186256)],\n 192.39482488608274: [(41.0053753, -74.2907041)],\n 192.22364807744611: [(40.944542799999994, -74.0754189)],\n 192.3611659669288: [(40.960201, -74.29732390000001)],\n 192.33215648679968: [(41.0095417, -74.1729222)],\n 192.26645840014908: [(40.9050988, -74.2098679)],\n 192.2754548205689: [(40.9792645, -74.11653129999999)],\n 192.334115106785: [(40.9242652, -74.3020933)],\n 192.42199780654084: [(41.003708700000004, -74.3415394)],\n 192.30275156404167: [(40.8837102, -74.3059823)],\n 192.24990131756184: [(40.8398218, -74.27653659999999)],\n 192.27150923577628: [(40.949264899999996, -74.15375490000001)],\n 192.36698356234712: [(40.968056, -74.296111)],\n 192.3864426504064: [(41.0131529, -74.2643143)],\n 192.24539372745087: [(40.88982120000001, -74.1948674)],\n 192.27108389938684: [(40.9628758, -74.1329207)],\n 192.25183684265366: [(40.9403762, -74.1318096)],\n 192.35677134075272: [(40.921944, -74.345833)],\n 192.41686571354683: [(41.0284304, -74.29598229999999)],\n 192.4121927465454: [(41.002041999999996, -74.3265388)],\n 192.0589635248691: [(39.8774, -75.344139)],\n 192.05843406875866: [(39.8898346, -75.3251882)],\n 192.10685486301944: [(39.8692, -75.4402993)],\n 192.18858960992455: [(39.948417299999996, -75.4694285)],\n 192.01975312060273: [(39.861944, -75.2975)],\n 192.11611259249258: [(39.9167783, -75.387693)],\n 192.1814114598041: [(39.986667, -75.401389)],\n 192.04681098632162: [(39.81275, -75.416373)],\n 192.0632970348487: [(39.8265015, -75.4254722)],\n 192.06115529218172: [(39.928333, -75.274167)],\n 192.0578950380485: [(39.8276126, -75.4143604)],\n 192.07402467608986: [(39.8692789, -75.3824144)],\n ...}"
     },
     "execution_count": 131,
     "metadata": {},
     "output_type": "execute_result"
    }
   ],
   "source": [
    "distances_dict = dict()\n",
    "for office in offices:\n",
    "    for clusters_coords in useful_clusters['coords']:\n",
    "        for coord in clusters_coords:\n",
    "            dist = distance(office, (coord[1], coord[0]))\n",
    "            if dist not in distances_dict.keys():\n",
    "                distances_dict[dist] = [coord]\n",
    "            else:\n",
    "                distances_dict[dist].append(coord)\n",
    "distances_dict"
   ],
   "metadata": {
    "collapsed": false,
    "pycharm": {
     "name": "#%%\n"
    }
   }
  },
  {
   "cell_type": "code",
   "execution_count": 132,
   "outputs": [
    {
     "data": {
      "text/plain": "[54.634760155304356,\n 54.640504151674676,\n 54.656288431232184,\n 54.69617484697593,\n 54.70717025375446,\n 54.71077611998651,\n 54.725436071413256,\n 54.73663159567198,\n 54.74404502947794,\n 54.74873690150091,\n 54.76413098286318,\n 54.771216391394276,\n 54.77404281527019,\n 54.78882870446247,\n 54.79509378860363,\n 54.79599067723418,\n 54.80316377127451,\n 54.804433365788555,\n 54.81132294302883,\n 54.833239329411626]"
     },
     "execution_count": 132,
     "metadata": {},
     "output_type": "execute_result"
    }
   ],
   "source": [
    "min_distances = sorted(list(distances_dict.keys()))[:20]\n",
    "min_distances"
   ],
   "metadata": {
    "collapsed": false,
    "pycharm": {
     "name": "#%%\n"
    }
   }
  },
  {
   "cell_type": "code",
   "execution_count": 133,
   "outputs": [
    {
     "data": {
      "text/plain": "[(51.487198, -0.013279),\n (51.508782000000004, -0.0105222),\n (51.5584299, -0.0069345),\n (51.5457865, -0.0554184),\n (51.54139, -0.06916),\n (51.360124, -0.148147),\n (51.489112, -0.1106702),\n (51.534979799999995, -0.1037379),\n (51.5001524, -0.12623620000000002),\n (51.508129, -0.128005),\n (51.5151238, -0.141769),\n (51.539536, -0.139299),\n (51.539187, -0.142505),\n (51.45678970000001, -0.1926795),\n (51.515958399999995, -0.17494690000000002),\n (51.51658, -0.17565999999999998),\n (51.4799393, -0.19861310000000001),\n (51.5018856, -0.19089479999999998),\n (51.505359000000006, -0.196913),\n (51.4929163, -0.2257916)]"
     },
     "execution_count": 133,
     "metadata": {},
     "output_type": "execute_result"
    }
   ],
   "source": [
    "min_coords = []\n",
    "for min_dist in min_distances:\n",
    "    min_coords.append(distances_dict[min_dist][0] if len(distances_dict[min_dist]) == 1 else distances_dict[min_dist])\n",
    "min_coords"
   ],
   "metadata": {
    "collapsed": false,
    "pycharm": {
     "name": "#%%\n"
    }
   }
  },
  {
   "cell_type": "code",
   "execution_count": 134,
   "outputs": [
    {
     "name": "stdout",
     "output_type": "stream",
     "text": [
      "Ближайшая к офису координата: (51.487198, -0.013279)\n"
     ]
    }
   ],
   "source": [
    "MINIMAL_COORD = min_coords[0]\n",
    "print(f'Ближайшая к офису координата: {MINIMAL_COORD}')"
   ],
   "metadata": {
    "collapsed": false,
    "pycharm": {
     "name": "#%%\n"
    }
   }
  }
 ],
 "metadata": {
  "kernelspec": {
   "display_name": "Python 3",
   "language": "python",
   "name": "python3"
  },
  "language_info": {
   "codemirror_mode": {
    "name": "ipython",
    "version": 2
   },
   "file_extension": ".py",
   "mimetype": "text/x-python",
   "name": "python",
   "nbconvert_exporter": "python",
   "pygments_lexer": "ipython2",
   "version": "2.7.6"
  }
 },
 "nbformat": 4,
 "nbformat_minor": 0
}