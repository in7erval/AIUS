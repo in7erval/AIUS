{
 "cells": [
  {
   "cell_type": "markdown",
   "metadata": {
    "id": "DR4xRYNQEM-d"
   },
   "source": [
    "### Читаем файл"
   ]
  },
  {
   "cell_type": "code",
   "execution_count": 47,
   "metadata": {
    "colab": {
     "base_uri": "https://localhost:8080/",
     "height": 0
    },
    "id": "xJcTl9hVDmS2",
    "outputId": "32fc8afe-b4e4-4cd6-9d3d-533d48f65b4d"
   },
   "outputs": [
    {
     "name": "stdout",
     "output_type": "stream",
     "text": [
      "Line's count: 5574\n"
     ]
    }
   ],
   "source": [
    "with open('SMSSpamCollection.txt') as f:\n",
    "  file_lines = f.readlines()\n",
    "print(f\"Line's count: {len(file_lines)}\")"
   ]
  },
  {
   "cell_type": "markdown",
   "metadata": {
    "id": "exnFOovdEQU7"
   },
   "source": [
    "### Парсим строки"
   ]
  },
  {
   "cell_type": "code",
   "execution_count": 48,
   "metadata": {
    "colab": {
     "base_uri": "https://localhost:8080/",
     "height": 0
    },
    "id": "-58H7oQiEF-l",
    "outputId": "09e008c7-72a0-4cea-e0ee-aebf76ce7644"
   },
   "outputs": [
    {
     "name": "stdout",
     "output_type": "stream",
     "text": [
      "Check that parsed_lines containts only SPAM and NOT_SPAM: parsed_lines.keys() = dict_keys(['spam', 'not_spam'])\n",
      "Spam message's count: 747\n",
      "Not spam message's count: 4827\n",
      "Spam example: \"Free entry in 2 a wkly comp to win FA Cup final tkts 21st May 2005. Text FA to 87121 to receive entry question(std txt rate)T&C's apply 08452810075over18's \"\n",
      "Not spam ex: \"Go until jurong point, crazy.. Available only in bugis n great world la e buffet... Cine there got amore wat... \"\n"
     ]
    }
   ],
   "source": [
    "SPAM = 'spam'\n",
    "NOT_SPAM = 'not_spam'\n",
    "parsed_lines = {SPAM: [], NOT_SPAM: []}\n",
    "for line in file_lines:\n",
    "  splitted_line = line.split(maxsplit=1)\n",
    "  key = splitted_line[0] if splitted_line[0] != 'ham' else NOT_SPAM # хз что такое ham, меняем на not_spam\n",
    "  value = splitted_line[1].replace('\\n', ' ').replace('\\t', ' ')\n",
    "  parsed_lines[key].append(value) # будем надеяться, что со строчками всё ок и сделаем так ^_^\n",
    "print(f\"Check that parsed_lines containts only SPAM and NOT_SPAM: parsed_lines.keys() = {parsed_lines.keys()}\")\n",
    "print(f\"Spam message's count: {len(parsed_lines['spam'])}\\nNot spam message's count: {len(parsed_lines['not_spam'])}\")\n",
    "print(f\"Spam example: \\\"{parsed_lines['spam'][0]}\\\"\\nNot spam ex: \\\"{parsed_lines['not_spam'][0]}\\\"\")"
   ]
  },
  {
   "cell_type": "markdown",
   "metadata": {
    "id": "9H1Q4P5wHiQT"
   },
   "source": [
    "### Красивый графичек с отношением количества спама к количеству не спама"
   ]
  },
  {
   "cell_type": "code",
   "execution_count": 49,
   "metadata": {
    "colab": {
     "base_uri": "https://localhost:8080/",
     "height": 267
    },
    "id": "z0WoM8ulHgir",
    "outputId": "e4cdfc25-d62b-44ed-f5e0-1635fa3eeeda"
   },
   "outputs": [
    {
     "data": {
      "text/plain": "<Figure size 432x288 with 1 Axes>",
      "image/png": "[encoded data removed]"
     },
     "metadata": {
      "needs_background": "light"
     },
     "output_type": "display_data"
    }
   ],
   "source": [
    "import matplotlib.pyplot as plt\n",
    "\n",
    "fig = plt.figure()\n",
    "plt.bar(SPAM, len(parsed_lines[SPAM]))\n",
    "plt.bar(NOT_SPAM, len(parsed_lines[NOT_SPAM]))\n",
    "plt.show()"
   ]
  },
  {
   "cell_type": "markdown",
   "metadata": {
    "id": "04vPaWMrK-be"
   },
   "source": [
    "### Используем pandas, чтобы удобно смотреть данные"
   ]
  },
  {
   "cell_type": "code",
   "execution_count": 50,
   "metadata": {
    "id": "vrah2WTNK9CJ"
   },
   "outputs": [],
   "source": [
    "import pandas as pd\n",
    "LABEL = 'label'\n",
    "MSG = 'message'"
   ]
  },
  {
   "cell_type": "markdown",
   "metadata": {
    "id": "w6Yf2oe8LqUH"
   },
   "source": [
    "### Объединяем dict parsed_lines, чтобы записать в таблицу. Паралелльно чистим текст"
   ]
  },
  {
   "cell_type": "code",
   "execution_count": 51,
   "metadata": {
    "id": "lfxrFE-hLp3v"
   },
   "outputs": [],
   "source": [
    "def clean_text(text):\n",
    "    return text.replace(r\"http\\S+\", \"\") \\\n",
    "      .replace(r\"http\", \"\") \\\n",
    "      .replace(r\"@\\S+\", \"\") \\\n",
    "      .replace(r\"[^A-Za-z0-9(),!?@\\'\\`\\\"\\_\\n]\", \" \") \\\n",
    "      .replace(r\"@\", \"at\").lower()\n",
    "\n",
    "import random\n",
    "data_table = []\n",
    "for spam_line in parsed_lines[SPAM]:\n",
    "  data_table.append({LABEL: SPAM, MSG: clean_text(spam_line)})\n",
    "for not_spam_line in parsed_lines[NOT_SPAM]:\n",
    "  data_table.append({LABEL: NOT_SPAM, MSG: clean_text(not_spam_line)})\n",
    "random.shuffle(data_table)"
   ]
  },
  {
   "cell_type": "code",
   "execution_count": 52,
   "metadata": {
    "colab": {
     "base_uri": "https://localhost:8080/",
     "height": 424
    },
    "id": "rvUYI0kXLFYP",
    "outputId": "d81ab571-bdce-44a0-e03e-c5d49885566d"
   },
   "outputs": [
    {
     "data": {
      "text/plain": "         label                                            message\n0     not_spam                            playin space poker, u? \n1     not_spam  tessy..pls do me a favor. pls convey my birthd...\n2     not_spam                      are you being good, baby? :) \n3     not_spam  hi baby im cruisin with my girl friend what r ...\n4     not_spam          so gd got free ice cream... i oso wan... \n...        ...                                                ...\n5569  not_spam                  yeah that's the impression i got \n5570  not_spam                   going for dinner.msg you after. \n5571  not_spam                          i wanna watch that movie \n5572      spam  you have won a nokia 7250i. this is what you g...\n5573  not_spam                       i want to go to perumbavoor \n\n[5574 rows x 2 columns]",
      "text/html": "<div>\n<style scoped>\n    .dataframe tbody tr th:only-of-type {\n        vertical-align: middle;\n    }\n\n    .dataframe tbody tr th {\n        vertical-align: top;\n    }\n\n    .dataframe thead th {\n        text-align: right;\n    }\n</style>\n<table border=\"1\" class=\"dataframe\">\n  <thead>\n    <tr style=\"text-align: right;\">\n      <th></th>\n      <th>label</th>\n      <th>message</th>\n    </tr>\n  </thead>\n  <tbody>\n    <tr>\n      <th>0</th>\n      <td>not_spam</td>\n      <td>playin space poker, u?</td>\n    </tr>\n    <tr>\n      <th>1</th>\n      <td>not_spam</td>\n      <td>tessy..pls do me a favor. pls convey my birthd...</td>\n    </tr>\n    <tr>\n      <th>2</th>\n      <td>not_spam</td>\n      <td>are you being good, baby? :)</td>\n    </tr>\n    <tr>\n      <th>3</th>\n      <td>not_spam</td>\n      <td>hi baby im cruisin with my girl friend what r ...</td>\n    </tr>\n    <tr>\n      <th>4</th>\n      <td>not_spam</td>\n      <td>so gd got free ice cream... i oso wan...</td>\n    </tr>\n    <tr>\n      <th>...</th>\n      <td>...</td>\n      <td>...</td>\n    </tr>\n    <tr>\n      <th>5569</th>\n      <td>not_spam</td>\n      <td>yeah that's the impression i got</td>\n    </tr>\n    <tr>\n      <th>5570</th>\n      <td>not_spam</td>\n      <td>going for dinner.msg you after.</td>\n    </tr>\n    <tr>\n      <th>5571</th>\n      <td>not_spam</td>\n      <td>i wanna watch that movie</td>\n    </tr>\n    <tr>\n      <th>5572</th>\n      <td>spam</td>\n      <td>you have won a nokia 7250i. this is what you g...</td>\n    </tr>\n    <tr>\n      <th>5573</th>\n      <td>not_spam</td>\n      <td>i want to go to perumbavoor</td>\n    </tr>\n  </tbody>\n</table>\n<p>5574 rows × 2 columns</p>\n</div>"
     },
     "execution_count": 52,
     "metadata": {},
     "output_type": "execute_result"
    }
   ],
   "source": [
    "df = pd.DataFrame(data_table)\n",
    "df"
   ]
  },
  {
   "cell_type": "code",
   "execution_count": 53,
   "metadata": {
    "colab": {
     "base_uri": "https://localhost:8080/",
     "height": 143
    },
    "id": "M99mBoy6NTqv",
    "outputId": "ebcd5c94-1def-4d85-f4b6-06a7e36b3c30"
   },
   "outputs": [
    {
     "data": {
      "text/plain": "          message\nlabel            \nnot_spam     4827\nspam          747",
      "text/html": "<div>\n<style scoped>\n    .dataframe tbody tr th:only-of-type {\n        vertical-align: middle;\n    }\n\n    .dataframe tbody tr th {\n        vertical-align: top;\n    }\n\n    .dataframe thead th {\n        text-align: right;\n    }\n</style>\n<table border=\"1\" class=\"dataframe\">\n  <thead>\n    <tr style=\"text-align: right;\">\n      <th></th>\n      <th>message</th>\n    </tr>\n    <tr>\n      <th>label</th>\n      <th></th>\n    </tr>\n  </thead>\n  <tbody>\n    <tr>\n      <th>not_spam</th>\n      <td>4827</td>\n    </tr>\n    <tr>\n      <th>spam</th>\n      <td>747</td>\n    </tr>\n  </tbody>\n</table>\n</div>"
     },
     "execution_count": 53,
     "metadata": {},
     "output_type": "execute_result"
    }
   ],
   "source": [
    "df.groupby(LABEL).count()"
   ]
  },
  {
   "cell_type": "markdown",
   "metadata": {
    "id": "Wan4hQBANf02"
   },
   "source": [
    "### Токенизируем текст"
   ]
  },
  {
   "cell_type": "code",
   "execution_count": 54,
   "metadata": {
    "colab": {
     "base_uri": "https://localhost:8080/",
     "height": 206
    },
    "id": "dQyaiHv2NW16",
    "outputId": "2f04070f-c1bc-4a5f-a24f-a77771f058bb"
   },
   "outputs": [
    {
     "data": {
      "text/plain": "      label                                            message  \\\n0  not_spam                            playin space poker, u?    \n1  not_spam  tessy..pls do me a favor. pls convey my birthd...   \n2  not_spam                      are you being good, baby? :)    \n3  not_spam  hi baby im cruisin with my girl friend what r ...   \n4  not_spam          so gd got free ice cream... i oso wan...    \n\n                                              tokens  \n0                          [playin, space, poker, u]  \n1  [tessy, pls, do, me, a, favor, pls, convey, my...  \n2                      [are, you, being, good, baby]  \n3  [hi, baby, im, cruisin, with, my, girl, friend...  \n4       [so, gd, got, free, ice, cream, i, oso, wan]  ",
      "text/html": "<div>\n<style scoped>\n    .dataframe tbody tr th:only-of-type {\n        vertical-align: middle;\n    }\n\n    .dataframe tbody tr th {\n        vertical-align: top;\n    }\n\n    .dataframe thead th {\n        text-align: right;\n    }\n</style>\n<table border=\"1\" class=\"dataframe\">\n  <thead>\n    <tr style=\"text-align: right;\">\n      <th></th>\n      <th>label</th>\n      <th>message</th>\n      <th>tokens</th>\n    </tr>\n  </thead>\n  <tbody>\n    <tr>\n      <th>0</th>\n      <td>not_spam</td>\n      <td>playin space poker, u?</td>\n      <td>[playin, space, poker, u]</td>\n    </tr>\n    <tr>\n      <th>1</th>\n      <td>not_spam</td>\n      <td>tessy..pls do me a favor. pls convey my birthd...</td>\n      <td>[tessy, pls, do, me, a, favor, pls, convey, my...</td>\n    </tr>\n    <tr>\n      <th>2</th>\n      <td>not_spam</td>\n      <td>are you being good, baby? :)</td>\n      <td>[are, you, being, good, baby]</td>\n    </tr>\n    <tr>\n      <th>3</th>\n      <td>not_spam</td>\n      <td>hi baby im cruisin with my girl friend what r ...</td>\n      <td>[hi, baby, im, cruisin, with, my, girl, friend...</td>\n    </tr>\n    <tr>\n      <th>4</th>\n      <td>not_spam</td>\n      <td>so gd got free ice cream... i oso wan...</td>\n      <td>[so, gd, got, free, ice, cream, i, oso, wan]</td>\n    </tr>\n  </tbody>\n</table>\n</div>"
     },
     "execution_count": 54,
     "metadata": {},
     "output_type": "execute_result"
    }
   ],
   "source": [
    "from nltk.tokenize import RegexpTokenizer\n",
    "\n",
    "TOKENS = 'tokens'\n",
    "tokenizer = RegexpTokenizer(r'\\w+')\n",
    "\n",
    "df[TOKENS] = df[MSG].apply(tokenizer.tokenize)\n",
    "df.head()"
   ]
  },
  {
   "cell_type": "markdown",
   "metadata": {
    "id": "qLW1RAoSN3YC"
   },
   "source": [
    "### Немного больше информации о тексте, а именно длина сообщения"
   ]
  },
  {
   "cell_type": "code",
   "execution_count": 55,
   "metadata": {
    "colab": {
     "base_uri": "https://localhost:8080/",
     "height": 0
    },
    "id": "pX5EYaW4N5tf",
    "outputId": "d3e33d6d-4078-4d72-a1b2-000d5c6c93d3"
   },
   "outputs": [
    {
     "name": "stdout",
     "output_type": "stream",
     "text": [
      "90357 words total, with a vocabulary size of 8757\n",
      "Max sentence length is 190\n"
     ]
    }
   ],
   "source": [
    "all_words = [word for tokens in df[TOKENS] for word in tokens]\n",
    "sentence_lengths_spam = [len(tokens) for tokens in df.loc[df[LABEL] == SPAM][TOKENS]]\n",
    "sentence_lengths_not_spam = [len(tokens) for tokens in df.loc[df[LABEL] == NOT_SPAM][TOKENS]]\n",
    "VOCAB = sorted(list(set(all_words)))\n",
    "print(\"%s words total, with a vocabulary size of %s\" % (len(all_words), len(VOCAB)))\n",
    "print(\"Max sentence length is %s\" % max(max(sentence_lengths_spam), max(sentence_lengths_not_spam)))"
   ]
  },
  {
   "cell_type": "markdown",
   "metadata": {
    "id": "aqGEEn9vOHlb"
   },
   "source": [
    "### Ещё один красивый графичек, красивых графичков много не бывает"
   ]
  },
  {
   "cell_type": "code",
   "execution_count": 56,
   "metadata": {
    "colab": {
     "base_uri": "https://localhost:8080/",
     "height": 661
    },
    "id": "npS4dO1ZOFJt",
    "outputId": "a715c798-fbf1-45e7-ef9d-4d2a53de51fe"
   },
   "outputs": [
    {
     "data": {
      "text/plain": "<Figure size 720x720 with 1 Axes>",
      "image/png": "[encoded data removed]"
     },
     "metadata": {
      "needs_background": "light"
     },
     "output_type": "display_data"
    }
   ],
   "source": [
    "fig = plt.figure(figsize=(10, 10)) \n",
    "plt.xlabel('Sentence length')\n",
    "plt.ylabel('Number of sentences')\n",
    "plt.hist([sentence_lengths_spam, sentence_lengths_not_spam], label=[SPAM, NOT_SPAM])\n",
    "plt.legend()\n",
    "plt.show()"
   ]
  },
  {
   "cell_type": "markdown",
   "metadata": {
    "id": "7QAO93ojOQVC"
   },
   "source": [
    "### Как видим большинство сообщений короткие, поэтому трудно сказать, но у спама только короткие"
   ]
  },
  {
   "cell_type": "markdown",
   "metadata": {
    "id": "rYHPfHohRspx"
   },
   "source": [
    "### Обычный LabelEncoder сюда не подойдет (ну можно, но сложно), воспользуемся CountVectorizer"
   ]
  },
  {
   "cell_type": "code",
   "execution_count": 57,
   "metadata": {
    "id": "XOD1T4N6OPdS"
   },
   "outputs": [],
   "source": [
    "from sklearn.model_selection import train_test_split\n",
    "from sklearn.feature_extraction.text import CountVectorizer\n",
    "\n",
    "count_vectorizer = CountVectorizer()"
   ]
  },
  {
   "cell_type": "markdown",
   "source": [
    "### Разобьём данные на тестовую и тренировочную выборки"
   ],
   "metadata": {
    "collapsed": false,
    "pycharm": {
     "name": "#%% md\n"
    }
   }
  },
  {
   "cell_type": "code",
   "execution_count": 58,
   "metadata": {
    "colab": {
     "base_uri": "https://localhost:8080/",
     "height": 0
    },
    "id": "-1Lty72eSS1j",
    "outputId": "124f8448-8802-4511-9a68-375a3c49c815"
   },
   "outputs": [],
   "source": [
    "list_corpus = df[MSG].tolist()\n",
    "list_labels = df[LABEL].tolist()\n",
    "\n",
    "X_train, X_test, y_train, y_test = train_test_split(list_corpus, list_labels, test_size=0.3)"
   ]
  },
  {
   "cell_type": "markdown",
   "source": [
    "### Оценим соотношение СПАМА к НЕ_СПАМУ в выборках"
   ],
   "metadata": {
    "collapsed": false,
    "pycharm": {
     "name": "#%% md\n"
    }
   }
  },
  {
   "cell_type": "code",
   "execution_count": 59,
   "outputs": [
    {
     "name": "stdout",
     "output_type": "stream",
     "text": [
      "Test: SPAM/NOT_SPAM = 13.69/86.31 %\n",
      "Train: SPAM/NOT_SPAM = 13.28/86.72 %\n"
     ]
    }
   ],
   "source": [
    "spam_train_percents = round(y_train.count(SPAM)/len(y_train) * 100, 2)\n",
    "spam_test_percents = round(y_test.count(SPAM)/len(y_test) * 100, 2)\n",
    "not_spam_train_percents = round(y_train.count(NOT_SPAM)/len(y_train) * 100, 2)\n",
    "not_spam_test_percents = round(y_test.count(NOT_SPAM)/len(y_test) * 100, 2)\n",
    "print(f'Test: SPAM/NOT_SPAM = {spam_test_percents}/{not_spam_test_percents} %')\n",
    "print(f'Train: SPAM/NOT_SPAM = {spam_train_percents}/{not_spam_train_percents} %')"
   ],
   "metadata": {
    "collapsed": false,
    "pycharm": {
     "name": "#%%\n"
    }
   }
  },
  {
   "cell_type": "markdown",
   "source": [
    "### Закодируем слова"
   ],
   "metadata": {
    "collapsed": false,
    "pycharm": {
     "name": "#%% md\n"
    }
   }
  },
  {
   "cell_type": "code",
   "execution_count": 60,
   "outputs": [],
   "source": [
    "X_train = count_vectorizer.fit_transform(X_train)\n",
    "X_test = count_vectorizer.transform(X_test)"
   ],
   "metadata": {
    "collapsed": false,
    "pycharm": {
     "name": "#%%\n"
    }
   }
  },
  {
   "cell_type": "markdown",
   "source": [
    "### Выведем 10 закодированных слов"
   ],
   "metadata": {
    "collapsed": false,
    "pycharm": {
     "name": "#%% md\n"
    }
   }
  },
  {
   "cell_type": "code",
   "execution_count": 61,
   "outputs": [
    {
     "name": "stdout",
     "output_type": "stream",
     "text": [
      "key=go, value=2980\n",
      "key=fool, value=2768\n",
      "key=dont, value=2277\n",
      "key=cheat, value=1677\n",
      "key=others, value=4704\n",
      "key=ok, value=4624\n",
      "key=make, value=4064\n",
      "key=sure, value=6214\n",
      "key=alex, value=855\n",
      "key=knows, value=3714\n"
     ]
    }
   ],
   "source": [
    "max_print = 10\n",
    "for key, value in count_vectorizer.vocabulary_.items():\n",
    "    if max_print <= 0:\n",
    "        break\n",
    "    max_print -= 1\n",
    "    print(f'key={key}, value={value}')"
   ],
   "metadata": {
    "collapsed": false,
    "pycharm": {
     "name": "#%%\n"
    }
   }
  },
  {
   "cell_type": "markdown",
   "metadata": {
    "id": "2kUXV1vHYMeA"
   },
   "source": [
    "## Попробуем сначала *логистическую регрессию*"
   ]
  },
  {
   "cell_type": "code",
   "execution_count": 62,
   "metadata": {
    "colab": {
     "base_uri": "https://localhost:8080/",
     "height": 0
    },
    "id": "ndKONId-TT6j",
    "outputId": "a407b835-ce05-4847-da16-e62259877edc"
   },
   "outputs": [
    {
     "name": "stdout",
     "output_type": "stream",
     "text": [
      "Результаты для тренировочной выборки\n",
      "              precision    recall  f1-score   support\n",
      "\n",
      "    not_spam       1.00      1.00      1.00      3383\n",
      "        spam       1.00      0.98      0.99       518\n",
      "\n",
      "    accuracy                           1.00      3901\n",
      "   macro avg       1.00      0.99      0.99      3901\n",
      "weighted avg       1.00      1.00      1.00      3901\n",
      "\n",
      "Результаты для тестовой выборки\n",
      "              precision    recall  f1-score   support\n",
      "\n",
      "    not_spam       0.98      1.00      0.99      1444\n",
      "        spam       0.98      0.88      0.93       229\n",
      "\n",
      "    accuracy                           0.98      1673\n",
      "   macro avg       0.98      0.94      0.96      1673\n",
      "weighted avg       0.98      0.98      0.98      1673\n",
      "\n"
     ]
    }
   ],
   "source": [
    "from sklearn.linear_model import LogisticRegression\n",
    "from sklearn.metrics import classification_report\n",
    "\n",
    "clf = LogisticRegression()\n",
    "clf.fit(X_train, y_train)\n",
    "\n",
    "y_predict = clf.predict(X_test)\n",
    "y_train_predict = clf.predict(X_train)\n",
    "\n",
    "print(\"Результаты для тренировочной выборки\")\n",
    "print(classification_report(y_train, y_train_predict))\n",
    "print(\"Результаты для тестовой выборки\")\n",
    "print(classification_report(y_test, y_predict))"
   ]
  },
  {
   "cell_type": "markdown",
   "source": [
    "#### Дополнительное исследование"
   ],
   "metadata": {
    "collapsed": false,
    "pycharm": {
     "name": "#%% md\n"
    }
   }
  },
  {
   "cell_type": "code",
   "execution_count": 63,
   "outputs": [
    {
     "data": {
      "text/plain": "<Figure size 720x720 with 2 Axes>",
      "image/png": "[encoded data removed]"
     },
     "metadata": {
      "needs_background": "light"
     },
     "output_type": "display_data"
    }
   ],
   "source": [
    "import numpy as np\n",
    "\n",
    "index_to_word = {v: k for k, v in count_vectorizer.vocabulary_.items()}\n",
    "importance = {}\n",
    "n = 10\n",
    "for class_index in range(clf.coef_.shape[0]):\n",
    "    word_importances = [(el, index_to_word[i]) for i, el in enumerate(clf.coef_[class_index])]\n",
    "    sorted_coeff = sorted(word_importances, key = lambda x : x[0], reverse=True)\n",
    "    tops = sorted(sorted_coeff[:n], key = lambda x : x[0])\n",
    "    bottom = sorted_coeff[-n:]\n",
    "    importance[class_index] = {\n",
    "        'tops':tops,\n",
    "        'bottom':bottom\n",
    "    }\n",
    "\n",
    "top_scores = [a[0] for a in importance[0]['tops']]\n",
    "top_words = [a[1] for a in importance[0]['tops']]\n",
    "bottom_scores = [a[0] for a in importance[0]['bottom']]\n",
    "bottom_words = [a[1] for a in importance[0]['bottom']]\n",
    "\n",
    "y_pos = np.arange(len(top_words))\n",
    "top_pairs = zip(top_words, top_scores)\n",
    "top_pairs = sorted(top_pairs, key=lambda x: x[1])\n",
    "\n",
    "bottom_pairs = zip(bottom_words, bottom_scores)\n",
    "bottom_pairs = sorted(bottom_pairs, key=lambda x: x[1], reverse=True)\n",
    "\n",
    "fig = plt.figure(figsize=(10, 10))  \n",
    "\n",
    "plt.subplot(121)\n",
    "plt.barh(y_pos,bottom_scores)\n",
    "plt.title('Не особо важные')\n",
    "plt.yticks(y_pos, bottom_words)\n",
    "plt.suptitle('Ключевые слова')\n",
    "plt.xlabel('Важность')\n",
    "\n",
    "plt.subplot(122)\n",
    "plt.barh(y_pos,top_scores)\n",
    "plt.title('Наиболее важные')\n",
    "plt.yticks(y_pos, top_words)\n",
    "plt.suptitle('Распределение 10 ключевых слов сверху и снизу')\n",
    "plt.xlabel('Важность')\n",
    "plt.show()"
   ],
   "metadata": {
    "collapsed": false,
    "pycharm": {
     "name": "#%%\n"
    }
   }
  },
  {
   "cell_type": "markdown",
   "metadata": {
    "id": "p0ghS92pWwTK"
   },
   "source": [
    "### Можно увидеть справа слово 'won', что может означать \"выигрыш\" в какой-либо лотерее или игре, что конечно же является спамом."
   ]
  },
  {
   "cell_type": "markdown",
   "metadata": {
    "id": "uL9ZUb85Xsyz"
   },
   "source": [
    "## Теперь попробуем *Байеса*"
   ]
  },
  {
   "cell_type": "code",
   "execution_count": 64,
   "metadata": {
    "colab": {
     "base_uri": "https://localhost:8080/",
     "height": 0
    },
    "id": "78UzmceGXqdo",
    "outputId": "cf1bcd6e-ff37-4cbf-9090-2c3e011b4429"
   },
   "outputs": [
    {
     "name": "stdout",
     "output_type": "stream",
     "text": [
      "Результаты для тренировочной выборки\n",
      "              precision    recall  f1-score   support\n",
      "\n",
      "    not_spam       1.00      1.00      1.00      3383\n",
      "        spam       0.98      0.97      0.98       518\n",
      "\n",
      "    accuracy                           0.99      3901\n",
      "   macro avg       0.99      0.98      0.99      3901\n",
      "weighted avg       0.99      0.99      0.99      3901\n",
      "\n",
      "Результаты для тестовой выборки\n",
      "              precision    recall  f1-score   support\n",
      "\n",
      "    not_spam       0.99      1.00      0.99      1444\n",
      "        spam       0.97      0.93      0.95       229\n",
      "\n",
      "    accuracy                           0.99      1673\n",
      "   macro avg       0.98      0.96      0.97      1673\n",
      "weighted avg       0.99      0.99      0.99      1673\n",
      "\n"
     ]
    }
   ],
   "source": [
    "from sklearn.naive_bayes import MultinomialNB\n",
    "\n",
    "mnb = MultinomialNB()\n",
    "\n",
    "mnb.fit(X_train, y_train)\n",
    "y_train_predict = mnb.predict(X_train)\n",
    "y_predict = mnb.predict(X_test)\n",
    "\n",
    "print(\"Результаты для тренировочной выборки\")\n",
    "print(classification_report(y_train, y_train_predict))\n",
    "print(\"Результаты для тестовой выборки\")\n",
    "print(classification_report(y_test, y_predict))"
   ]
  },
  {
   "cell_type": "markdown",
   "metadata": {
    "id": "7VbnpHThYyzs"
   },
   "source": [
    "### Видно, что Байес сработал немного лучше, чем логистическая регрессия"
   ]
  },
  {
   "cell_type": "markdown",
   "source": [
    "#### Дополнительное исследование"
   ],
   "metadata": {
    "collapsed": false,
    "pycharm": {
     "name": "#%% md\n"
    }
   }
  },
  {
   "cell_type": "code",
   "execution_count": 65,
   "metadata": {
    "colab": {
     "base_uri": "https://localhost:8080/",
     "height": 0
    },
    "id": "fhgsAz3reBaR",
    "outputId": "c871bed0-d4a0-4920-9c00-07c3e74a6b3c",
    "pycharm": {
     "name": "#%%\n"
    }
   },
   "outputs": [
    {
     "name": "stderr",
     "output_type": "stream",
     "text": [
      "/Library/Frameworks/Python.framework/Versions/3.9/lib/python3.9/site-packages/sklearn/utils/deprecation.py:103: FutureWarning: Attribute `coef_` was deprecated in version 0.24 and will be removed in 1.1 (renaming of 0.26).\n",
      "  warnings.warn(msg, category=FutureWarning)\n"
     ]
    },
    {
     "data": {
      "text/plain": "<Figure size 720x720 with 2 Axes>",
      "image/png": "[encoded data removed]"
     },
     "metadata": {
      "needs_background": "light"
     },
     "output_type": "display_data"
    }
   ],
   "source": [
    "index_to_word = {v: k for k, v in count_vectorizer.vocabulary_.items()}\n",
    "importance = {}\n",
    "n = 10\n",
    "for class_index in range(mnb.coef_.shape[0]):\n",
    "    word_importances = [(el, index_to_word[i]) for i, el in enumerate(mnb.coef_[class_index])]\n",
    "    sorted_coeff = sorted(word_importances, key = lambda x : x[0], reverse=True)\n",
    "    tops = sorted(sorted_coeff[:n], key = lambda x : x[0])\n",
    "    bottom = sorted_coeff[-n:]\n",
    "    importance[class_index] = {\n",
    "        'tops':tops,\n",
    "        'bottom':bottom\n",
    "    }\n",
    "\n",
    "top_scores = [a[0] for a in importance[0]['tops']]\n",
    "top_words = [a[1] for a in importance[0]['tops']]\n",
    "bottom_scores = [a[0] for a in importance[0]['bottom']]\n",
    "bottom_words = [a[1] for a in importance[0]['bottom']]\n",
    "\n",
    "y_pos = np.arange(len(top_words))\n",
    "top_pairs = zip(top_words, top_scores)\n",
    "top_pairs = sorted(top_pairs, key=lambda x: x[1])\n",
    "\n",
    "bottom_pairs = zip(bottom_words, bottom_scores)\n",
    "bottom_pairs = sorted(bottom_pairs, key=lambda x: x[1], reverse=True)\n",
    "\n",
    "fig = plt.figure(figsize=(10, 10))  \n",
    "\n",
    "plt.subplot(121)\n",
    "plt.barh(y_pos,bottom_scores)\n",
    "plt.title('Не особо важные')\n",
    "plt.yticks(y_pos, bottom_words)\n",
    "plt.suptitle('Ключевые слова')\n",
    "plt.xlabel('Важность')\n",
    "\n",
    "plt.subplot(122)\n",
    "plt.barh(y_pos,top_scores)\n",
    "plt.title('Наиболее важные')\n",
    "plt.yticks(y_pos, top_words)\n",
    "plt.suptitle('Распределение 10 ключевых слов сверху и снизу')\n",
    "plt.xlabel('Важность')\n",
    "plt.show()"
   ]
  }
 ],
 "metadata": {
  "colab": {
   "name": "Untitled5.ipynb",
   "provenance": []
  },
  "kernelspec": {
   "name": "pycharm-ac845fc8",
   "language": "python",
   "display_name": "PyCharm (aius)"
  },
  "language_info": {
   "codemirror_mode": {
    "name": "ipython",
    "version": 3
   },
   "file_extension": ".py",
   "mimetype": "text/x-python",
   "name": "python",
   "nbconvert_exporter": "python",
   "pygments_lexer": "ipython3",
   "version": "3.8.3"
  }
 },
 "nbformat": 4,
 "nbformat_minor": 1
}