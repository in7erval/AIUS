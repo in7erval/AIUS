{
 "cells": [
  {
   "cell_type": "code",
   "execution_count": 1,
   "outputs": [
    {
     "name": "stdout",
     "output_type": "stream",
     "text": [
      "Requirement already satisfied: requests in /Users/in7erval/opt/anaconda3/lib/python3.8/site-packages (2.24.0)\r\n",
      "Requirement already satisfied: certifi>=2017.4.17 in /Users/in7erval/opt/anaconda3/lib/python3.8/site-packages (from requests) (2020.6.20)\r\n",
      "Requirement already satisfied: idna<3,>=2.5 in /Users/in7erval/opt/anaconda3/lib/python3.8/site-packages (from requests) (2.10)\r\n",
      "Requirement already satisfied: chardet<4,>=3.0.2 in /Users/in7erval/opt/anaconda3/lib/python3.8/site-packages (from requests) (3.0.4)\r\n",
      "Requirement already satisfied: urllib3!=1.25.0,!=1.25.1,<1.26,>=1.21.1 in /Users/in7erval/opt/anaconda3/lib/python3.8/site-packages (from requests) (1.25.9)\r\n"
     ]
    }
   ],
   "source": [
    "!python3 -m pip install requests"
   ],
   "metadata": {
    "collapsed": false,
    "pycharm": {
     "name": "#%%\n"
    }
   }
  },
  {
   "cell_type": "code",
   "execution_count": 2,
   "metadata": {
    "pycharm": {
     "name": "#%%\n"
    }
   },
   "outputs": [],
   "source": [
    "import requests"
   ]
  },
  {
   "cell_type": "code",
   "execution_count": 3,
   "metadata": {
    "pycharm": {
     "name": "#%%\n"
    }
   },
   "outputs": [
    {
     "data": {
      "text/plain": "<Response [200]>"
     },
     "execution_count": 3,
     "metadata": {},
     "output_type": "execute_result"
    }
   ],
   "source": [
    "requests.get(\"https://randomuser.me/api/\")"
   ]
  },
  {
   "cell_type": "code",
   "execution_count": 4,
   "outputs": [
    {
     "data": {
      "text/plain": "'{\"results\":[{\"gender\":\"male\",\"name\":{\"title\":\"Mr\",\"first\":\"Lucca\",\"last\":\"Steunebrink\"},\"location\":{\"street\":{\"number\":1077,\"name\":\"Kruswei\"},\"city\":\"Camperduin\",\"state\":\"Flevoland\",\"country\":\"Netherlands\",\"postcode\":22166,\"coordinates\":{\"latitude\":\"46.8205\",\"longitude\":\"-148.5897\"},\"timezone\":{\"offset\":\"+3:30\",\"description\":\"Tehran\"}},\"email\":\"lucca.steunebrink@example.com\",\"login\":{\"uuid\":\"8a91f222-c74e-45b3-8aad-d86e93abedfc\",\"username\":\"purplesnake867\",\"password\":\"nellie\",\"salt\":\"WCr4uRpq\",\"md5\":\"8804faf534ac472c02f5ebd59fbd5e1b\",\"sha1\":\"f259f265ef8ea856223d02f7b34cd74d42ddde6d\",\"sha256\":\"41cc8065b15f22676b94dee5b467d73c9863887b6bb7b919fdb3cc573568cf0d\"},\"dob\":{\"date\":\"1971-11-01T04:09:45.580Z\",\"age\":51},\"registered\":{\"date\":\"2009-07-14T20:13:57.146Z\",\"age\":13},\"phone\":\"(526)-798-9754\",\"cell\":\"(396)-008-4102\",\"id\":{\"name\":\"BSN\",\"value\":\"04744916\"},\"picture\":{\"large\":\"https://randomuser.me/api/portraits/men/89.jpg\",\"medium\":\"https://randomuser.me/api/portraits/med/men/89.jpg\",\"thumbnail\":\"https://randomuser.me/api/portraits/thumb/men/89.jpg\"},\"nat\":\"NL\"}],\"info\":{\"seed\":\"781485a7762b5c61\",\"results\":1,\"page\":1,\"version\":\"1.3\"}}'"
     },
     "execution_count": 4,
     "metadata": {},
     "output_type": "execute_result"
    }
   ],
   "source": [
    "response = requests.get(\"https://randomuser.me/api/\")\n",
    "response.text"
   ],
   "metadata": {
    "collapsed": false,
    "pycharm": {
     "name": "#%%\n"
    }
   }
  },
  {
   "cell_type": "code",
   "execution_count": 8,
   "outputs": [
    {
     "data": {
      "text/plain": "'{\"message\":\"The Dog API\"}'"
     },
     "execution_count": 8,
     "metadata": {},
     "output_type": "execute_result"
    }
   ],
   "source": [
    "response = requests.get(\"https://api.thedogapi.com/\")\n",
    "response.text"
   ],
   "metadata": {
    "collapsed": false,
    "pycharm": {
     "name": "#%%\n"
    }
   }
  },
  {
   "cell_type": "code",
   "execution_count": 9,
   "outputs": [
    {
     "data": {
      "text/plain": "'[{\"weight\":{\"imperial\":\"6 - 13\",\"metric\":\"3 - 6\"},'"
     },
     "execution_count": 9,
     "metadata": {},
     "output_type": "execute_result"
    }
   ],
   "source": [
    "response = requests.get(\"https://api.thedogapi.com/v1/breeds\")\n",
    "response.text[:100]  # чтобы не засорять вывод"
   ],
   "metadata": {
    "collapsed": false,
    "pycharm": {
     "name": "#%%\n"
    }
   }
  },
  {
   "cell_type": "code",
   "execution_count": 12,
   "outputs": [
    {
     "data": {
      "text/plain": "'[{\"weight\":{\"imperial\":\"7  -  10\",\"metric\":\"3 - 5\"},\"id\":\"abys\",\"name\":\"Abyssinian\",\"cfa_url\":\"http:'"
     },
     "execution_count": 12,
     "metadata": {},
     "output_type": "execute_result"
    }
   ],
   "source": [
    "response = requests.get(\"https://api.thecatapi.com/v1/breeds\")\n",
    "response.text[:100]  # чтобы не засорять вывод"
   ],
   "metadata": {
    "collapsed": false,
    "pycharm": {
     "name": "#%%\n"
    }
   }
  },
  {
   "cell_type": "code",
   "execution_count": 13,
   "outputs": [
    {
     "data": {
      "text/plain": "<Response [200]>"
     },
     "execution_count": 13,
     "metadata": {},
     "output_type": "execute_result"
    }
   ],
   "source": [
    "response = requests.get(\"https://api.thedogapi.com/v1/breeds\")\n",
    "response"
   ],
   "metadata": {
    "collapsed": false,
    "pycharm": {
     "name": "#%%\n"
    }
   }
  },
  {
   "cell_type": "code",
   "execution_count": 14,
   "outputs": [
    {
     "data": {
      "text/plain": "<PreparedRequest [GET]>"
     },
     "execution_count": 14,
     "metadata": {},
     "output_type": "execute_result"
    }
   ],
   "source": [
    "request = response.request\n",
    "request"
   ],
   "metadata": {
    "collapsed": false,
    "pycharm": {
     "name": "#%%\n"
    }
   }
  },
  {
   "cell_type": "code",
   "execution_count": 15,
   "outputs": [
    {
     "data": {
      "text/plain": "'https://api.thedogapi.com/v1/breeds'"
     },
     "execution_count": 15,
     "metadata": {},
     "output_type": "execute_result"
    }
   ],
   "source": [
    "request.url"
   ],
   "metadata": {
    "collapsed": false,
    "pycharm": {
     "name": "#%%\n"
    }
   }
  },
  {
   "cell_type": "code",
   "execution_count": 16,
   "outputs": [
    {
     "data": {
      "text/plain": "'/v1/breeds'"
     },
     "execution_count": 16,
     "metadata": {},
     "output_type": "execute_result"
    }
   ],
   "source": [
    "request.path_url"
   ],
   "metadata": {
    "collapsed": false,
    "pycharm": {
     "name": "#%%\n"
    }
   }
  },
  {
   "cell_type": "code",
   "execution_count": 17,
   "outputs": [
    {
     "data": {
      "text/plain": "'GET'"
     },
     "execution_count": 17,
     "metadata": {},
     "output_type": "execute_result"
    }
   ],
   "source": [
    "request.method"
   ],
   "metadata": {
    "collapsed": false,
    "pycharm": {
     "name": "#%%\n"
    }
   }
  },
  {
   "cell_type": "code",
   "execution_count": 18,
   "outputs": [
    {
     "data": {
      "text/plain": "{'User-Agent': 'python-requests/2.24.0', 'Accept-Encoding': 'gzip, deflate', 'Accept': '*/*', 'Connection': 'keep-alive'}"
     },
     "execution_count": 18,
     "metadata": {},
     "output_type": "execute_result"
    }
   ],
   "source": [
    "request.headers"
   ],
   "metadata": {
    "collapsed": false,
    "pycharm": {
     "name": "#%%\n"
    }
   }
  },
  {
   "cell_type": "code",
   "execution_count": 19,
   "outputs": [
    {
     "data": {
      "text/plain": "<Response [200]>"
     },
     "execution_count": 19,
     "metadata": {},
     "output_type": "execute_result"
    }
   ],
   "source": [
    "response"
   ],
   "metadata": {
    "collapsed": false,
    "pycharm": {
     "name": "#%%\n"
    }
   }
  },
  {
   "cell_type": "code",
   "execution_count": 20,
   "outputs": [
    {
     "data": {
      "text/plain": "'[{\"weight\":{\"imperial\":\"6 - 13\",\"metric\":\"3 - 6\"},\"height\":{\"imperial\":\"9 - 11.5\",\"metric\":\"23 - 29\"'"
     },
     "execution_count": 20,
     "metadata": {},
     "output_type": "execute_result"
    }
   ],
   "source": [
    "response.text[:100]  # чтобы не засорять вывод"
   ],
   "metadata": {
    "collapsed": false,
    "pycharm": {
     "name": "#%%\n"
    }
   }
  },
  {
   "cell_type": "code",
   "execution_count": 22,
   "outputs": [
    {
     "data": {
      "text/plain": "200"
     },
     "execution_count": 22,
     "metadata": {},
     "output_type": "execute_result"
    }
   ],
   "source": [
    "response.status_code"
   ],
   "metadata": {
    "collapsed": false,
    "pycharm": {
     "name": "#%%\n"
    }
   }
  },
  {
   "cell_type": "code",
   "execution_count": 23,
   "outputs": [
    {
     "data": {
      "text/plain": "{'x-dns-prefetch-control': 'off', 'x-frame-options': 'SAMEORIGIN', 'strict-transport-security': 'max-age=15552000; includeSubDomains', 'x-download-options': 'noopen', 'x-content-type-options': 'nosniff', 'x-xss-protection': '1; mode=block', 'vary': 'Origin', 'pagination-count': '172', 'pagination-page': '0', 'pagination-limit': '1000', 'access-control-expose-headers': 'Pagination-Count, Pagination-Page, Pagination-Limit', 'content-type': 'application/json; charset=utf-8', 'x-response-time': '7ms', 'X-Cloud-Trace-Context': '411e43544cef3356a069c9a354967541', 'Date': 'Wed, 20 Apr 2022 18:32:06 GMT', 'Server': 'Google Frontend', 'Content-Length': '76246'}"
     },
     "execution_count": 23,
     "metadata": {},
     "output_type": "execute_result"
    }
   ],
   "source": [
    "response.headers"
   ],
   "metadata": {
    "collapsed": false,
    "pycharm": {
     "name": "#%%\n"
    }
   }
  },
  {
   "cell_type": "code",
   "execution_count": 24,
   "outputs": [
    {
     "data": {
      "text/plain": "<Response [200]>"
     },
     "execution_count": 24,
     "metadata": {},
     "output_type": "execute_result"
    }
   ],
   "source": [
    "response = requests.get(\"https://api.thedogapi.com/v1/breeds\")\n",
    "response"
   ],
   "metadata": {
    "collapsed": false,
    "pycharm": {
     "name": "#%%\n"
    }
   }
  },
  {
   "cell_type": "code",
   "execution_count": 25,
   "outputs": [
    {
     "data": {
      "text/plain": "200"
     },
     "execution_count": 25,
     "metadata": {},
     "output_type": "execute_result"
    }
   ],
   "source": [
    "response.status_code"
   ],
   "metadata": {
    "collapsed": false,
    "pycharm": {
     "name": "#%%\n"
    }
   }
  },
  {
   "cell_type": "code",
   "execution_count": 26,
   "outputs": [
    {
     "data": {
      "text/plain": "'OK'"
     },
     "execution_count": 26,
     "metadata": {},
     "output_type": "execute_result"
    }
   ],
   "source": [
    "response.reason"
   ],
   "metadata": {
    "collapsed": false,
    "pycharm": {
     "name": "#%%\n"
    }
   }
  },
  {
   "cell_type": "code",
   "execution_count": 27,
   "outputs": [
    {
     "data": {
      "text/plain": "<Response [404]>"
     },
     "execution_count": 27,
     "metadata": {},
     "output_type": "execute_result"
    }
   ],
   "source": [
    "response = requests.get(\"https://api.thedogapi.com/v1/breedz\")\n",
    "response"
   ],
   "metadata": {
    "collapsed": false,
    "pycharm": {
     "name": "#%%\n"
    }
   }
  },
  {
   "cell_type": "code",
   "execution_count": 28,
   "outputs": [
    {
     "data": {
      "text/plain": "404"
     },
     "execution_count": 28,
     "metadata": {},
     "output_type": "execute_result"
    }
   ],
   "source": [
    "response.status_code"
   ],
   "metadata": {
    "collapsed": false,
    "pycharm": {
     "name": "#%%\n"
    }
   }
  },
  {
   "cell_type": "code",
   "execution_count": 29,
   "outputs": [
    {
     "data": {
      "text/plain": "'Not Found'"
     },
     "execution_count": 29,
     "metadata": {},
     "output_type": "execute_result"
    }
   ],
   "source": [
    "response.reason"
   ],
   "metadata": {
    "collapsed": false,
    "pycharm": {
     "name": "#%%\n"
    }
   }
  },
  {
   "cell_type": "code",
   "execution_count": 30,
   "outputs": [
    {
     "data": {
      "text/plain": "{'x-dns-prefetch-control': 'off', 'x-frame-options': 'SAMEORIGIN', 'strict-transport-security': 'max-age=15552000; includeSubDomains', 'x-download-options': 'noopen', 'x-content-type-options': 'nosniff', 'x-xss-protection': '1; mode=block', 'vary': 'Origin', 'content-type': 'application/json; charset=utf-8', 'x-response-time': '2ms', 'X-Cloud-Trace-Context': '51ec7d3331702d09c8af76e71d6928e4;o=1', 'Date': 'Wed, 20 Apr 2022 18:35:24 GMT', 'Server': 'Google Frontend', 'Content-Length': '357'}"
     },
     "execution_count": 30,
     "metadata": {},
     "output_type": "execute_result"
    }
   ],
   "source": [
    "response = requests.get(\"https://api.thedogapi.com/v1/breeds/1\")\n",
    "response.headers"
   ],
   "metadata": {
    "collapsed": false,
    "pycharm": {
     "name": "#%%\n"
    }
   }
  },
  {
   "cell_type": "code",
   "execution_count": 32,
   "outputs": [
    {
     "data": {
      "text/plain": "{'User-Agent': 'python-requests/2.24.0', 'Accept-Encoding': 'gzip, deflate', 'Accept': '*/*', 'Connection': 'keep-alive', 'X-Request-Id': '<my-request-id>'}"
     },
     "execution_count": 32,
     "metadata": {},
     "output_type": "execute_result"
    }
   ],
   "source": [
    "headers = {\"X-Request-Id\": \"<my-request-id>\"}\n",
    "response = requests.get(\"https://example.org\", headers=headers)\n",
    "response.request.headers"
   ],
   "metadata": {
    "collapsed": false,
    "pycharm": {
     "name": "#%%\n"
    }
   }
  },
  {
   "cell_type": "code",
   "execution_count": 33,
   "outputs": [
    {
     "data": {
      "text/plain": "'application/json; charset=utf-8'"
     },
     "execution_count": 33,
     "metadata": {},
     "output_type": "execute_result"
    }
   ],
   "source": [
    "response = requests.get(\"https://api.thedogapi.com/v1/breeds/1\")\n",
    "response.headers.get(\"Content-Type\")"
   ],
   "metadata": {
    "collapsed": false,
    "pycharm": {
     "name": "#%%\n"
    }
   }
  },
  {
   "cell_type": "code",
   "execution_count": 34,
   "outputs": [
    {
     "data": {
      "text/plain": "'application/json; charset=utf-8'"
     },
     "execution_count": 34,
     "metadata": {},
     "output_type": "execute_result"
    }
   ],
   "source": [
    "response = requests.get(\"https://api.thedogapi.com/v1/breeds/1\")\n",
    "response.headers.get(\"Content-Type\")"
   ],
   "metadata": {
    "collapsed": false,
    "pycharm": {
     "name": "#%%\n"
    }
   }
  },
  {
   "cell_type": "code",
   "execution_count": 35,
   "outputs": [
    {
     "data": {
      "text/plain": "{'weight': {'imperial': '6 - 13', 'metric': '3 - 6'},\n 'height': {'imperial': '9 - 11.5', 'metric': '23 - 29'},\n 'id': 1,\n 'name': 'Affenpinscher',\n 'bred_for': 'Small rodent hunting, lapdog',\n 'breed_group': 'Toy',\n 'life_span': '10 - 12 years',\n 'temperament': 'Stubborn, Curious, Playful, Adventurous, Active, Fun-loving',\n 'origin': 'Germany, France',\n 'reference_image_id': 'BJa4kxc4X'}"
     },
     "execution_count": 35,
     "metadata": {},
     "output_type": "execute_result"
    }
   ],
   "source": [
    "response.json()"
   ],
   "metadata": {
    "collapsed": false,
    "pycharm": {
     "name": "#%%\n"
    }
   }
  },
  {
   "cell_type": "code",
   "execution_count": 36,
   "outputs": [
    {
     "data": {
      "text/plain": "'Affenpinscher'"
     },
     "execution_count": 36,
     "metadata": {},
     "output_type": "execute_result"
    }
   ],
   "source": [
    "response.json()[\"name\"]"
   ],
   "metadata": {
    "collapsed": false,
    "pycharm": {
     "name": "#%%\n"
    }
   }
  },
  {
   "cell_type": "code",
   "execution_count": 37,
   "outputs": [
    {
     "data": {
      "text/plain": "<Response [405]>"
     },
     "execution_count": 37,
     "metadata": {},
     "output_type": "execute_result"
    }
   ],
   "source": [
    "requests.post(\"https://api.thedogapi.com/v1/breeds/1\")"
   ],
   "metadata": {
    "collapsed": false,
    "pycharm": {
     "name": "#%%\n"
    }
   }
  },
  {
   "cell_type": "code",
   "execution_count": 38,
   "outputs": [
    {
     "data": {
      "text/plain": "<Response [200]>"
     },
     "execution_count": 38,
     "metadata": {},
     "output_type": "execute_result"
    }
   ],
   "source": [
    "requests.get(\"https://api.thedogapi.com/v1/breeds/1\")"
   ],
   "metadata": {
    "collapsed": false,
    "pycharm": {
     "name": "#%%\n"
    }
   }
  },
  {
   "cell_type": "code",
   "execution_count": 39,
   "outputs": [
    {
     "data": {
      "text/plain": "<Response [405]>"
     },
     "execution_count": 39,
     "metadata": {},
     "output_type": "execute_result"
    }
   ],
   "source": [
    "requests.put(\"https://api.thedogapi.com/v1/breeds/1\")"
   ],
   "metadata": {
    "collapsed": false,
    "pycharm": {
     "name": "#%%\n"
    }
   }
  },
  {
   "cell_type": "code",
   "execution_count": 40,
   "outputs": [
    {
     "data": {
      "text/plain": "<Response [405]>"
     },
     "execution_count": 40,
     "metadata": {},
     "output_type": "execute_result"
    }
   ],
   "source": [
    "requests.delete(\"https://api.thedogapi.com/v1/breeds/1\")"
   ],
   "metadata": {
    "collapsed": false,
    "pycharm": {
     "name": "#%%\n"
    }
   }
  },
  {
   "cell_type": "code",
   "execution_count": 41,
   "outputs": [
    {
     "data": {
      "text/plain": "{'results': [{'gender': 'female',\n   'name': {'title': 'Mrs', 'first': 'Lily', 'last': 'Wang'},\n   'location': {'street': {'number': 6076, 'name': 'Highgate'},\n    'city': 'Nelson',\n    'state': 'Taranaki',\n    'country': 'New Zealand',\n    'postcode': 85864,\n    'coordinates': {'latitude': '59.5393', 'longitude': '90.0372'},\n    'timezone': {'offset': '-8:00',\n     'description': 'Pacific Time (US & Canada)'}},\n   'email': 'lily.wang@example.com',\n   'login': {'uuid': '9d92968b-df5e-4c0d-a513-14ee051768ab',\n    'username': 'bluebutterfly341',\n    'password': 'barron',\n    'salt': '8t4XcZkv',\n    'md5': '99ec15fc75db854d3a3fbbaded5486a0',\n    'sha1': 'eff1d3723d72387a9f0ccbe79b6c4286750b5892',\n    'sha256': '1cb5bcceb1bbea333d7f0e6ec497a8d6890ff54ced8d0fcf4a642d41d4c63001'},\n   'dob': {'date': '1993-01-15T12:02:56.720Z', 'age': 29},\n   'registered': {'date': '2018-01-19T20:45:52.604Z', 'age': 4},\n   'phone': '(314)-456-6368',\n   'cell': '(854)-685-3922',\n   'id': {'name': '', 'value': None},\n   'picture': {'large': 'https://randomuser.me/api/portraits/women/2.jpg',\n    'medium': 'https://randomuser.me/api/portraits/med/women/2.jpg',\n    'thumbnail': 'https://randomuser.me/api/portraits/thumb/women/2.jpg'},\n   'nat': 'NZ'}],\n 'info': {'seed': '9539170ec23d6cb7',\n  'results': 1,\n  'page': 1,\n  'version': '1.3'}}"
     },
     "execution_count": 41,
     "metadata": {},
     "output_type": "execute_result"
    }
   ],
   "source": [
    "requests.get(\"https://randomuser.me/api/\").json()"
   ],
   "metadata": {
    "collapsed": false,
    "pycharm": {
     "name": "#%%\n"
    }
   }
  },
  {
   "cell_type": "code",
   "execution_count": 42,
   "outputs": [
    {
     "data": {
      "text/plain": "{'results': [{'gender': 'female',\n   'name': {'title': 'Mrs', 'first': 'Emilie', 'last': 'Flach'},\n   'location': {'street': {'number': 7401, 'name': 'Ahornweg'},\n    'city': 'Siegen',\n    'state': 'Baden-Württemberg',\n    'country': 'Germany',\n    'postcode': 37162,\n    'coordinates': {'latitude': '-68.6495', 'longitude': '-81.2650'},\n    'timezone': {'offset': '-12:00', 'description': 'Eniwetok, Kwajalein'}},\n   'email': 'emilie.flach@example.com',\n   'login': {'uuid': '390b0c04-ecfe-4c73-8861-47a9c917531f',\n    'username': 'happybutterfly357',\n    'password': 'loser',\n    'salt': '4U85WElb',\n    'md5': '1d214d4315c03601dab0ee1bdb00e9ac',\n    'sha1': '2d11706c324e1f30a4b04dc730c3a15ab4a21ffd',\n    'sha256': 'c8cdbde97cb96219cdbd5dfdd718d2bbe2e45b0ec7e235a9d553f49eab0e31e4'},\n   'dob': {'date': '1971-03-03T14:33:22.345Z', 'age': 51},\n   'registered': {'date': '2013-09-06T09:26:46.815Z', 'age': 9},\n   'phone': '0850-4321974',\n   'cell': '0170-6856846',\n   'id': {'name': '', 'value': None},\n   'picture': {'large': 'https://randomuser.me/api/portraits/women/57.jpg',\n    'medium': 'https://randomuser.me/api/portraits/med/women/57.jpg',\n    'thumbnail': 'https://randomuser.me/api/portraits/thumb/women/57.jpg'},\n   'nat': 'DE'}],\n 'info': {'seed': '6175040b2ea5ba56',\n  'results': 1,\n  'page': 1,\n  'version': '1.3'}}"
     },
     "execution_count": 42,
     "metadata": {},
     "output_type": "execute_result"
    }
   ],
   "source": [
    "requests.get(\"https://randomuser.me/api/?gender=female&nat=de\").json()"
   ],
   "metadata": {
    "collapsed": false,
    "pycharm": {
     "name": "#%%\n"
    }
   }
  },
  {
   "cell_type": "code",
   "execution_count": 43,
   "outputs": [
    {
     "data": {
      "text/plain": "{'results': [{'gender': 'female',\n   'name': {'title': 'Miss', 'first': 'Rosita', 'last': 'Eismann'},\n   'location': {'street': {'number': 1547, 'name': 'Jahnstraße'},\n    'city': 'Oederan',\n    'state': 'Sachsen',\n    'country': 'Germany',\n    'postcode': 13763,\n    'coordinates': {'latitude': '-35.1729', 'longitude': '119.2738'},\n    'timezone': {'offset': '+6:00', 'description': 'Almaty, Dhaka, Colombo'}},\n   'email': 'rosita.eismann@example.com',\n   'login': {'uuid': '20c27ac0-cf4d-4927-86bc-495f7b6324c7',\n    'username': 'sadsnake333',\n    'password': 'gizmo1',\n    'salt': 'Y0r2LjDY',\n    'md5': '9e57fba5a0eeb59089706a3e9c8e52c2',\n    'sha1': '55d31e5abc9fa3ef54a168f5f64009b3451260b8',\n    'sha256': 'a31bd7a6497deae4995d6e04fd7fb9be191d9c8e9363084d4dcac7aa86251709'},\n   'dob': {'date': '1977-09-06T14:18:56.531Z', 'age': 45},\n   'registered': {'date': '2008-09-02T23:38:23.845Z', 'age': 14},\n   'phone': '0473-2127469',\n   'cell': '0179-7928973',\n   'id': {'name': '', 'value': None},\n   'picture': {'large': 'https://randomuser.me/api/portraits/women/94.jpg',\n    'medium': 'https://randomuser.me/api/portraits/med/women/94.jpg',\n    'thumbnail': 'https://randomuser.me/api/portraits/thumb/women/94.jpg'},\n   'nat': 'DE'}],\n 'info': {'seed': '81c27a811fe08d35',\n  'results': 1,\n  'page': 1,\n  'version': '1.3'}}"
     },
     "execution_count": 43,
     "metadata": {},
     "output_type": "execute_result"
    }
   ],
   "source": [
    "query_params = {\"gender\": \"female\", \"nat\": \"de\"}\n",
    "requests.get(\"https://randomuser.me/api/\", params=query_params).json()"
   ],
   "metadata": {
    "collapsed": false,
    "pycharm": {
     "name": "#%%\n"
    }
   }
  },
  {
   "cell_type": "code",
   "execution_count": 44,
   "outputs": [
    {
     "data": {
      "text/plain": "[{'weight': {'imperial': '45 - 100', 'metric': '20 - 45'},\n  'height': {'imperial': '14 - 24', 'metric': '36 - 61'},\n  'id': 148,\n  'name': 'Labradoodle',\n  'breed_group': 'Mixed',\n  'life_span': '10 - 15 years'}]"
     },
     "execution_count": 44,
     "metadata": {},
     "output_type": "execute_result"
    }
   ],
   "source": [
    "query_params = {\"q\": \"labradoodle\"}\n",
    "endpoint = \"https://api.thedogapi.com/v1/breeds/search\"\n",
    "requests.get(endpoint, params=query_params).json()"
   ],
   "metadata": {
    "collapsed": false,
    "pycharm": {
     "name": "#%%\n"
    }
   }
  },
  {
   "cell_type": "code",
   "execution_count": 46,
   "outputs": [
    {
     "data": {
      "text/plain": "<Response [200]>"
     },
     "execution_count": 46,
     "metadata": {},
     "output_type": "execute_result"
    }
   ],
   "source": [
    "endpoint =\"https://api.nasa.gov/mars-photos/api/v1/rovers/curiosity/photos\"\n",
    "api_key = \"DEMOOOOOO_KEYYY\"  # use https://api.nasa.gov/\n",
    "query_params = {\"api_key\": api_key, \"earth_date\": '2020-07-01'}\n",
    "response = requests.get(endpoint, params=query_params)\n",
    "response"
   ],
   "metadata": {
    "collapsed": false,
    "pycharm": {
     "name": "#%%\n"
    }
   }
  },
  {
   "cell_type": "code",
   "execution_count": 51,
   "outputs": [
    {
     "data": {
      "text/plain": "{'photos': [{'id': 754118,\n   'sol': 2809,\n   'camera': {'id': 20,\n    'name': 'FHAZ',\n    'rover_id': 5,\n    'full_name': 'Front Hazard Avoidance Camera'},\n   'img_src': 'https://mars.nasa.gov/msl-raw-images/proj/msl/redops/ods/surface/sol/02809/opgs/edr/fcam/FLB_646868981EDR_F0810628FHAZ00337M_.JPG',\n   'earth_date': '2020-07-01',\n   'rover': {'id': 5,\n    'name': 'Curiosity',\n    'landing_date': '2012-08-06',\n    'launch_date': '2011-11-26',\n    'status': 'active'}},\n  {'id': 754119,\n   'sol': 2809,\n   'camera': {'id': 20,\n    'name': 'FHAZ',\n    'rover_id': 5,\n    'full_name': 'Front Hazard Avoidance Camera'},\n   'img_src': 'https://mars.nasa.gov/msl-raw-images/proj/msl/redops/ods/surface/sol/02809/opgs/edr/fcam/FRB_646868981EDR_F0810628FHAZ00337M_.JPG',\n   'earth_date': '2020-07-01',\n   'rover': {'id': 5,\n    'name': 'Curiosity',\n    'landing_date': '2012-08-06',\n    'launch_date': '2011-11-26',\n    'status': 'active'}},\n  {'id': 754120,\n   'sol': 2809,\n   'camera': {'id': 20,\n    'name': 'FHAZ',\n    'rover_id': 5,\n    'full_name': 'Front Hazard Avoidance Camera'},\n   'img_src': 'https://mars.nasa.gov/msl-raw-images/proj/msl/redops/ods/surface/sol/02809/opgs/edr/fcam/FRB_646860144EDR_F0810628FHAZ00337M_.JPG',\n   'earth_date': '2020-07-01',\n   'rover': {'id': 5,\n    'name': 'Curiosity',\n    'landing_date': '2012-08-06',\n    'launch_date': '2011-11-26',\n    'status': 'active'}},\n  {'id': 754121,\n   'sol': 2809,\n   'camera': {'id': 20,\n    'name': 'FHAZ',\n    'rover_id': 5,\n    'full_name': 'Front Hazard Avoidance Camera'},\n   'img_src': 'https://mars.nasa.gov/msl-raw-images/proj/msl/redops/ods/surface/sol/02809/opgs/edr/fcam/FLB_646860144EDR_F0810628FHAZ00337M_.JPG',\n   'earth_date': '2020-07-01',\n   'rover': {'id': 5,\n    'name': 'Curiosity',\n    'landing_date': '2012-08-06',\n    'launch_date': '2011-11-26',\n    'status': 'active'}},\n  {'id': 754122,\n   'sol': 2809,\n   'camera': {'id': 21,\n    'name': 'RHAZ',\n    'rover_id': 5,\n    'full_name': 'Rear Hazard Avoidance Camera'},\n   'img_src': 'https://mars.nasa.gov/msl-raw-images/proj/msl/redops/ods/surface/sol/02809/opgs/edr/rcam/RRB_646869036EDR_F0810628RHAZ00337M_.JPG',\n   'earth_date': '2020-07-01',\n   'rover': {'id': 5,\n    'name': 'Curiosity',\n    'landing_date': '2012-08-06',\n    'launch_date': '2011-11-26',\n    'status': 'active'}},\n  {'id': 754123,\n   'sol': 2809,\n   'camera': {'id': 21,\n    'name': 'RHAZ',\n    'rover_id': 5,\n    'full_name': 'Rear Hazard Avoidance Camera'},\n   'img_src': 'https://mars.nasa.gov/msl-raw-images/proj/msl/redops/ods/surface/sol/02809/opgs/edr/rcam/RLB_646869036EDR_F0810628RHAZ00337M_.JPG',\n   'earth_date': '2020-07-01',\n   'rover': {'id': 5,\n    'name': 'Curiosity',\n    'landing_date': '2012-08-06',\n    'launch_date': '2011-11-26',\n    'status': 'active'}},\n  {'id': 754124,\n   'sol': 2809,\n   'camera': {'id': 21,\n    'name': 'RHAZ',\n    'rover_id': 5,\n    'full_name': 'Rear Hazard Avoidance Camera'},\n   'img_src': 'https://mars.nasa.gov/msl-raw-images/proj/msl/redops/ods/surface/sol/02809/opgs/edr/rcam/RRB_646860185EDR_F0810628RHAZ00337M_.JPG',\n   'earth_date': '2020-07-01',\n   'rover': {'id': 5,\n    'name': 'Curiosity',\n    'landing_date': '2012-08-06',\n    'launch_date': '2011-11-26',\n    'status': 'active'}},\n  {'id': 754125,\n   'sol': 2809,\n   'camera': {'id': 21,\n    'name': 'RHAZ',\n    'rover_id': 5,\n    'full_name': 'Rear Hazard Avoidance Camera'},\n   'img_src': 'https://mars.nasa.gov/msl-raw-images/proj/msl/redops/ods/surface/sol/02809/opgs/edr/rcam/RLB_646860185EDR_F0810628RHAZ00337M_.JPG',\n   'earth_date': '2020-07-01',\n   'rover': {'id': 5,\n    'name': 'Curiosity',\n    'landing_date': '2012-08-06',\n    'launch_date': '2011-11-26',\n    'status': 'active'}},\n  {'id': 754126,\n   'sol': 2809,\n   'camera': {'id': 26,\n    'name': 'NAVCAM',\n    'rover_id': 5,\n    'full_name': 'Navigation Camera'},\n   'img_src': 'https://mars.nasa.gov/msl-raw-images/proj/msl/redops/ods/surface/sol/02809/opgs/edr/ncam/NLB_646869070EDR_F0810628NCAM00229M_.JPG',\n   'earth_date': '2020-07-01',\n   'rover': {'id': 5,\n    'name': 'Curiosity',\n    'landing_date': '2012-08-06',\n    'launch_date': '2011-11-26',\n    'status': 'active'}},\n  {'id': 754127,\n   'sol': 2809,\n   'camera': {'id': 26,\n    'name': 'NAVCAM',\n    'rover_id': 5,\n    'full_name': 'Navigation Camera'},\n   'img_src': 'https://mars.nasa.gov/msl-raw-images/proj/msl/redops/ods/surface/sol/02809/opgs/edr/ncam/NLB_646860211EDR_F0810628NCAM00229M_.JPG',\n   'earth_date': '2020-07-01',\n   'rover': {'id': 5,\n    'name': 'Curiosity',\n    'landing_date': '2012-08-06',\n    'launch_date': '2011-11-26',\n    'status': 'active'}},\n  {'id': 754128,\n   'sol': 2809,\n   'camera': {'id': 26,\n    'name': 'NAVCAM',\n    'rover_id': 5,\n    'full_name': 'Navigation Camera'},\n   'img_src': 'https://mars.nasa.gov/msl-raw-images/proj/msl/redops/ods/surface/sol/02809/opgs/edr/ncam/NRB_646869070EDR_F0810628NCAM00229M_.JPG',\n   'earth_date': '2020-07-01',\n   'rover': {'id': 5,\n    'name': 'Curiosity',\n    'landing_date': '2012-08-06',\n    'launch_date': '2011-11-26',\n    'status': 'active'}},\n  {'id': 754129,\n   'sol': 2809,\n   'camera': {'id': 26,\n    'name': 'NAVCAM',\n    'rover_id': 5,\n    'full_name': 'Navigation Camera'},\n   'img_src': 'https://mars.nasa.gov/msl-raw-images/proj/msl/redops/ods/surface/sol/02809/opgs/edr/ncam/NRB_646860211EDR_F0810628NCAM00229M_.JPG',\n   'earth_date': '2020-07-01',\n   'rover': {'id': 5,\n    'name': 'Curiosity',\n    'landing_date': '2012-08-06',\n    'launch_date': '2011-11-26',\n    'status': 'active'}}]}"
     },
     "execution_count": 51,
     "metadata": {},
     "output_type": "execute_result"
    }
   ],
   "source": [
    "response.json()"
   ],
   "metadata": {
    "collapsed": false,
    "pycharm": {
     "name": "#%%\n"
    }
   }
  },
  {
   "cell_type": "code",
   "execution_count": 48,
   "outputs": [
    {
     "name": "stdout",
     "output_type": "stream",
     "text": [
      "Найдено 12 фотографий.\n"
     ]
    },
    {
     "data": {
      "text/plain": "'https://mars.nasa.gov/msl-raw-images/proj/msl/redops/ods/surface/sol/02809/opgs/edr/rcam/RLB_646860185EDR_F0810628RHAZ00337M_.JPG'"
     },
     "execution_count": 48,
     "metadata": {},
     "output_type": "execute_result"
    }
   ],
   "source": [
    "photos = response.json()[\"photos\"]\n",
    "print(f'Найдено {len(photos)} фотографий.')\n",
    "photos[7][\"img_src\"]"
   ],
   "metadata": {
    "collapsed": false,
    "pycharm": {
     "name": "#%%\n"
    }
   }
  },
  {
   "cell_type": "code",
   "execution_count": 56,
   "outputs": [],
   "source": [
    "CLIENT_ID = \"CLIENT_SECRET\"\n",
    "CLIENT_SECRET = \"CLIENT_SECRET\"\n",
    "REDIRECT_URI = \"https://httpbin.org/anything\""
   ],
   "metadata": {
    "collapsed": false,
    "pycharm": {
     "name": "#%%\n"
    }
   }
  },
  {
   "cell_type": "code",
   "execution_count": 57,
   "outputs": [],
   "source": [
    "def create_oauth_link():\n",
    "    params = {\n",
    "        \"client_id\": CLIENT_ID,\n",
    "        \"redirect_uri\": REDIRECT_URI,\n",
    "        \"scope\": \"user\",\n",
    "        \"response_type\": \"code\",\n",
    "    }\n",
    "    endpoint = \"https://github.com/login/oauth/authorize\"\n",
    "    response = requests.get(endpoint, params=params)\n",
    "    url = response.url\n",
    "    return url"
   ],
   "metadata": {
    "collapsed": false,
    "pycharm": {
     "name": "#%%\n"
    }
   }
  },
  {
   "cell_type": "code",
   "execution_count": 58,
   "outputs": [],
   "source": [
    "def exchange_code_for_access_token(code=None):\n",
    "    params = {\n",
    "        \"client_id\": CLIENT_ID,\n",
    "        \"client_secret\": CLIENT_SECRET,\n",
    "        \"redirect_uri\": REDIRECT_URI,\n",
    "        \"code\": code,\n",
    "    }\n",
    "    headers = {\"Accept\": \"application/json\"}\n",
    "    endpoint = \"https://github.com/login/oauth/access_token\"\n",
    "    response = requests.post(endpoint, params=params, headers=headers).json()\n",
    "    return response[\"access_token\"]"
   ],
   "metadata": {
    "collapsed": false,
    "pycharm": {
     "name": "#%%\n"
    }
   }
  },
  {
   "cell_type": "code",
   "execution_count": null,
   "outputs": [],
   "source": [
    "link = create_oauth_link()\n",
    "print(f\"Перейдите по ссылке, чтобы запустить аутентификацию с помощью GitHub: {link}\")"
   ],
   "metadata": {
    "collapsed": false,
    "pycharm": {
     "name": "#%%\n",
     "is_executing": true
    }
   }
  },
  {
   "cell_type": "code",
   "execution_count": null,
   "outputs": [],
   "source": [
    "code = input(\"GitHub code: \")\n",
    "access_token = exchange_code_for_access_token(code)\n",
    "print(f\"Exchanged code {code} и access_token: {access_token}\")"
   ],
   "metadata": {
    "collapsed": false,
    "pycharm": {
     "name": "#%%\n",
     "is_executing": true
    }
   }
  },
  {
   "cell_type": "code",
   "execution_count": 63,
   "outputs": [
    {
     "name": "stdout",
     "output_type": "stream",
     "text": [
      "Dmitry Yudakov (in7erval) | private repositories: 4\n"
     ]
    }
   ],
   "source": [
    "def print_user_info(access_token=None):\n",
    "    headers = {\"Authorization\": f\"token {access_token}\"}\n",
    "    endpoint = \"https://api.github.com/user\"\n",
    "    response = requests.get(endpoint, headers=headers).json()\n",
    "    name = response[\"name\"]\n",
    "    username = response[\"login\"]\n",
    "    private_repos_count = response[\"total_private_repos\"]\n",
    "    print(f\"{name} ({username}) | private repositories: {private_repos_count}\")\n",
    "print_user_info(access_token)"
   ],
   "metadata": {
    "collapsed": false,
    "pycharm": {
     "name": "#%%\n"
    }
   }
  },
  {
   "cell_type": "code",
   "execution_count": 64,
   "outputs": [
    {
     "data": {
      "text/plain": "'21382832829'"
     },
     "execution_count": 64,
     "metadata": {},
     "output_type": "execute_result"
    }
   ],
   "source": [
    "response = requests.get(\"https://api.github.com/events?per_page=1&page=0\")\n",
    "response.json()[0][\"id\"]"
   ],
   "metadata": {
    "collapsed": false,
    "pycharm": {
     "name": "#%%\n"
    }
   }
  },
  {
   "cell_type": "code",
   "execution_count": 65,
   "outputs": [
    {
     "data": {
      "text/plain": "'21382838218'"
     },
     "execution_count": 65,
     "metadata": {},
     "output_type": "execute_result"
    }
   ],
   "source": [
    "response = requests.get(\"https://api.github.com/events?per_page=1&page=1\")\n",
    "response.json()[0][\"id\"]"
   ],
   "metadata": {
    "collapsed": false,
    "pycharm": {
     "name": "#%%\n"
    }
   }
  },
  {
   "cell_type": "code",
   "execution_count": 66,
   "outputs": [
    {
     "data": {
      "text/plain": "'21382842558'"
     },
     "execution_count": 66,
     "metadata": {},
     "output_type": "execute_result"
    }
   ],
   "source": [
    "response = requests.get(\"https://api.github.com/events?per_page=1&page=2\")\n",
    "response.json()[0][\"id\"]"
   ],
   "metadata": {
    "collapsed": false,
    "pycharm": {
     "name": "#%%\n"
    }
   }
  },
  {
   "cell_type": "code",
   "execution_count": 68,
   "outputs": [
    {
     "name": "stdout",
     "output_type": "stream",
     "text": [
      "Champions League Football GIF by UEFA | 2022-04-20 16:00:08 | https://giphy.com/gifs/uefa-goal-kick-bobby-firmino-E3gXCU0TPvmjEjLMsa\n",
      "Fashion Vintage GIF | 2022-04-20 14:37:03 | https://giphy.com/gifs/50s-british-path-f2amVVgFXoUAo\n",
      "Snoop Dogg Sunset GIF | 2022-04-20 15:41:08 | https://giphy.com/gifs/l39JrKv9ZZX2g\n"
     ]
    }
   ],
   "source": [
    "API_KEY = \"GIPHY_API_KEY\"\n",
    "endpoint = \"https://api.giphy.com/v1/gifs/trending\"\n",
    "params = {\"api_key\": API_KEY, \"limit\": 3, \"rating\": \"g\"}\n",
    "response = requests.get(endpoint, params=params).json()\n",
    "for gif in response[\"data\"]:\n",
    "    title = gif[\"title\"]\n",
    "    trending_date = gif[\"trending_datetime\"]\n",
    "    url = gif[\"url\"]\n",
    "    print(f\"{title} | {trending_date} | {url}\")"
   ],
   "metadata": {
    "collapsed": false,
    "pycharm": {
     "name": "#%%\n"
    }
   }
  },
  {
   "cell_type": "code",
   "execution_count": 71,
   "outputs": [],
   "source": [
    "import requests\n",
    "from datetime import date, timedelta"
   ],
   "metadata": {
    "collapsed": false,
    "pycharm": {
     "name": "#%%\n"
    }
   }
  },
  {
   "cell_type": "code",
   "execution_count": 76,
   "outputs": [
    {
     "name": "stdout",
     "output_type": "stream",
     "text": [
      "Total Confirmed Covid-19 cased in Russia: 17829009\n"
     ]
    }
   ],
   "source": [
    "today = date.today()\n",
    "yesterday = today - timedelta(days=1)\n",
    "country = \"Russia\"\n",
    "endpoint = f\"https://api.covid19api.com/country/{country}/status/confirmed\"\n",
    "params = {\"from\": str(yesterday), \"to\": str(today)}\n",
    "response = requests.get(endpoint, params=params).json()\n",
    "total_confirmed = 0\n",
    "for day in response:\n",
    "    cases = day.get(\"Cases\", 0)\n",
    "    total_confirmed += cases\n",
    "print(f\"Total Confirmed Covid-19 cased in {country}: {total_confirmed}\")"
   ],
   "metadata": {
    "collapsed": false,
    "pycharm": {
     "name": "#%%\n"
    }
   }
  },
  {
   "cell_type": "code",
   "execution_count": 77,
   "outputs": [
    {
     "name": "stdout",
     "output_type": "stream",
     "text": [
      "Моби Дик, или Белый кит (2014-10-17 | описание отсутствует)\n",
      "Моби Дик, или, Белый кит (2020 | описание отсутствует)\n",
      "Моби Дик, или Белый Кит (2012 | В центре этого уникального произведения - погоня за Белым Китом. Захватывающий сюжет, эпические морские картины, описания ярких человеческих характеров в гармоничном сочетании с философскими обобщениями делают книгу шедевром мировой литературы)\n"
     ]
    }
   ],
   "source": [
    "endpoint = \"https://www.googleapis.com/books/v1/volumes\"\n",
    "query = \"Моби Дик\"\n",
    "params = {\"q\": query, \"maxResults\": 3}\n",
    "response = requests.get(endpoint, params=params).json()\n",
    "for book in response[\"items\"]:\n",
    "    volume = book[\"volumeInfo\"]\n",
    "    title = volume[\"title\"]\n",
    "    published = volume.get(\"publishedDate\", \"год издания неизвестен\")\n",
    "    description = volume.get(\"description\", \"описание отсутствует\")\n",
    "    print(f\"{title} ({published} | {description})\")"
   ],
   "metadata": {
    "collapsed": false,
    "pycharm": {
     "name": "#%%\n"
    }
   }
  },
  {
   "cell_type": "code",
   "execution_count": null,
   "outputs": [],
   "source": [],
   "metadata": {
    "collapsed": false,
    "pycharm": {
     "name": "#%%\n"
    }
   }
  }
 ],
 "metadata": {
  "kernelspec": {
   "display_name": "Python 3",
   "language": "python",
   "name": "python3"
  },
  "language_info": {
   "codemirror_mode": {
    "name": "ipython",
    "version": 3
   },
   "file_extension": ".py",
   "mimetype": "text/x-python",
   "name": "python",
   "nbconvert_exporter": "python",
   "pygments_lexer": "ipython3",
   "version": "3.8.3"
  }
 },
 "nbformat": 4,
 "nbformat_minor": 1
}